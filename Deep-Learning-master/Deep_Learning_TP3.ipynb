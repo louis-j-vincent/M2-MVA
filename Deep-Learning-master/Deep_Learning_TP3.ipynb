{
  "nbformat": 4,
  "nbformat_minor": 0,
  "metadata": {
    "colab": {
      "name": "MVA-MP3 Louis, Vincent.ipynb",
      "version": "0.3.2",
      "provenance": [],
      "collapsed_sections": [
        "WwtZe39ONAHk"
      ]
    },
    "kernelspec": {
      "name": "python3",
      "display_name": "Python 3"
    },
    "accelerator": "GPU"
  },
  "cells": [
    {
      "metadata": {
        "id": "pTgNFJuzNAHU",
        "colab_type": "code",
        "colab": {}
      },
      "cell_type": "code",
      "source": [
        "!pip install scikit-video\n",
        "\n",
        "import keras\n",
        "import numpy as np\n",
        "import io\n",
        "import base64\n",
        "from IPython.display import HTML\n",
        "import skvideo.io\n",
        "import cv2\n",
        "import json\n",
        "\n",
        "from keras.models import Sequential,model_from_json\n",
        "from keras.layers.core import Dense\n",
        "from keras.optimizers import sgd\n",
        "from keras.layers import Conv2D, MaxPooling2D, Activation, AveragePooling2D,Reshape,BatchNormalization\n",
        "import matplotlib.pyplot as plt\n",
        "import numpy as np"
      ],
      "execution_count": 0,
      "outputs": []
    },
    {
      "metadata": {
        "id": "G1rYj5QfNAHS",
        "colab_type": "text"
      },
      "cell_type": "markdown",
      "source": [
        "**You may need to install [OpenCV](https://pypi.python.org/pypi/opencv-python) and [scikit-video](http://www.scikit-video.org/stable/).**"
      ]
    },
    {
      "metadata": {
        "id": "J35y1HgyNAHe",
        "colab_type": "text"
      },
      "cell_type": "markdown",
      "source": [
        "# MiniProject #3: Deep Reinforcement Learning"
      ]
    },
    {
      "metadata": {
        "id": "gZFVCZ-0NAHf",
        "colab_type": "text"
      },
      "cell_type": "markdown",
      "source": [
        "__Notations__: $E_p$ is the expectation under probability $p$. Please justify each of your answer and widely comment your code."
      ]
    },
    {
      "metadata": {
        "id": "sdgPsAAzNAHh",
        "colab_type": "text"
      },
      "cell_type": "markdown",
      "source": [
        "# Context"
      ]
    },
    {
      "metadata": {
        "id": "tj9LVv8fNAHi",
        "colab_type": "text"
      },
      "cell_type": "markdown",
      "source": [
        "In a reinforcement learning algorithm, we modelize each step $t$ as an action $a_t$ obtained from a state $s_t$, i.e. $\\{(a_{t},s_{t})_{t\\leq T}\\}$ having the Markov property. We consider a discount factor $\\gamma \\in [0,1]$ that ensures convergence. The goal is to find among all the policies $\\pi$, one that maximizes the expected reward:\n",
        "\n",
        "\\begin{equation*}\n",
        "R(\\pi)=\\sum_{t\\leq T}E_{p^{\\pi}}[\\gamma^t r(s_{t},a_{t})] \\> ,\n",
        "\\end{equation*}\n",
        "\n",
        "where: \n",
        "\\begin{equation*}p^{\\pi}(a_{0},a_{1},s_{1},...,a_{T},s_{T})=p(a_{0})\\prod_{t=1}^{T}\\pi(a_{t}|s_{t})p(s_{t+1}|s_{t},a_{t}) \\> .\n",
        "\\end{equation*}\n",
        "\n",
        "We note the $Q$-function:\n",
        "\n",
        "\\begin{equation*}Q^\\pi(s,a)=E_{p^{\\pi}}[\\sum_{t\\leq T}\\gamma^{t}r(s_{t},a_{t})|s_{0}=s,a_{0}=a] \\> .\n",
        "\\end{equation*}\n",
        "\n",
        "Thus, the optimal Q function is:\n",
        "\\begin{equation*}\n",
        "Q^*(s,a)=\\max_{\\pi}Q^\\pi(s,a) \\> .\n",
        "\\end{equation*}\n",
        "\n",
        "In this project, we will apply the deep reinforcement learning techniques to a simple game: an agent will have to learn from scratch a policy that will permit it maximizing a reward."
      ]
    },
    {
      "metadata": {
        "id": "WwtZe39ONAHk",
        "colab_type": "text"
      },
      "cell_type": "markdown",
      "source": [
        "## The environment, the agent and the game"
      ]
    },
    {
      "metadata": {
        "id": "KbvimOrlNAHl",
        "colab_type": "text"
      },
      "cell_type": "markdown",
      "source": [
        "### The environment"
      ]
    },
    {
      "metadata": {
        "id": "Q4DgS_OyNAHl",
        "colab_type": "text"
      },
      "cell_type": "markdown",
      "source": [
        "```Environment``` is an abstract class that represents the states, rewards, and actions to obtain the new state."
      ]
    },
    {
      "metadata": {
        "id": "73FnmFTnNAHn",
        "colab_type": "code",
        "colab": {}
      },
      "cell_type": "code",
      "source": [
        "class Environment(object):\n",
        "    def __init__(self):\n",
        "        pass\n",
        "\n",
        "    def act(self, act):\n",
        "        \"\"\"\n",
        "        One can act on the environment and obtain its reaction:\n",
        "        - the new state\n",
        "        - the reward of the new state\n",
        "        - should we continue the game?\n",
        "\n",
        "        :return: state, reward, game_over\n",
        "        \"\"\"\n",
        "        pass\n",
        "\n",
        "\n",
        "    def reset(self):\n",
        "        \"\"\"\n",
        "        Reinitialize the environment to a random state and returns\n",
        "        the original state\n",
        "\n",
        "        :return: state\n",
        "        \"\"\"\n",
        "        pass\n",
        "    \n",
        "    def draw(self):\n",
        "        \"\"\"\n",
        "        Visualize in the console or graphically the current state\n",
        "        \"\"\"\n",
        "        pass"
      ],
      "execution_count": 0,
      "outputs": []
    },
    {
      "metadata": {
        "id": "_6bx_jMfNAHr",
        "colab_type": "text"
      },
      "cell_type": "markdown",
      "source": [
        "The method ```act``` allows to act on the environment at a given state $s_t$ (stored internally), via action $a_t$. The method will return the new state $s_{t+1}$, the reward $r(s_{t},a_{t})$ and determines if $t\\leq T$ (*game_over*).\n",
        "\n",
        "The method ```reset``` simply reinitializes the environment to a random state $s_0$.\n",
        "\n",
        "The method ```draw``` displays the current state $s_t$ (this is useful to check the behavior of the Agent).\n",
        "\n",
        "We modelize $s_t$ as a tensor, while $a_t$ is an integer."
      ]
    },
    {
      "metadata": {
        "id": "leeYs391NAHv",
        "colab_type": "text"
      },
      "cell_type": "markdown",
      "source": [
        "### The Agent"
      ]
    },
    {
      "metadata": {
        "id": "Ip4v35GONAHw",
        "colab_type": "text"
      },
      "cell_type": "markdown",
      "source": [
        "The goal of the ```Agent``` is to interact with the ```Environment``` by proposing actions $a_t$ obtained from a given state $s_t$ to attempt to maximize its __reward__ $r(s_t,a_t)$. We propose the following abstract class:"
      ]
    },
    {
      "metadata": {
        "id": "sC4fvwizNAHy",
        "colab_type": "code",
        "colab": {}
      },
      "cell_type": "code",
      "source": [
        "class Agent(object):\n",
        "    def __init__(self, epsilon=0.1, n_action=4):\n",
        "        self.epsilon = epsilon\n",
        "        self.n_action = n_action\n",
        "    \n",
        "    def set_epsilon(self,e):\n",
        "        self.epsilon = e\n",
        "\n",
        "    def act(self,s,train=True):\n",
        "        \"\"\" This function should return the next action to do:\n",
        "        an integer between 0 and 4 (not included) with a random exploration of epsilon\"\"\"\n",
        "        if train:\n",
        "            if np.random.rand() <= self.epsilon:\n",
        "                a = np.random.randint(0, self.n_action, size=1)[0]\n",
        "            else:\n",
        "                a = self.learned_act(s)\n",
        "        else: # in some cases, this can improve the performance.. remove it if poor performances\n",
        "            a = self.learned_act(s)\n",
        "\n",
        "        return a\n",
        "\n",
        "    def learned_act(self,s):\n",
        "        \"\"\" Act via the policy of the agent, from a given state s\n",
        "        it proposes an action a\"\"\"\n",
        "        pass\n",
        "\n",
        "    def reinforce(self, s, n_s, a, r, game_over_):\n",
        "        \"\"\" This function is the core of the learning algorithm. \n",
        "        It takes as an input the current state s_, the next state n_s_\n",
        "        the action a_ used to move from s_ to n_s_ and the reward r_.\n",
        "        \n",
        "        Its goal is to learn a policy.\n",
        "        \"\"\"\n",
        "        pass\n",
        "\n",
        "    def save(self):\n",
        "        \"\"\" This function returns basic stats if applicable: the\n",
        "        loss and/or the model\"\"\"\n",
        "        pass\n",
        "\n",
        "    def load(self):\n",
        "        \"\"\" This function allows to restore a model\"\"\"\n",
        "        pass"
      ],
      "execution_count": 0,
      "outputs": []
    },
    {
      "metadata": {
        "id": "CjuCtnVvNAH3",
        "colab_type": "text"
      },
      "cell_type": "markdown",
      "source": [
        "***\n",
        "__Question 1__:\n",
        "Explain the function act. Why is ```epsilon``` essential?"
      ]
    },
    {
      "metadata": {
        "id": "y6t7j0b4NAH5",
        "colab_type": "text"
      },
      "cell_type": "markdown",
      "source": [
        "(you can use Markdown and Latex)\n",
        "\n",
        "It allows us to give a proper balance between exploitation and exploration ( we explore with probability $\\epsilon$ )."
      ]
    },
    {
      "metadata": {
        "id": "xpDIG9Y1NAH7",
        "colab_type": "text"
      },
      "cell_type": "markdown",
      "source": [
        "***\n",
        "### The Game"
      ]
    },
    {
      "metadata": {
        "id": "OGZ9KyxcNAH9",
        "colab_type": "text"
      },
      "cell_type": "markdown",
      "source": [
        "The ```Agent``` and the ```Environment``` work in an interlaced way as in the following (take some time to understand this code as it is the core of the project)\n",
        "\n",
        "```python\n",
        "\n",
        "epoch = 300\n",
        "env = Environment()\n",
        "agent = Agent()\n",
        "\n",
        "\n",
        "# Number of won games\n",
        "score = 0\n",
        "loss = 0\n",
        "\n",
        "\n",
        "for e in range(epoch):\n",
        "    # At each epoch, we restart to a fresh game and get the initial state\n",
        "    state = env.reset()\n",
        "    # This assumes that the games will end\n",
        "    game_over = False\n",
        "\n",
        "    win = 0\n",
        "    lose = 0\n",
        "    \n",
        "    while not game_over:\n",
        "        # The agent performs an action\n",
        "        action = agent.act(state)\n",
        "\n",
        "        # Apply an action to the environment, get the next state, the reward\n",
        "        # and if the games end\n",
        "        prev_state = state\n",
        "        state, reward, game_over = env.act(action)\n",
        "\n",
        "        # Update the counters\n",
        "        if reward > 0:\n",
        "            win = win + reward\n",
        "        if reward < 0:\n",
        "            lose = lose -reward\n",
        "\n",
        "        # Apply the reinforcement strategy\n",
        "        loss = agent.reinforce(prev_state, state,  action, reward, game_over)\n",
        "\n",
        "    # Save as a mp4\n",
        "    if e % 10 == 0:\n",
        "        env.draw(e)\n",
        "\n",
        "    # Update stats\n",
        "    score += win-lose\n",
        "\n",
        "    print(\"Epoch {:03d}/{:03d} | Loss {:.4f} | Win/lose count {}/{} ({})\"\n",
        "          .format(e, epoch, loss, win, lose, win-lose))\n",
        "    agent.save()\n",
        "```"
      ]
    },
    {
      "metadata": {
        "id": "xpnYKrXNNAIA",
        "colab_type": "text"
      },
      "cell_type": "markdown",
      "source": [
        "# The game, *eat cheese*"
      ]
    },
    {
      "metadata": {
        "id": "tNwQxughNAIB",
        "colab_type": "text"
      },
      "cell_type": "markdown",
      "source": [
        "A rat runs on an island and tries to eat as much as possible. The island is subdivided into $N\\times N$ cells, in which there are cheese (+0.5) and poisonous cells (-1). The rat has a visibility of 2 cells (thus it can see $5^2$ cells). The rat is given a time $T$ to accumulate as much food as possible. It can perform 4 actions: going up, down, left, right. \n",
        "\n",
        "The goal is to code an agent to solve this task that will learn by trial and error. We propose the following environment:"
      ]
    },
    {
      "metadata": {
        "id": "jaEntaVNNAID",
        "colab_type": "code",
        "colab": {}
      },
      "cell_type": "code",
      "source": [
        "class Environment(object):\n",
        "    def __init__(self, grid_size=10, max_time=500, temperature=0.1):\n",
        "        grid_size = grid_size+4\n",
        "        self.grid_size = grid_size\n",
        "        self.max_time = max_time\n",
        "        self.temperature = temperature\n",
        "\n",
        "        #board on which one plays\n",
        "        self.board = np.zeros((grid_size,grid_size))\n",
        "        self.position = np.zeros((grid_size,grid_size))\n",
        "\n",
        "        # coordinate of the cat\n",
        "        self.x = 0\n",
        "        self.y = 1\n",
        "\n",
        "        # self time\n",
        "        self.t = 0\n",
        "\n",
        "        self.scale=16\n",
        "\n",
        "        self.to_draw = np.zeros((max_time+2, grid_size*self.scale, grid_size*self.scale, 3))\n",
        "\n",
        "\n",
        "    def draw(self,e):\n",
        "        skvideo.io.vwrite(str(e) + '.mp4', self.to_draw)\n",
        "\n",
        "    def get_frame(self,t):\n",
        "        b = np.zeros((self.grid_size,self.grid_size,3))+128\n",
        "        b[self.board>0,0] = 256\n",
        "        b[self.board < 0, 2] = 256\n",
        "        b[self.x,self.y,:]=256\n",
        "        b[-2:,:,:]=0\n",
        "        b[:,-2:,:]=0\n",
        "        b[:2,:,:]=0\n",
        "        b[:,:2,:]=0\n",
        "        \n",
        "        b =  cv2.resize(b, None, fx=self.scale, fy=self.scale, interpolation=cv2.INTER_NEAREST)\n",
        "\n",
        "        self.to_draw[t,:,:,:]=b\n",
        "\n",
        "\n",
        "    def act(self, action):\n",
        "        \"\"\"This function returns the new state, reward and decides if the\n",
        "        game ends.\"\"\"\n",
        "\n",
        "        self.get_frame(int(self.t))\n",
        "        \n",
        "        pos = self.position\n",
        "\n",
        "        self.position = np.zeros((self.grid_size, self.grid_size))\n",
        "\n",
        "        self.position[0:2,:]= -1\n",
        "        self.position[:,0:2] = -1\n",
        "        self.position[-2:, :] = -1\n",
        "        self.position[-2:, :] = -1\n",
        "\n",
        "        self.position[self.x, self.y] = 1\n",
        "        \n",
        "        if action == 0:\n",
        "            if self.x == self.grid_size-3:\n",
        "                self.x = self.x-1\n",
        "            else:\n",
        "                self.x = self.x + 1\n",
        "        elif action == 1:\n",
        "            if self.x == 2:\n",
        "                self.x = self.x+1\n",
        "            else:\n",
        "                self.x = self.x-1\n",
        "        elif action == 2:\n",
        "            if self.y == self.grid_size - 3:\n",
        "                self.y = self.y - 1\n",
        "            else:\n",
        "                self.y = self.y + 1\n",
        "        elif action == 3:\n",
        "            if self.y == 2:\n",
        "                self.y = self.y + 1\n",
        "            else:\n",
        "                self.y = self.y - 1\n",
        "        else:\n",
        "            RuntimeError('Error: action not recognized')\n",
        "\n",
        "        self.t = self.t + 1\n",
        "        reward = self.board[self.x, self.y]\n",
        "        self.board[self.x, self.y] = 0\n",
        "        game_over = self.t > self.max_time\n",
        "        state = np.concatenate((self.board.reshape(self.grid_size, self.grid_size,1),\n",
        "                        self.position.reshape(self.grid_size, self.grid_size,1)),axis=2)\n",
        "        state = state[self.x-2:self.x+3,self.y-2:self.y+3,:]\n",
        "\n",
        "        return state, reward, game_over\n",
        "\n",
        "    def reset(self):\n",
        "        \"\"\"This function resets the game and returns the initial state\"\"\"\n",
        "\n",
        "        self.x = np.random.randint(3, self.grid_size-3, size=1)[0]\n",
        "        self.y = np.random.randint(3, self.grid_size-3, size=1)[0]\n",
        "\n",
        "\n",
        "        bonus = 0.5*np.random.binomial(1,self.temperature,size=self.grid_size**2)\n",
        "        bonus = bonus.reshape(self.grid_size,self.grid_size)\n",
        "\n",
        "        malus = -1.0*np.random.binomial(1,self.temperature,size=self.grid_size**2)\n",
        "        malus = malus.reshape(self.grid_size, self.grid_size)\n",
        "\n",
        "        self.to_draw = np.zeros((self.max_time+2, self.grid_size*self.scale, self.grid_size*self.scale, 3))\n",
        "\n",
        "\n",
        "        malus[bonus>0]=0\n",
        "\n",
        "        self.board = bonus + malus\n",
        "\n",
        "        self.position = np.zeros((self.grid_size, self.grid_size))\n",
        "        self.position[0:2,:]= -1\n",
        "        self.position[:,0:2] = -1\n",
        "        self.position[-2:, :] = -1\n",
        "        self.position[-2:, :] = -1\n",
        "        self.board[self.x,self.y] = 0\n",
        "        \n",
        "        self.t = 0\n",
        "\n",
        "        #print('board')\n",
        "        #print(self.board)\n",
        "        #print('pos')\n",
        "        #print(self.position)\n",
        "        #print(self.grid_size)\n",
        "        state = np.concatenate((\n",
        "                               self.board.reshape(self.grid_size, self.grid_size,1),\n",
        "                        self.position.reshape(self.grid_size, self.grid_size,1)),axis=2)\n",
        "        #print('big state')\n",
        "        #print(state)\n",
        "\n",
        "        state = state[self.x - 2:self.x + 3, self.y - 2:self.y + 3, :]\n",
        "        return state"
      ],
      "execution_count": 0,
      "outputs": []
    },
    {
      "metadata": {
        "id": "FTCNSkPcNAIJ",
        "colab_type": "text"
      },
      "cell_type": "markdown",
      "source": [
        "The following elements are important because they correspond to the hyper parameters for this project:"
      ]
    },
    {
      "metadata": {
        "id": "Dz7j8K17NAIK",
        "colab_type": "code",
        "colab": {}
      },
      "cell_type": "code",
      "source": [
        "# parameters\n",
        "size = 13\n",
        "T=20\n",
        "temperature=0.3\n",
        "epochs_train=50 # set small when debugging\n",
        "epochs_test=5 # set small when debugging\n",
        "\n",
        "# display videos\n",
        "def display_videos(name):\n",
        "    video = io.open(name, 'r+b').read()\n",
        "    encoded = base64.b64encode(video)\n",
        "    return '''<video alt=\"test\" controls>\n",
        "                <source src=\"data:video/mp4;base64,{0}\" type=\"video/mp4\" />\n",
        "             </video>'''.format(encoded.decode('ascii'))"
      ],
      "execution_count": 0,
      "outputs": []
    },
    {
      "metadata": {
        "id": "Z9hzGUVYik0X",
        "colab_type": "code",
        "colab": {}
      },
      "cell_type": "code",
      "source": [
        ""
      ],
      "execution_count": 0,
      "outputs": []
    },
    {
      "metadata": {
        "id": "yUo7jahcNAIP",
        "colab_type": "text"
      },
      "cell_type": "markdown",
      "source": [
        "__Question 2__ Explain the use of the arrays ```position``` and ```board```."
      ]
    },
    {
      "metadata": {
        "id": "wZoZaazANAIQ",
        "colab_type": "text"
      },
      "cell_type": "markdown",
      "source": [
        "The position matrix allows us to know the position of our agent at each step in time.\n",
        "\n",
        "The board matrix keeps track of where the bonus and malus are."
      ]
    },
    {
      "metadata": {
        "id": "6sYZAZrdNAIR",
        "colab_type": "text"
      },
      "cell_type": "markdown",
      "source": [
        "## Random Agent"
      ]
    },
    {
      "metadata": {
        "id": "QFJLvG8ENAIR",
        "colab_type": "text"
      },
      "cell_type": "markdown",
      "source": [
        "***\n",
        "__Question 3__ Implement a random Agent (only ```learned_act``` needs to be implemented):"
      ]
    },
    {
      "metadata": {
        "id": "GovEGVJeNAIT",
        "colab_type": "code",
        "colab": {}
      },
      "cell_type": "code",
      "source": [
        "class RandomAgent(Agent):\n",
        "    def __init__(self):\n",
        "        super(RandomAgent, self).__init__()\n",
        "        pass\n",
        "\n",
        "    def learned_act(self, s):\n",
        "      return np.random.randint(4)"
      ],
      "execution_count": 0,
      "outputs": []
    },
    {
      "metadata": {
        "id": "WSuWbSyQNAIX",
        "colab_type": "text"
      },
      "cell_type": "markdown",
      "source": [
        "***\n",
        "***\n",
        "__Question 4__ Visualize the game moves. You need to fill in the following function for the evaluation:"
      ]
    },
    {
      "metadata": {
        "id": "eiq2Jko9NAIY",
        "colab_type": "code",
        "colab": {}
      },
      "cell_type": "code",
      "source": [
        "def test(agent,env,epochs,prefix=''):\n",
        "    # Number of won games\n",
        "    score = 0\n",
        "        \n",
        "    for e in range(epochs):\n",
        "        \n",
        "        state = env.reset()\n",
        "        # This assumes that the games will end\n",
        "        game_over = False\n",
        "\n",
        "        win = 0\n",
        "        lose = 0\n",
        "\n",
        "        while not game_over:\n",
        "            # The agent performs an action\n",
        "            action = agent.act(state)\n",
        "\n",
        "            # Apply an action to the environment, get the next state, the reward\n",
        "            # and if the games end\n",
        "            prev_state = state\n",
        "            state, reward, game_over = env.act(action)\n",
        "            #print(state)\n",
        "\n",
        "            # Update the counters\n",
        "            if reward > 0:\n",
        "                win = win + reward\n",
        "            if reward < 0:\n",
        "                lose = lose -reward\n",
        "\n",
        "            # Apply the reinforcement strategy\n",
        "            loss = agent.reinforce(prev_state, state,  action, reward, game_over)\n",
        "\n",
        "            # Save as a mp4\n",
        "            env.draw(prefix+str(e))\n",
        "\n",
        "        # Update stats\n",
        "        score = score + win-lose\n",
        "\n",
        "        print(\"Win/lose count {}/{}. Average score ({})\"\n",
        "              .format(win, lose, score/(1+e)))\n",
        "    print('Final score: '+str(score/epochs))\n",
        "    "
      ],
      "execution_count": 0,
      "outputs": []
    },
    {
      "metadata": {
        "id": "GfJzqRx9NAIc",
        "colab_type": "code",
        "colab": {}
      },
      "cell_type": "code",
      "source": [
        "# Initialize the game\n",
        "env = Environment(grid_size=size, max_time=20,temperature=temperature)\n",
        "\n",
        "# Initialize the agent!\n",
        "agent = RandomAgent()\n",
        "\n",
        "test(agent,env,20,prefix='random')\n",
        "HTML(display_videos('random0.mp4'))"
      ],
      "execution_count": 0,
      "outputs": []
    },
    {
      "metadata": {
        "id": "kZFkxbCaNAIj",
        "colab_type": "text"
      },
      "cell_type": "markdown",
      "source": [
        "***\n",
        "## DQN"
      ]
    },
    {
      "metadata": {
        "id": "1Cw4aNBKNAIl",
        "colab_type": "text"
      },
      "cell_type": "markdown",
      "source": [
        "Let us assume here that $T=\\infty$.\n",
        "\n",
        "***\n",
        "__Question 5__ Let $\\pi$ be a policy, show that:\n",
        "\n",
        "\\begin{equation*}\n",
        "Q^{\\pi}(s,a)=E_{(s',a')\\sim p(.|s,a)}[r(s,a)+\\gamma Q^{\\pi}(s',a')]\n",
        "\\end{equation*}\n",
        "\n",
        "Then, show that for the optimal policy $\\pi^*$ (we assume its existence), the following holds: \n",
        "\n",
        "\\begin{equation*}\n",
        "Q^{*}(s,a)=E_{s'\\sim \\pi^*(.|s,a)}[r(s,a)+\\gamma\\max_{a'}Q^{*}(s',a')].\n",
        "\\end{equation*}\n",
        "Finally, deduce that a plausible objective is:\n",
        "\n",
        "\\begin{equation*}\n",
        "\\mathcal{L}(\\theta)=E_{s' \\sim \\pi^*(.|s,a)}\\Vert r+\\gamma\\max\\max_{a'}Q(s',a',\\theta)-Q(s,a,\\theta)\\Vert^{2}.\n",
        "\\end{equation*}\n",
        "\n",
        "\n"
      ]
    },
    {
      "metadata": {
        "id": "4EMND1FSNAIl",
        "colab_type": "text"
      },
      "cell_type": "markdown",
      "source": [
        "**Answer**\n",
        "\n",
        "Using the definition of $Q^{\\pi}(s,a)$:\n",
        "\\begin{equation*}\n",
        "Q^{\\pi}(s,a)=\\sum_{s'}\\mathbb{P}(s'|s,a)[r(s,a) + \\gamma\\sum_{a'}\\pi(s',a')Q^{\\pi}(s',a')] \\\\\n",
        "= \\mathbb{E}_{s' \\sim p(.|s,a)}[r(s,a) + \\gamma\\mathbb{E}_{a' \\sim \\pi(s')}Q^{\\pi}(s',a')] \\\\\n",
        "= \\mathbb{E}_{s' \\sim p(.|s,a)}\\mathbb{E}_{a' \\sim \\pi(s')}[r(s,a) + \\gamma Q^{\\pi}(s',a')] \\\\\n",
        "= \\mathbb{E}_{(s',a')\\sim p(.|s,a)}[r(s,a)+\\gamma \n",
        "Q^{\\pi}(s',a')]\n",
        "\\end{equation*}\n",
        "\n",
        "The optimal policy is the one that chosen the set of actions that maximizes $Q^{\\pi}(s,a)$, it follows directly that :\n",
        "\n",
        "\\begin{equation*}\n",
        "Q^{*}(s,a)=E_{s'\\sim \\pi^*(.|s,a)}[r(s,a)+\\gamma\\max_{a'}Q^{*}(s',a')].\n",
        "\\end{equation*}\n",
        "\n",
        "Because we want to approximate $Q^{*}(s,a)$, a good loss would be:\n",
        "\n",
        "\\begin{equation*}\n",
        "\\mathcal{L}(\\theta)= (Q(s,a,\\theta) - Q^{*}(s,a))^2.\n",
        "\\end{equation*}\n",
        "\n",
        "Because we don't have access to $Q^{*}(s,a)$ directly, we can approximate it by $E_{s' \\sim \\pi^*(.|s,a)}\\Vert r+\\gamma\\max\\max_{a'}Q(s',a',\\theta)$, therefore resulting in the following loss:\n",
        "\n",
        "\\begin{equation*}\n",
        "\\mathcal{L}(\\theta)=E_{s' \\sim \\pi^*(.|s,a)}\\Vert r+\\gamma\\max\\max_{a'}Q(s',a',\\theta)-Q(s,a,\\theta)\\Vert^{2}.\n",
        "\\end{equation*}\n",
        "\n"
      ]
    },
    {
      "metadata": {
        "id": "UEfquHhoNAIn",
        "colab_type": "text"
      },
      "cell_type": "markdown",
      "source": [
        "***\n",
        "The DQN-learning algorithm relies on these derivations to train the parameters $\\theta$ of a Deep Neural Network:\n",
        "\n",
        "1. At the state $s_t$, select the action $a_t$ with best reward using $Q_t$ and store the results;\n",
        "\n",
        "2. Obtain the new state $s_{t+1}$ from the environment $p$;\n",
        "\n",
        "3. Store $(s_t,a_t,s_{t+1})$;\n",
        "\n",
        "4. Obtain $Q_{t+1}$ by minimizing  $\\mathcal{L}$ from a recovered batch from the previously stored results.\n",
        "\n",
        "***\n",
        "__Question 6__ Implement the class ```Memory``` that stores moves (in a replay buffer) via ```remember``` and provides a ```random_access``` to these. Specify a maximum memory size to avoid side effects. You can for example use a ```list()``` and set by default ```max_memory=100```."
      ]
    },
    {
      "metadata": {
        "id": "NjZsbSreNAIp",
        "colab_type": "code",
        "colab": {}
      },
      "cell_type": "code",
      "source": [
        "class Memory(object):\n",
        "    def __init__(self, max_memory=100):\n",
        "      self.max_memory = max_memory\n",
        "      self.memory = list()\n",
        "      self.mem_size = 0\n",
        "\n",
        "    def remember(self, m):\n",
        "      self.memory.append(m)\n",
        "      self.mem_size += 1\n",
        "      if self.mem_size > self.max_memory:\n",
        "          self.memory = self.memory[1:]\n",
        "          self.mem_size -= 1\n",
        "\n",
        "    def random_access(self):\n",
        "      return self.memory[np.random.randint(self.mem_size)]"
      ],
      "execution_count": 0,
      "outputs": []
    },
    {
      "metadata": {
        "id": "mvZFbuSCNAIv",
        "colab_type": "text"
      },
      "cell_type": "markdown",
      "source": [
        "***\n",
        "The pipeline we will use for training is given below:"
      ]
    },
    {
      "metadata": {
        "id": "g8qQK-aFNAIx",
        "colab_type": "code",
        "colab": {}
      },
      "cell_type": "code",
      "source": [
        "def train(agent,env,epoch,prefix=''):\n",
        "    # Number of won games\n",
        "    score = 0\n",
        "    loss = 0\n",
        "    mean_score = 0\n",
        "\n",
        "    for e in range(epoch):\n",
        "        # At each epoch, we restart to a fresh game and get the initial state\n",
        "        state = env.reset()\n",
        "        # This assumes that the games will terminate\n",
        "        game_over = False\n",
        "\n",
        "        win = 0\n",
        "        lose = 0\n",
        "\n",
        "        while not game_over:\n",
        "            # The agent performs an action\n",
        "            action = agent.act(state)\n",
        "\n",
        "            # Apply an action to the environment, get the next state, the reward\n",
        "            # and if the games end\n",
        "            prev_state = state\n",
        "            state, reward, game_over = env.act(action)\n",
        "\n",
        "            # Update the counters\n",
        "            if reward > 0:\n",
        "                win = win + reward\n",
        "            if reward < 0:\n",
        "                lose = lose - reward\n",
        "\n",
        "            # Apply the reinforcement strategy\n",
        "            loss = agent.reinforce(prev_state, state,  action, reward, game_over)\n",
        "\n",
        "        # Save as a mp4\n",
        "        if e % 10 == 0:\n",
        "            env.draw(prefix+str(e))\n",
        "\n",
        "        # Update stats\n",
        "        score += win-lose\n",
        "        \n",
        "        #print(e, epoch, loss, win, lose, win-lose)\n",
        "\n",
        "        print(\"Epoch {:03d}/{:03d} | Loss {:.4f} | Win/lose count {}/{} ({})\"\n",
        "              .format(e, epoch, loss, win, lose, win-lose))\n",
        "        agent.save(name_weights=prefix+'model.h5',name_model=prefix+'model.json')"
      ],
      "execution_count": 0,
      "outputs": []
    },
    {
      "metadata": {
        "id": "zyDtM_qsNAI4",
        "colab_type": "text"
      },
      "cell_type": "markdown",
      "source": [
        "***\n",
        "__Question 7__ Implement the DQN training algorithm using a cascade of fully connected layers. You can use different learning rate, batch size or memory size parameters. In particular, the loss might oscillate while the player will start to win the games. You have to find a good criterium."
      ]
    },
    {
      "metadata": {
        "id": "IJfnuu0lNAI6",
        "colab_type": "code",
        "colab": {}
      },
      "cell_type": "code",
      "source": [
        "class DQN(Agent):\n",
        "    def __init__(self, grid_size,  epsilon = 0.1, memory_size=100, batch_size = 16,n_state=2):\n",
        "        super(DQN, self).__init__(epsilon = epsilon)\n",
        "\n",
        "        # Discount for Q learning\n",
        "        self.discount = 0.99\n",
        "        \n",
        "        self.grid_size = grid_size\n",
        "        \n",
        "        # number of state\n",
        "        self.n_state = n_state\n",
        "\n",
        "        # Memory\n",
        "        self.memory = Memory(memory_size)\n",
        "        \n",
        "        # Batch size when learning\n",
        "        self.batch_size = batch_size\n",
        "\n",
        "    def learned_act(self, s):\n",
        "        best_action = np.argmax(self.model.predict(np.array([s])))\n",
        "        return best_action\n",
        "      \n",
        "    def get_Q(self):\n",
        "        \n",
        "        s = 0\n",
        "        for state in possible_states:\n",
        "          t = 0\n",
        "          for a in actions:\n",
        "            t += proba(state,a)*1\n",
        "\n",
        "    def reinforce(self, s_, n_s_, a_, r_, game_over_):\n",
        "        # Two steps: first memorize the states, second learn from the pool\n",
        "\n",
        "        self.memory.remember([s_, n_s_, a_, r_, game_over_])\n",
        "        \n",
        "        batch_size = min(self.batch_size,self.memory.mem_size)\n",
        "        input_states = np.zeros((batch_size, 5,5,self.n_state))\n",
        "        target_q = np.zeros((batch_size, 4))\n",
        "        \n",
        "        for i in range(batch_size):\n",
        "            \n",
        "            s, n_s, a, r, game_over = self.memory.random_access()\n",
        "            input_states[i] = np.array(s)\n",
        "            \n",
        "            if game_over_:\n",
        "              target_q[i,:][a] = r\n",
        "            else:\n",
        "              Q_pred = self.model.predict(np.array([n_s]))\n",
        "              target_q[i,:][a] = r + self.discount*np.max(Q_pred)\n",
        "\n",
        "        # HINT: Clip the target to avoid exploiding gradients.. -- clipping is a bit tighter\n",
        "        target_q = np.clip(target_q, -3, 3)\n",
        "        l = self.model.train_on_batch(input_states, target_q)\n",
        "\n",
        "        return l\n",
        "\n",
        "    def save(self,name_weights='model.h5',name_model='model.json'):\n",
        "        self.model.save_weights(name_weights, overwrite=True)\n",
        "        with open(name_model, \"w\") as outfile:\n",
        "            json.dump(self.model.to_json(), outfile)\n",
        "            \n",
        "    def load(self,name_weights='model.h5',name_model='model.json'):\n",
        "        with open(name_model, \"r\") as jfile:\n",
        "            model = model_from_json(json.load(jfile))\n",
        "        model.load_weights(name_weights)\n",
        "        model.compile(\"sgd\", \"mse\")\n",
        "        self.model = model\n",
        "\n",
        "            \n",
        "class DQN_FC(DQN):\n",
        "    def __init__(self, *args, lr=0.1,**kwargs):\n",
        "        super(DQN_FC, self).__init__( *args,**kwargs)\n",
        "        \n",
        "        # NN Model\n",
        "        \n",
        "        from keras.models import Model\n",
        "        from keras.layers import Input, Dense\n",
        "          \n",
        "        #from keras.models import Sequential\n",
        "        model = Sequential()\n",
        "\n",
        "        from keras.layers import Dense, Activation, Flatten\n",
        "        nb_neurons = 200\n",
        "        model.add(Flatten(input_shape=(5,5,2)))\n",
        "        model.add(Dense(nb_neurons))\n",
        "        model.add(Activation('relu'))\n",
        "        model.add(Dense(nb_neurons))\n",
        "        model.add(Activation('relu'))\n",
        "        model.add(Dense(4))  \n",
        "        \n",
        "        from keras.optimizers import Adam\n",
        "        adam = Adam(lr=0.0001, beta_1=0.9, beta_2=0.999, epsilon=None, decay=0.00001, amsgrad=False)\n",
        "        model.compile(loss='mse', optimizer='adam')\n",
        "        \n",
        "        model.compile(sgd(lr=lr, decay=1e-4, momentum=0.001), \"mse\")\n",
        "        print('model compiled')\n",
        "        self.model = model\n",
        "        "
      ],
      "execution_count": 0,
      "outputs": []
    },
    {
      "metadata": {
        "id": "wiJ_ZPQZNAJB",
        "colab_type": "code",
        "outputId": "c0c2fbe1-4307-435f-ff3d-af7b578bdb84",
        "colab": {
          "base_uri": "https://localhost:8080/",
          "height": 1921
        }
      },
      "cell_type": "code",
      "source": [
        "# parameters\n",
        "size = 13\n",
        "T=100\n",
        "temperature=0.3\n",
        "epochs_train=100 # set small when debugging\n",
        "epochs_test=50 # set small when debugging\n",
        "\n",
        "env = Environment(grid_size=size, max_time=T, temperature=0.3)\n",
        "agent = DQN_FC(size, lr=.1, epsilon = 0.3, memory_size=2000, batch_size = 32)\n",
        "train(agent, env, epochs_train, prefix='fc_train')\n",
        "HTML(display_videos('fc_train90.mp4'))"
      ],
      "execution_count": 36,
      "outputs": [
        {
          "output_type": "stream",
          "text": [
            "model compiled\n",
            "Epoch 000/100 | Loss 0.0053 | Win/lose count 2.5/2.0 (0.5)\n",
            "Epoch 001/100 | Loss 0.0134 | Win/lose count 3.0/6.0 (-3.0)\n",
            "Epoch 002/100 | Loss 0.0343 | Win/lose count 5.5/4.0 (1.5)\n",
            "Epoch 003/100 | Loss 0.0069 | Win/lose count 5.0/5.0 (0.0)\n",
            "Epoch 004/100 | Loss 0.0203 | Win/lose count 4.5/3.0 (1.5)\n",
            "Epoch 005/100 | Loss 0.0195 | Win/lose count 6.0/8.0 (-2.0)\n",
            "Epoch 006/100 | Loss 0.0112 | Win/lose count 5.0/4.0 (1.0)\n",
            "Epoch 007/100 | Loss 0.0124 | Win/lose count 7.0/2.0 (5.0)\n",
            "Epoch 008/100 | Loss 0.0231 | Win/lose count 8.5/6.0 (2.5)\n",
            "Epoch 009/100 | Loss 0.0132 | Win/lose count 7.0/3.0 (4.0)\n",
            "Epoch 010/100 | Loss 0.0304 | Win/lose count 2.0/1.0 (1.0)\n",
            "Epoch 011/100 | Loss 0.0188 | Win/lose count 6.5/3.0 (3.5)\n",
            "Epoch 012/100 | Loss 0.0190 | Win/lose count 6.0/2.0 (4.0)\n",
            "Epoch 013/100 | Loss 0.0092 | Win/lose count 6.0/5.0 (1.0)\n",
            "Epoch 014/100 | Loss 0.0133 | Win/lose count 7.0/4.0 (3.0)\n",
            "Epoch 015/100 | Loss 0.0267 | Win/lose count 3.0/2.0 (1.0)\n",
            "Epoch 016/100 | Loss 0.0104 | Win/lose count 10.5/4.0 (6.5)\n",
            "Epoch 017/100 | Loss 0.0084 | Win/lose count 4.5/4.0 (0.5)\n",
            "Epoch 018/100 | Loss 0.0111 | Win/lose count 3.0/4.0 (-1.0)\n",
            "Epoch 019/100 | Loss 0.0086 | Win/lose count 8.5/3.0 (5.5)\n",
            "Epoch 020/100 | Loss 0.0139 | Win/lose count 8.5/4.0 (4.5)\n",
            "Epoch 021/100 | Loss 0.0084 | Win/lose count 8.0/4.0 (4.0)\n",
            "Epoch 022/100 | Loss 0.0270 | Win/lose count 6.5/4.0 (2.5)\n",
            "Epoch 023/100 | Loss 0.0089 | Win/lose count 6.5/2.0 (4.5)\n",
            "Epoch 024/100 | Loss 0.0189 | Win/lose count 7.0/3.0 (4.0)\n",
            "Epoch 025/100 | Loss 0.0141 | Win/lose count 5.5/2.0 (3.5)\n",
            "Epoch 026/100 | Loss 0.0132 | Win/lose count 14.0/2.0 (12.0)\n",
            "Epoch 027/100 | Loss 0.0168 | Win/lose count 11.5/3.0 (8.5)\n",
            "Epoch 028/100 | Loss 0.0208 | Win/lose count 8.0/3.0 (5.0)\n",
            "Epoch 029/100 | Loss 0.0144 | Win/lose count 8.5/5.0 (3.5)\n",
            "Epoch 030/100 | Loss 0.0113 | Win/lose count 9.0/6.0 (3.0)\n",
            "Epoch 031/100 | Loss 0.0256 | Win/lose count 11.0/3.0 (8.0)\n",
            "Epoch 032/100 | Loss 0.0199 | Win/lose count 9.5/1.0 (8.5)\n",
            "Epoch 033/100 | Loss 0.0155 | Win/lose count 7.0/2.0 (5.0)\n",
            "Epoch 034/100 | Loss 0.0156 | Win/lose count 10.0/3.0 (7.0)\n",
            "Epoch 035/100 | Loss 0.0100 | Win/lose count 6.5/7.0 (-0.5)\n",
            "Epoch 036/100 | Loss 0.0091 | Win/lose count 9.5/4.0 (5.5)\n",
            "Epoch 037/100 | Loss 0.0131 | Win/lose count 13.0/7.0 (6.0)\n",
            "Epoch 038/100 | Loss 0.0128 | Win/lose count 5.0/5.0 (0.0)\n",
            "Epoch 039/100 | Loss 0.0208 | Win/lose count 12.5/2.0 (10.5)\n",
            "Epoch 040/100 | Loss 0.0169 | Win/lose count 10.0/3.0 (7.0)\n",
            "Epoch 041/100 | Loss 0.0212 | Win/lose count 8.0/7.0 (1.0)\n",
            "Epoch 042/100 | Loss 0.0188 | Win/lose count 4.5/2.0 (2.5)\n",
            "Epoch 043/100 | Loss 0.0201 | Win/lose count 12.0/4.0 (8.0)\n",
            "Epoch 044/100 | Loss 0.0169 | Win/lose count 11.0/5.0 (6.0)\n",
            "Epoch 045/100 | Loss 0.0187 | Win/lose count 8.0/1.0 (7.0)\n",
            "Epoch 046/100 | Loss 0.0281 | Win/lose count 9.5/5.0 (4.5)\n",
            "Epoch 047/100 | Loss 0.0408 | Win/lose count 14.5/0 (14.5)\n",
            "Epoch 048/100 | Loss 0.0130 | Win/lose count 9.5/6.0 (3.5)\n",
            "Epoch 049/100 | Loss 0.0286 | Win/lose count 5.5/3.0 (2.5)\n",
            "Epoch 050/100 | Loss 0.0150 | Win/lose count 10.0/5.0 (5.0)\n",
            "Epoch 051/100 | Loss 0.0269 | Win/lose count 13.5/6.0 (7.5)\n",
            "Epoch 052/100 | Loss 0.0145 | Win/lose count 11.0/3.0 (8.0)\n",
            "Epoch 053/100 | Loss 0.0206 | Win/lose count 10.5/7.0 (3.5)\n",
            "Epoch 054/100 | Loss 0.0181 | Win/lose count 12.5/2.0 (10.5)\n",
            "Epoch 055/100 | Loss 0.0298 | Win/lose count 15.5/4.0 (11.5)\n",
            "Epoch 056/100 | Loss 0.0164 | Win/lose count 10.5/5.0 (5.5)\n",
            "Epoch 057/100 | Loss 0.0153 | Win/lose count 5.0/2.0 (3.0)\n",
            "Epoch 058/100 | Loss 0.0139 | Win/lose count 11.5/5.0 (6.5)\n",
            "Epoch 059/100 | Loss 0.0224 | Win/lose count 9.5/2.0 (7.5)\n",
            "Epoch 060/100 | Loss 0.0265 | Win/lose count 11.0/2.0 (9.0)\n",
            "Epoch 061/100 | Loss 0.0247 | Win/lose count 7.5/1.0 (6.5)\n",
            "Epoch 062/100 | Loss 0.0198 | Win/lose count 8.0/4.0 (4.0)\n",
            "Epoch 063/100 | Loss 0.0200 | Win/lose count 8.0/1.0 (7.0)\n",
            "Epoch 064/100 | Loss 0.0381 | Win/lose count 8.0/4.0 (4.0)\n",
            "Epoch 065/100 | Loss 0.0216 | Win/lose count 5.5/7.0 (-1.5)\n",
            "Epoch 066/100 | Loss 0.0310 | Win/lose count 11.5/3.0 (8.5)\n",
            "Epoch 067/100 | Loss 0.0193 | Win/lose count 6.5/3.0 (3.5)\n",
            "Epoch 068/100 | Loss 0.0165 | Win/lose count 12.0/2.0 (10.0)\n",
            "Epoch 069/100 | Loss 0.0178 | Win/lose count 10.0/5.0 (5.0)\n",
            "Epoch 070/100 | Loss 0.0190 | Win/lose count 12.5/7.0 (5.5)\n",
            "Epoch 071/100 | Loss 0.0378 | Win/lose count 9.5/3.0 (6.5)\n",
            "Epoch 072/100 | Loss 0.0236 | Win/lose count 16.5/3.0 (13.5)\n",
            "Epoch 073/100 | Loss 0.0126 | Win/lose count 9.5/6.0 (3.5)\n",
            "Epoch 074/100 | Loss 0.0108 | Win/lose count 8.0/7.0 (1.0)\n",
            "Epoch 075/100 | Loss 0.0160 | Win/lose count 8.5/9.0 (-0.5)\n",
            "Epoch 076/100 | Loss 0.0131 | Win/lose count 3.0/3.0 (0.0)\n",
            "Epoch 077/100 | Loss 0.0230 | Win/lose count 9.0/6.0 (3.0)\n",
            "Epoch 078/100 | Loss 0.0191 | Win/lose count 6.5/2.0 (4.5)\n",
            "Epoch 079/100 | Loss 0.0170 | Win/lose count 7.0/2.0 (5.0)\n",
            "Epoch 080/100 | Loss 0.0153 | Win/lose count 10.0/5.0 (5.0)\n",
            "Epoch 081/100 | Loss 0.0123 | Win/lose count 12.0/2.0 (10.0)\n",
            "Epoch 082/100 | Loss 0.0130 | Win/lose count 3.0/2.0 (1.0)\n",
            "Epoch 083/100 | Loss 0.0210 | Win/lose count 15.0/7.0 (8.0)\n",
            "Epoch 084/100 | Loss 0.0154 | Win/lose count 6.0/5.0 (1.0)\n",
            "Epoch 085/100 | Loss 0.0243 | Win/lose count 14.0/8.0 (6.0)\n",
            "Epoch 086/100 | Loss 0.0150 | Win/lose count 9.0/4.0 (5.0)\n",
            "Epoch 087/100 | Loss 0.0197 | Win/lose count 11.5/6.0 (5.5)\n",
            "Epoch 088/100 | Loss 0.0189 | Win/lose count 4.5/5.0 (-0.5)\n",
            "Epoch 089/100 | Loss 0.0214 | Win/lose count 8.5/3.0 (5.5)\n",
            "Epoch 090/100 | Loss 0.0199 | Win/lose count 17.5/5.0 (12.5)\n",
            "Epoch 091/100 | Loss 0.0204 | Win/lose count 10.0/1.0 (9.0)\n",
            "Epoch 092/100 | Loss 0.0135 | Win/lose count 6.5/7.0 (-0.5)\n",
            "Epoch 093/100 | Loss 0.0194 | Win/lose count 11.0/8.0 (3.0)\n",
            "Epoch 094/100 | Loss 0.0230 | Win/lose count 10.0/4.0 (6.0)\n",
            "Epoch 095/100 | Loss 0.0234 | Win/lose count 9.0/5.0 (4.0)\n",
            "Epoch 096/100 | Loss 0.0336 | Win/lose count 11.5/5.0 (6.5)\n",
            "Epoch 097/100 | Loss 0.0184 | Win/lose count 9.0/5.0 (4.0)\n",
            "Epoch 098/100 | Loss 0.0176 | Win/lose count 3.5/4.0 (-0.5)\n",
            "Epoch 099/100 | Loss 0.0319 | Win/lose count 9.5/8.0 (1.5)\n"
          ],
          "name": "stdout"
        },
        {
          "output_type": "execute_result",
          "data": {
            "text/html": [
              "<video alt=\"test\" controls>\n",
              "                <source src=\"data:video/mp4;base64,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\" type=\"video/mp4\" />\n",
              "             </video>"
            ],
            "text/plain": [
              "<IPython.core.display.HTML object>"
            ]
          },
          "metadata": {
            "tags": []
          },
          "execution_count": 36
        }
      ]
    },
    {
      "metadata": {
        "id": "lesmCK6RNAJI",
        "colab_type": "text"
      },
      "cell_type": "markdown",
      "source": [
        "***\n",
        "***\n",
        "__Question 8__ Implement the DQN training algorithm using a CNN (for example, 2 convolutional layers and one final fully connected layer)."
      ]
    },
    {
      "metadata": {
        "id": "n-ZedRN9NAJJ",
        "colab_type": "code",
        "colab": {}
      },
      "cell_type": "code",
      "source": [
        "class DQN_CNN(DQN):\n",
        "    def __init__(self, *args,lr=0.1,**kwargs):\n",
        "        super(DQN_CNN, self).__init__(*args,**kwargs)\n",
        "        \n",
        "        from keras.models import Sequential\n",
        "        from keras.layers import Conv2D, MaxPooling2D, Dropout, Flatten, Dense, BatchNormalization\n",
        "\n",
        "        ##############################\n",
        "        model = Sequential()\n",
        "\n",
        "        #layer1\n",
        "        model.add( Conv2D(16, (2, 2), activation='relu') )\n",
        "        #model.add(BatchNormalization())\n",
        "        \n",
        "        #layer2\n",
        "        model.add( Conv2D(8, (2, 2), activation='relu' ) )\n",
        "        #model.add(BatchNormalization())\n",
        "\n",
        "        #flatten\n",
        "        model.add(Flatten())\n",
        "        model.add(Dense(256, activation='relu'))\n",
        "        model.add(Activation('relu'))\n",
        "        model.add(Dense(4))\n",
        "\n",
        "        #Optimizer choice\n",
        "        from keras.optimizers import Adam\n",
        "        adam = Adam(lr=0.0001, beta_1=0.9, beta_2=0.999, epsilon=None, decay=0.00001, amsgrad=False)\n",
        "        model.compile(loss='mse', optimizer=adam)\n",
        "        \n",
        "        #model.compile(sgd(lr=lr, decay=1e-4, momentum=0.001), \"mse\")\n",
        "        \n",
        "        self.model = model"
      ],
      "execution_count": 0,
      "outputs": []
    },
    {
      "metadata": {
        "id": "PxdwrFO8NAJM",
        "colab_type": "code",
        "outputId": "b08d680f-2c1f-4530-a1d4-89ef6e45ac72",
        "colab": {
          "base_uri": "https://localhost:8080/",
          "height": 1904
        }
      },
      "cell_type": "code",
      "source": [
        "env = Environment(grid_size=size, max_time=T, temperature=0.3)\n",
        "agent = DQN_CNN(size, lr=.1, epsilon = 0.2, memory_size=2000, batch_size = 32)\n",
        "train(agent,env,epochs_train,prefix='cnn_train')\n",
        "HTML(display_videos('cnn_train10.mp4'))"
      ],
      "execution_count": 27,
      "outputs": [
        {
          "output_type": "stream",
          "text": [
            "Epoch 000/100 | Loss 0.0216 | Win/lose count 6.5/6.0 (0.5)\n",
            "Epoch 001/100 | Loss 0.0060 | Win/lose count 1.5/0 (1.5)\n",
            "Epoch 002/100 | Loss 0.0187 | Win/lose count 9.0/8.0 (1.0)\n",
            "Epoch 003/100 | Loss 0.0143 | Win/lose count 8.0/5.0 (3.0)\n",
            "Epoch 004/100 | Loss 0.0281 | Win/lose count 2.0/3.0 (-1.0)\n",
            "Epoch 005/100 | Loss 0.0109 | Win/lose count 5.0/5.0 (0.0)\n",
            "Epoch 006/100 | Loss 0.0116 | Win/lose count 10.0/2.0 (8.0)\n",
            "Epoch 007/100 | Loss 0.0194 | Win/lose count 2.0/2.0 (0.0)\n",
            "Epoch 008/100 | Loss 0.0186 | Win/lose count 6.5/3.0 (3.5)\n",
            "Epoch 009/100 | Loss 0.0068 | Win/lose count 6.0/1.0 (5.0)\n",
            "Epoch 010/100 | Loss 0.0240 | Win/lose count 7.5/5.0 (2.5)\n",
            "Epoch 011/100 | Loss 0.0104 | Win/lose count 4.0/6.0 (-2.0)\n",
            "Epoch 012/100 | Loss 0.0134 | Win/lose count 3.5/1.0 (2.5)\n",
            "Epoch 013/100 | Loss 0.0084 | Win/lose count 4.5/3.0 (1.5)\n",
            "Epoch 014/100 | Loss 0.0093 | Win/lose count 7.0/0 (7.0)\n",
            "Epoch 015/100 | Loss 0.0085 | Win/lose count 6.0/4.0 (2.0)\n",
            "Epoch 016/100 | Loss 0.0093 | Win/lose count 4.0/2.0 (2.0)\n",
            "Epoch 017/100 | Loss 0.0125 | Win/lose count 6.5/3.0 (3.5)\n",
            "Epoch 018/100 | Loss 0.0090 | Win/lose count 7.0/3.0 (4.0)\n",
            "Epoch 019/100 | Loss 0.0144 | Win/lose count 2.5/4.0 (-1.5)\n",
            "Epoch 020/100 | Loss 0.0222 | Win/lose count 6.5/1.0 (5.5)\n",
            "Epoch 021/100 | Loss 0.0079 | Win/lose count 4.0/2.0 (2.0)\n",
            "Epoch 022/100 | Loss 0.0074 | Win/lose count 10.0/3.0 (7.0)\n",
            "Epoch 023/100 | Loss 0.0082 | Win/lose count 3.0/4.0 (-1.0)\n",
            "Epoch 024/100 | Loss 0.0101 | Win/lose count 3.0/2.0 (1.0)\n",
            "Epoch 025/100 | Loss 0.0089 | Win/lose count 2.0/1.0 (1.0)\n",
            "Epoch 026/100 | Loss 0.0245 | Win/lose count 3.5/6.0 (-2.5)\n",
            "Epoch 027/100 | Loss 0.0164 | Win/lose count 10.0/2.0 (8.0)\n",
            "Epoch 028/100 | Loss 0.0080 | Win/lose count 5.0/5.0 (0.0)\n",
            "Epoch 029/100 | Loss 0.0315 | Win/lose count 8.0/4.0 (4.0)\n",
            "Epoch 030/100 | Loss 0.0070 | Win/lose count 7.0/5.0 (2.0)\n",
            "Epoch 031/100 | Loss 0.0144 | Win/lose count 8.0/7.0 (1.0)\n",
            "Epoch 032/100 | Loss 0.0070 | Win/lose count 10.0/0 (10.0)\n",
            "Epoch 033/100 | Loss 0.0061 | Win/lose count 3.0/8.0 (-5.0)\n",
            "Epoch 034/100 | Loss 0.0127 | Win/lose count 7.5/1.0 (6.5)\n",
            "Epoch 035/100 | Loss 0.0228 | Win/lose count 2.0/2.0 (0.0)\n",
            "Epoch 036/100 | Loss 0.0080 | Win/lose count 5.0/4.0 (1.0)\n",
            "Epoch 037/100 | Loss 0.0212 | Win/lose count 8.5/7.0 (1.5)\n",
            "Epoch 038/100 | Loss 0.0144 | Win/lose count 4.0/7.0 (-3.0)\n",
            "Epoch 039/100 | Loss 0.0066 | Win/lose count 7.0/1.0 (6.0)\n",
            "Epoch 040/100 | Loss 0.0064 | Win/lose count 10.5/7.0 (3.5)\n",
            "Epoch 041/100 | Loss 0.0208 | Win/lose count 10.5/2.0 (8.5)\n",
            "Epoch 042/100 | Loss 0.0140 | Win/lose count 8.5/2.0 (6.5)\n",
            "Epoch 043/100 | Loss 0.0435 | Win/lose count 4.5/3.0 (1.5)\n",
            "Epoch 044/100 | Loss 0.0089 | Win/lose count 6.0/5.0 (1.0)\n",
            "Epoch 045/100 | Loss 0.0129 | Win/lose count 9.5/2.0 (7.5)\n",
            "Epoch 046/100 | Loss 0.0197 | Win/lose count 7.0/2.0 (5.0)\n",
            "Epoch 047/100 | Loss 0.0297 | Win/lose count 4.0/2.0 (2.0)\n",
            "Epoch 048/100 | Loss 0.0099 | Win/lose count 6.5/3.0 (3.5)\n",
            "Epoch 049/100 | Loss 0.0143 | Win/lose count 7.0/3.0 (4.0)\n",
            "Epoch 050/100 | Loss 0.0227 | Win/lose count 13.0/4.0 (9.0)\n",
            "Epoch 051/100 | Loss 0.0170 | Win/lose count 8.0/3.0 (5.0)\n",
            "Epoch 052/100 | Loss 0.0114 | Win/lose count 12.5/3.0 (9.5)\n",
            "Epoch 053/100 | Loss 0.0143 | Win/lose count 11.0/1.0 (10.0)\n",
            "Epoch 054/100 | Loss 0.0177 | Win/lose count 6.5/5.0 (1.5)\n",
            "Epoch 055/100 | Loss 0.0369 | Win/lose count 1.0/3.0 (-2.0)\n",
            "Epoch 056/100 | Loss 0.0153 | Win/lose count 7.5/1.0 (6.5)\n",
            "Epoch 057/100 | Loss 0.0158 | Win/lose count 6.5/5.0 (1.5)\n",
            "Epoch 058/100 | Loss 0.0255 | Win/lose count 13.5/2.0 (11.5)\n",
            "Epoch 059/100 | Loss 0.0124 | Win/lose count 5.0/1.0 (4.0)\n",
            "Epoch 060/100 | Loss 0.0099 | Win/lose count 6.5/5.0 (1.5)\n",
            "Epoch 061/100 | Loss 0.0170 | Win/lose count 11.0/4.0 (7.0)\n",
            "Epoch 062/100 | Loss 0.0211 | Win/lose count 5.0/3.0 (2.0)\n",
            "Epoch 063/100 | Loss 0.0482 | Win/lose count 11.0/3.0 (8.0)\n",
            "Epoch 064/100 | Loss 0.0239 | Win/lose count 8.0/5.0 (3.0)\n",
            "Epoch 065/100 | Loss 0.0461 | Win/lose count 6.5/5.0 (1.5)\n",
            "Epoch 066/100 | Loss 0.0170 | Win/lose count 12.0/6.0 (6.0)\n",
            "Epoch 067/100 | Loss 0.0137 | Win/lose count 4.5/3.0 (1.5)\n",
            "Epoch 068/100 | Loss 0.0552 | Win/lose count 9.5/3.0 (6.5)\n",
            "Epoch 069/100 | Loss 0.0320 | Win/lose count 8.0/4.0 (4.0)\n",
            "Epoch 070/100 | Loss 0.0220 | Win/lose count 14.5/2.0 (12.5)\n",
            "Epoch 071/100 | Loss 0.0144 | Win/lose count 8.0/7.0 (1.0)\n",
            "Epoch 072/100 | Loss 0.0282 | Win/lose count 5.0/4.0 (1.0)\n",
            "Epoch 073/100 | Loss 0.0171 | Win/lose count 15.0/4.0 (11.0)\n",
            "Epoch 074/100 | Loss 0.0131 | Win/lose count 9.0/6.0 (3.0)\n",
            "Epoch 075/100 | Loss 0.0130 | Win/lose count 8.0/1.0 (7.0)\n",
            "Epoch 076/100 | Loss 0.0292 | Win/lose count 16.0/4.0 (12.0)\n",
            "Epoch 077/100 | Loss 0.0547 | Win/lose count 12.5/1.0 (11.5)\n",
            "Epoch 078/100 | Loss 0.0149 | Win/lose count 6.5/2.0 (4.5)\n",
            "Epoch 079/100 | Loss 0.0462 | Win/lose count 14.0/4.0 (10.0)\n",
            "Epoch 080/100 | Loss 0.0245 | Win/lose count 17.5/5.0 (12.5)\n",
            "Epoch 081/100 | Loss 0.0340 | Win/lose count 13.0/3.0 (10.0)\n",
            "Epoch 082/100 | Loss 0.0375 | Win/lose count 14.0/5.0 (9.0)\n",
            "Epoch 083/100 | Loss 0.0185 | Win/lose count 7.5/3.0 (4.5)\n",
            "Epoch 084/100 | Loss 0.0368 | Win/lose count 12.5/2.0 (10.5)\n",
            "Epoch 085/100 | Loss 0.0330 | Win/lose count 15.0/5.0 (10.0)\n",
            "Epoch 086/100 | Loss 0.0733 | Win/lose count 13.0/8.0 (5.0)\n",
            "Epoch 087/100 | Loss 0.0285 | Win/lose count 17.5/6.0 (11.5)\n",
            "Epoch 088/100 | Loss 0.0309 | Win/lose count 11.5/2.0 (9.5)\n",
            "Epoch 089/100 | Loss 0.0413 | Win/lose count 12.0/1.0 (11.0)\n",
            "Epoch 090/100 | Loss 0.0204 | Win/lose count 18.0/4.0 (14.0)\n",
            "Epoch 091/100 | Loss 0.0335 | Win/lose count 10.5/4.0 (6.5)\n",
            "Epoch 092/100 | Loss 0.0598 | Win/lose count 16.5/1.0 (15.5)\n",
            "Epoch 093/100 | Loss 0.0294 | Win/lose count 20.0/6.0 (14.0)\n",
            "Epoch 094/100 | Loss 0.0322 | Win/lose count 10.0/4.0 (6.0)\n",
            "Epoch 095/100 | Loss 0.0420 | Win/lose count 14.0/3.0 (11.0)\n",
            "Epoch 096/100 | Loss 0.0438 | Win/lose count 13.0/5.0 (8.0)\n",
            "Epoch 097/100 | Loss 0.0421 | Win/lose count 9.0/4.0 (5.0)\n",
            "Epoch 098/100 | Loss 0.0344 | Win/lose count 11.5/1.0 (10.5)\n",
            "Epoch 099/100 | Loss 0.0365 | Win/lose count 14.5/2.0 (12.5)\n"
          ],
          "name": "stdout"
        },
        {
          "output_type": "execute_result",
          "data": {
            "text/html": [
              "<video alt=\"test\" controls>\n",
              "                <source src=\"data:video/mp4;base64,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\" type=\"video/mp4\" />\n",
              "             </video>"
            ],
            "text/plain": [
              "<IPython.core.display.HTML object>"
            ]
          },
          "metadata": {
            "tags": []
          },
          "execution_count": 27
        }
      ]
    },
    {
      "metadata": {
        "id": "AUhAxbGZNAJR",
        "colab_type": "text"
      },
      "cell_type": "markdown",
      "source": [
        "***\n",
        "***\n",
        "__Question 9__ Test both algorithms and compare their performances. Which issue(s) do you observe? Observe also different behaviors by changing the temperature."
      ]
    },
    {
      "metadata": {
        "id": "1BVyd_OGNAJS",
        "colab_type": "code",
        "outputId": "b40f91e9-ff19-4a4f-d276-0420b214fcdd",
        "colab": {
          "base_uri": "https://localhost:8080/",
          "height": 277
        }
      },
      "cell_type": "code",
      "source": [
        "epochs_test = 5\n",
        "\n",
        "env = Environment(grid_size=size, max_time=T,temperature=0.3)\n",
        "agent_cnn = DQN_CNN(size, lr=.1, epsilon = 0.15, memory_size=2000, batch_size = 32)\n",
        "agent_cnn.load(name_weights='cnn_trainmodel.h5',name_model='cnn_trainmodel.json')\n",
        "\n",
        "agent_fc = DQN_FC(size, lr=.1, epsilon = 0.15, memory_size=2000, batch_size = 32)\n",
        "agent_fc.load(name_weights='fc_trainmodel.h5',name_model='fc_trainmodel.json')\n",
        "print('Test of the CNN')\n",
        "test(agent_cnn,env,epochs_test,prefix='cnn_test')\n",
        "print('Test of the FC')\n",
        "test(agent_fc,env,epochs_test,prefix='fc_test')"
      ],
      "execution_count": 38,
      "outputs": [
        {
          "output_type": "stream",
          "text": [
            "model compiled\n",
            "Test of the CNN\n",
            "Win/lose count 2.5/2.0. Average score (0.5)\n",
            "Win/lose count 14.0/3.0. Average score (5.75)\n",
            "Win/lose count 10.0/0. Average score (7.166666666666667)\n",
            "Win/lose count 19.0/2.0. Average score (9.625)\n",
            "Win/lose count 11.0/3.0. Average score (9.3)\n",
            "Final score: 9.3\n",
            "Test of the FC\n",
            "Win/lose count 11.0/2.0. Average score (9.0)\n",
            "Win/lose count 10.5/2.0. Average score (8.75)\n",
            "Win/lose count 9.5/3.0. Average score (8.0)\n",
            "Win/lose count 14.0/1.0. Average score (9.25)\n",
            "Win/lose count 1.0/0. Average score (7.6)\n",
            "Final score: 7.6\n"
          ],
          "name": "stdout"
        }
      ]
    },
    {
      "metadata": {
        "id": "0eESHsbnNAJW",
        "colab_type": "code",
        "outputId": "1645841b-7121-4fba-f784-ea5a323afaed",
        "colab": {
          "base_uri": "https://localhost:8080/",
          "height": 293
        }
      },
      "cell_type": "code",
      "source": [
        "HTML(display_videos('cnn_test4.mp4'))"
      ],
      "execution_count": 41,
      "outputs": [
        {
          "output_type": "execute_result",
          "data": {
            "text/html": [
              "<video alt=\"test\" controls>\n",
              "                <source src=\"data:video/mp4;base64,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\" type=\"video/mp4\" />\n",
              "             </video>"
            ],
            "text/plain": [
              "<IPython.core.display.HTML object>"
            ]
          },
          "metadata": {
            "tags": []
          },
          "execution_count": 41
        }
      ]
    },
    {
      "metadata": {
        "id": "pm3uMr0xNAJZ",
        "colab_type": "code",
        "colab": {
          "base_uri": "https://localhost:8080/",
          "height": 293
        },
        "outputId": "0e77e607-d4e4-4276-bf17-ccd135dc647b"
      },
      "cell_type": "code",
      "source": [
        "HTML(display_videos('fc_test4.mp4'))"
      ],
      "execution_count": 40,
      "outputs": [
        {
          "output_type": "execute_result",
          "data": {
            "text/html": [
              "<video alt=\"test\" controls>\n",
              "                <source src=\"data:video/mp4;base64,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\" type=\"video/mp4\" />\n",
              "             </video>"
            ],
            "text/plain": [
              "<IPython.core.display.HTML object>"
            ]
          },
          "metadata": {
            "tags": []
          },
          "execution_count": 40
        }
      ]
    },
    {
      "metadata": {
        "id": "ZJKV-hMfNAJc",
        "colab_type": "text"
      },
      "cell_type": "markdown",
      "source": [
        "**Answer**\n",
        "\n",
        "Sometimes the algorithm will get stuck in the same spot or move forwards and backwards.\n",
        "In particular, the algorithm using the fully connected network can sometimes get stuck because it isn't considering the spacial coherence of its input (it is viewing the board as one flattened vector)."
      ]
    },
    {
      "metadata": {
        "id": "BbraleB4NAJe",
        "colab_type": "text"
      },
      "cell_type": "markdown",
      "source": [
        "***\n",
        "\n",
        "The algorithm tends to not explore the map which can be an issue. We propose two ideas in order to encourage exploration:\n",
        "1. Incorporating a decreasing $\\epsilon$-greedy exploration. You can use the method ```set_epsilon```\n",
        "2. Append via the environment a new state that describes if a cell has been visited or not\n",
        "\n",
        "***\n",
        "__Question 10__ Design a new ```train_explore``` function and environment class ```EnvironmentExploring``` to tackle the issue of exploration.\n",
        "\n"
      ]
    },
    {
      "metadata": {
        "id": "azYAmFVoEWRe",
        "colab_type": "code",
        "colab": {}
      },
      "cell_type": "code",
      "source": [
        "class EnvironmentExploring(object):\n",
        "    def __init__(self, grid_size=10, max_time=500, temperature=0.1):\n",
        "        grid_size = grid_size+4\n",
        "        self.grid_size = grid_size\n",
        "        self.max_time = max_time\n",
        "        self.temperature = temperature\n",
        "\n",
        "        #board on which one plays\n",
        "        self.board = np.zeros((grid_size,grid_size))\n",
        "        self.position = np.zeros((grid_size,grid_size))\n",
        "\n",
        "        # coordinate of the cat\n",
        "        self.x = 0\n",
        "        self.y = 1\n",
        "\n",
        "        # self time\n",
        "        self.t = 0\n",
        "\n",
        "        self.scale=16\n",
        "\n",
        "        self.to_draw = np.zeros((max_time+2, grid_size*self.scale, grid_size*self.scale, 3))\n",
        "\n",
        "\n",
        "    def draw(self,e):\n",
        "        skvideo.io.vwrite(str(e) + '.mp4', self.to_draw)\n",
        "\n",
        "    def get_frame(self,t):\n",
        "        b = np.zeros((self.grid_size,self.grid_size,3))+128\n",
        "        b[self.board>0,0] = 256\n",
        "        b[self.board < 0, 2] = 256\n",
        "        b[self.x,self.y,:]=256\n",
        "        b[-2:,:,:]=0\n",
        "        b[:,-2:,:]=0\n",
        "        b[:2,:,:]=0\n",
        "        b[:,:2,:]=0\n",
        "        \n",
        "        b =  cv2.resize(b, None, fx=self.scale, fy=self.scale, interpolation=cv2.INTER_NEAREST)\n",
        "\n",
        "        self.to_draw[t,:,:,:]=b\n",
        "\n",
        "\n",
        "    def act(self, action, train=False):\n",
        "        \"\"\"This function returns the new state, reward and decides if the\n",
        "        game ends.\"\"\"\n",
        "\n",
        "        self.get_frame(int(self.t))\n",
        "        \n",
        "        pos = self.position\n",
        "\n",
        "        self.position = np.zeros((self.grid_size, self.grid_size))\n",
        "\n",
        "        self.position[0:2,:]= -1\n",
        "        self.position[:,0:2] = -1\n",
        "        self.position[-2:, :] = -1\n",
        "        self.position[:, -2:] = -1\n",
        "\n",
        "        self.position[self.x, self.y] = 1\n",
        "        \n",
        "        if action == 0:\n",
        "            if self.x == self.grid_size-3:\n",
        "                self.x = self.x-1\n",
        "            else:\n",
        "                self.x = self.x + 1\n",
        "        elif action == 1:\n",
        "            if self.x == 2:\n",
        "                self.x = self.x+1\n",
        "            else:\n",
        "                self.x = self.x-1\n",
        "        elif action == 2:\n",
        "            if self.y == self.grid_size - 3:\n",
        "                self.y = self.y - 1\n",
        "            else:\n",
        "                self.y = self.y + 1\n",
        "        elif action == 3:\n",
        "            if self.y == 2:\n",
        "                self.y = self.y + 1\n",
        "            else:\n",
        "                self.y = self.y - 1\n",
        "        else:\n",
        "            RuntimeError('Error: action not recognized')\n",
        "\n",
        "        self.t = self.t + 1\n",
        "        reward = self.board[self.x, self.y]\n",
        "        if train:\n",
        "            reward -= self.malus_position[self.x, self.y]\n",
        "        self.malus_position[self.x, self.y] = 0.1\n",
        "        self.board[self.x, self.y] = 0\n",
        "        game_over = self.t > self.max_time\n",
        "        # 3 \"feature\" states instead of 2\n",
        "        state = np.concatenate((self.malus_position.reshape(self.grid_size, self.grid_size,1),\n",
        "                                        self.board.reshape(self.grid_size, self.grid_size,1),\n",
        "                                self.position.reshape(self.grid_size, self.grid_size,1)),axis=2)\n",
        "        state = state[self.x - 2:self.x + 3, self.y - 2:self.y + 3, :]\n",
        "        return state, reward, game_over\n",
        "\n",
        "    def reset(self):\n",
        "        \"\"\"This function resets the game and returns the initial state\"\"\"\n",
        "\n",
        "        self.x = np.random.randint(3, self.grid_size-3, size=1)[0]\n",
        "        self.y = np.random.randint(3, self.grid_size-3, size=1)[0]\n",
        "\n",
        "\n",
        "        bonus = 0.5*np.random.binomial(1,self.temperature,size=self.grid_size**2)\n",
        "        bonus = bonus.reshape(self.grid_size,self.grid_size)\n",
        "\n",
        "        malus = -1.0*np.random.binomial(1,self.temperature,size=self.grid_size**2)\n",
        "        malus = malus.reshape(self.grid_size, self.grid_size)\n",
        "\n",
        "        self.to_draw = np.zeros((self.max_time+2, self.grid_size*self.scale, self.grid_size*self.scale, 3))\n",
        "\n",
        "\n",
        "        malus[bonus>0]=0\n",
        "\n",
        "        self.board = bonus + malus\n",
        "\n",
        "        self.position = np.zeros((self.grid_size, self.grid_size))\n",
        "        self.position[0:2,:]= -1\n",
        "        self.position[:,0:2] = -1\n",
        "        self.position[-2:, :] = -1\n",
        "        self.position[-2:, :] = -1\n",
        "        self.board[self.x,self.y] = 0\n",
        "        \n",
        "        self.malus_position = np.zeros((self.grid_size, self.grid_size))\n",
        "        \n",
        "        self.t = 0\n",
        "\n",
        "        state = np.concatenate((self.malus_position.reshape(self.grid_size, self.grid_size,1),\n",
        "                                        self.board.reshape(self.grid_size, self.grid_size,1),\n",
        "                                self.position.reshape(self.grid_size, self.grid_size,1)),axis=2)\n",
        "\n",
        "        state = state[self.x - 2:self.x + 3, self.y - 2:self.y + 3, :]\n",
        "        return state\n",
        "      \n",
        "def train_explore(agent,env,epoch,prefix=''):\n",
        "    # Number of won games\n",
        "    score = 0\n",
        "    loss = 0\n",
        "\n",
        "    for e in range(epoch):\n",
        "        # At each epoch, we restart to a fresh game and get the initial state\n",
        "        state = env.reset()\n",
        "        # This assumes that the games will terminate\n",
        "        game_over = False\n",
        "\n",
        "        win = 0\n",
        "        lose = 0\n",
        "\n",
        "        while not game_over:\n",
        "          \n",
        "            #update exploration/exploitation criterium\n",
        "            agent.set_epsilon(agent.epsilon*0.9)\n",
        "          \n",
        "            # The agent performs an action\n",
        "            action = agent.act(state)\n",
        "\n",
        "            # Apply an action to the environment, get the next state, the reward\n",
        "            # and if the games end\n",
        "            prev_state = state\n",
        "            state, reward, game_over = env.act(action, train=True)\n",
        "\n",
        "            # Update the counters\n",
        "            if reward > 0:\n",
        "                win = win + reward\n",
        "            if reward < 0:\n",
        "                lose = lose - reward\n",
        "\n",
        "            # Apply the reinforcement strategy\n",
        "            loss = agent.reinforce(prev_state, state,  action, reward, game_over)\n",
        "\n",
        "        # Save as a mp4\n",
        "        if e % 10 == 0:\n",
        "            env.draw(prefix+str(e))\n",
        "\n",
        "        # Update stats\n",
        "        score += win-lose\n",
        "\n",
        "        print(\"Epoch {:03d}/{:03d} | Loss {:.4f} | Win/lose count {}/{} ({})\"\n",
        "              .format(e, epoch, loss, win, lose, win-lose))\n",
        "        agent.save(name_weights=prefix+'model.h5',name_model=prefix+'model.json')"
      ],
      "execution_count": 0,
      "outputs": []
    },
    {
      "metadata": {
        "id": "MpLW_bQbNAJm",
        "colab_type": "code",
        "outputId": "49d07d52-aab8-4bd9-86ae-4adc4af53d39",
        "colab": {
          "base_uri": "https://localhost:8080/",
          "height": 1904
        }
      },
      "cell_type": "code",
      "source": [
        "epochs_train = 100\n",
        "# Training\n",
        "env = EnvironmentExploring(grid_size=size, max_time=T, temperature=0.3)\n",
        "agent = DQN_CNN(size, lr=.1, epsilon = 0.15, memory_size=2000, batch_size = 32,n_state=3)\n",
        "train_explore(agent, env, epochs_train, prefix='cnn_train_explore')\n",
        "HTML(display_videos('cnn_train_explore90.mp4'))"
      ],
      "execution_count": 44,
      "outputs": [
        {
          "output_type": "stream",
          "text": [
            "Epoch 000/100 | Loss 0.0222 | Win/lose count 3.0/11.299999999999983 (-8.299999999999983)\n",
            "Epoch 001/100 | Loss 0.0212 | Win/lose count 4.0/13.399999999999979 (-9.399999999999979)\n",
            "Epoch 002/100 | Loss 0.0069 | Win/lose count 5.0/10.599999999999978 (-5.599999999999978)\n",
            "Epoch 003/100 | Loss 0.0073 | Win/lose count 3.0/10.099999999999985 (-7.099999999999985)\n",
            "Epoch 004/100 | Loss 0.0230 | Win/lose count 5.0/10.699999999999978 (-5.699999999999978)\n",
            "Epoch 005/100 | Loss 0.0056 | Win/lose count 5.0/7.699999999999989 (-2.6999999999999886)\n",
            "Epoch 006/100 | Loss 0.0092 | Win/lose count 6.0/7.999999999999988 (-1.9999999999999876)\n",
            "Epoch 007/100 | Loss 0.0111 | Win/lose count 7.0/11.999999999999986 (-4.999999999999986)\n",
            "Epoch 008/100 | Loss 0.0155 | Win/lose count 5.5/7.899999999999988 (-2.399999999999988)\n",
            "Epoch 009/100 | Loss 0.0053 | Win/lose count 6.5/9.099999999999984 (-2.5999999999999837)\n",
            "Epoch 010/100 | Loss 0.0068 | Win/lose count 8.0/6.8999999999999915 (1.1000000000000085)\n",
            "Epoch 011/100 | Loss 0.0111 | Win/lose count 5.5/7.799999999999988 (-2.2999999999999883)\n",
            "Epoch 012/100 | Loss 0.0115 | Win/lose count 6.5/9.199999999999994 (-2.699999999999994)\n",
            "Epoch 013/100 | Loss 0.0081 | Win/lose count 8.0/10.899999999999975 (-2.8999999999999755)\n",
            "Epoch 014/100 | Loss 0.0079 | Win/lose count 3.5/8.099999999999987 (-4.599999999999987)\n",
            "Epoch 015/100 | Loss 0.0151 | Win/lose count 2.0/10.29999999999998 (-8.29999999999998)\n",
            "Epoch 016/100 | Loss 0.0055 | Win/lose count 7.5/10.299999999999988 (-2.7999999999999883)\n",
            "Epoch 017/100 | Loss 0.0111 | Win/lose count 2.0/9.499999999999982 (-7.499999999999982)\n",
            "Epoch 018/100 | Loss 0.0161 | Win/lose count 7.0/8.999999999999988 (-1.9999999999999876)\n",
            "Epoch 019/100 | Loss 0.0214 | Win/lose count 7.5/7.29999999999999 (0.20000000000000995)\n",
            "Epoch 020/100 | Loss 0.0225 | Win/lose count 10.0/7.099999999999992 (2.9000000000000083)\n",
            "Epoch 021/100 | Loss 0.0098 | Win/lose count 4.5/9.599999999999984 (-5.099999999999984)\n",
            "Epoch 022/100 | Loss 0.0092 | Win/lose count 9.0/7.099999999999991 (1.9000000000000092)\n",
            "Epoch 023/100 | Loss 0.0179 | Win/lose count 7.5/10.09999999999998 (-2.59999999999998)\n",
            "Epoch 024/100 | Loss 0.0246 | Win/lose count 12.5/7.999999999999987 (4.500000000000013)\n",
            "Epoch 025/100 | Loss 0.0046 | Win/lose count 7.0/10.599999999999978 (-3.5999999999999783)\n",
            "Epoch 026/100 | Loss 0.0156 | Win/lose count 8.5/7.899999999999988 (0.6000000000000121)\n",
            "Epoch 027/100 | Loss 0.0154 | Win/lose count 5.5/7.999999999999988 (-2.4999999999999876)\n",
            "Epoch 028/100 | Loss 0.0139 | Win/lose count 10.5/9.799999999999986 (0.7000000000000135)\n",
            "Epoch 029/100 | Loss 0.0140 | Win/lose count 4.5/9.099999999999984 (-4.599999999999984)\n",
            "Epoch 030/100 | Loss 0.0178 | Win/lose count 9.0/8.699999999999985 (0.3000000000000149)\n",
            "Epoch 031/100 | Loss 0.0137 | Win/lose count 6.0/9.299999999999985 (-3.2999999999999847)\n",
            "Epoch 032/100 | Loss 0.0142 | Win/lose count 7.5/11.199999999999978 (-3.699999999999978)\n",
            "Epoch 033/100 | Loss 0.0193 | Win/lose count 6.0/7.799999999999988 (-1.7999999999999883)\n",
            "Epoch 034/100 | Loss 0.0411 | Win/lose count 5.5/10.09999999999998 (-4.59999999999998)\n",
            "Epoch 035/100 | Loss 0.0339 | Win/lose count 11.5/9.099999999999993 (2.4000000000000075)\n",
            "Epoch 036/100 | Loss 0.0346 | Win/lose count 10.0/9.899999999999984 (0.10000000000001563)\n",
            "Epoch 037/100 | Loss 0.0405 | Win/lose count 7.5/12.199999999999976 (-4.699999999999976)\n",
            "Epoch 038/100 | Loss 0.0262 | Win/lose count 10.0/10.399999999999993 (-0.39999999999999325)\n",
            "Epoch 039/100 | Loss 0.0423 | Win/lose count 9.5/8.599999999999985 (0.9000000000000146)\n",
            "Epoch 040/100 | Loss 0.0509 | Win/lose count 8.0/7.5999999999999925 (0.40000000000000746)\n",
            "Epoch 041/100 | Loss 0.0415 | Win/lose count 6.5/7.599999999999988 (-1.099999999999988)\n",
            "Epoch 042/100 | Loss 0.0388 | Win/lose count 7.5/6.299999999999994 (1.2000000000000064)\n",
            "Epoch 043/100 | Loss 0.0295 | Win/lose count 11.0/7.499999999999989 (3.5000000000000107)\n",
            "Epoch 044/100 | Loss 0.0714 | Win/lose count 9.0/10.799999999999985 (-1.7999999999999847)\n",
            "Epoch 045/100 | Loss 0.0390 | Win/lose count 6.0/10.199999999999983 (-4.199999999999983)\n",
            "Epoch 046/100 | Loss 0.0553 | Win/lose count 12.0/8.799999999999988 (3.2000000000000117)\n",
            "Epoch 047/100 | Loss 0.0412 | Win/lose count 6.0/8.499999999999984 (-2.499999999999984)\n",
            "Epoch 048/100 | Loss 0.0376 | Win/lose count 9.0/8.199999999999989 (0.8000000000000114)\n",
            "Epoch 049/100 | Loss 0.0369 | Win/lose count 4.5/10.199999999999983 (-5.699999999999983)\n",
            "Epoch 050/100 | Loss 0.0555 | Win/lose count 16.5/5.4999999999999964 (11.000000000000004)\n",
            "Epoch 051/100 | Loss 0.0768 | Win/lose count 8.0/6.699999999999992 (1.3000000000000078)\n",
            "Epoch 052/100 | Loss 0.0407 | Win/lose count 13.5/4.3 (9.2)\n",
            "Epoch 053/100 | Loss 0.0337 | Win/lose count 14.0/7.39999999999999 (6.60000000000001)\n",
            "Epoch 054/100 | Loss 0.0251 | Win/lose count 17.0/8.49999999999999 (8.50000000000001)\n",
            "Epoch 055/100 | Loss 0.0868 | Win/lose count 18.5/5.799999999999995 (12.700000000000005)\n",
            "Epoch 056/100 | Loss 0.0450 | Win/lose count 23.0/4.4 (18.6)\n",
            "Epoch 057/100 | Loss 0.0633 | Win/lose count 8.0/6.799999999999993 (1.2000000000000073)\n",
            "Epoch 058/100 | Loss 0.0413 | Win/lose count 7.0/7.099999999999991 (-0.09999999999999076)\n",
            "Epoch 059/100 | Loss 0.0682 | Win/lose count 10.5/6.999999999999991 (3.500000000000009)\n",
            "Epoch 060/100 | Loss 0.0389 | Win/lose count 14.5/6.399999999999993 (8.100000000000007)\n",
            "Epoch 061/100 | Loss 0.1373 | Win/lose count 20.0/4.3 (15.7)\n",
            "Epoch 062/100 | Loss 0.0677 | Win/lose count 17.5/9.69999999999999 (7.80000000000001)\n",
            "Epoch 063/100 | Loss 0.0642 | Win/lose count 25.0/4.999999999999997 (20.000000000000004)\n",
            "Epoch 064/100 | Loss 0.0497 | Win/lose count 15.0/9.199999999999994 (5.800000000000006)\n",
            "Epoch 065/100 | Loss 0.0805 | Win/lose count 14.5/3.9000000000000012 (10.599999999999998)\n",
            "Epoch 066/100 | Loss 0.0764 | Win/lose count 6.5/7.799999999999988 (-1.2999999999999883)\n",
            "Epoch 067/100 | Loss 0.1095 | Win/lose count 18.0/6.399999999999995 (11.600000000000005)\n",
            "Epoch 068/100 | Loss 0.1224 | Win/lose count 23.5/3.3000000000000007 (20.2)\n",
            "Epoch 069/100 | Loss 0.0806 | Win/lose count 17.5/6.199999999999996 (11.300000000000004)\n",
            "Epoch 070/100 | Loss 0.1377 | Win/lose count 3.5/8.699999999999985 (-5.199999999999985)\n",
            "Epoch 071/100 | Loss 0.1433 | Win/lose count 22.5/4.899999999999999 (17.6)\n",
            "Epoch 072/100 | Loss 0.0760 | Win/lose count 18.5/6.700000000000001 (11.799999999999999)\n",
            "Epoch 073/100 | Loss 0.1148 | Win/lose count 20.0/4.000000000000001 (16.0)\n",
            "Epoch 074/100 | Loss 0.1230 | Win/lose count 19.0/4.999999999999997 (14.000000000000004)\n",
            "Epoch 075/100 | Loss 0.1351 | Win/lose count 19.5/5.599999999999998 (13.900000000000002)\n",
            "Epoch 076/100 | Loss 0.0989 | Win/lose count 20.0/3.600000000000001 (16.4)\n",
            "Epoch 077/100 | Loss 0.1657 | Win/lose count 25.0/4.0 (21.0)\n",
            "Epoch 078/100 | Loss 0.1658 | Win/lose count 20.5/3.600000000000002 (16.9)\n",
            "Epoch 079/100 | Loss 0.1702 | Win/lose count 27.0/3.5000000000000004 (23.5)\n",
            "Epoch 080/100 | Loss 0.2113 | Win/lose count 16.0/3.700000000000002 (12.299999999999997)\n",
            "Epoch 081/100 | Loss 0.1537 | Win/lose count 20.0/3.5000000000000018 (16.5)\n",
            "Epoch 082/100 | Loss 0.1387 | Win/lose count 20.5/6.3999999999999995 (14.100000000000001)\n",
            "Epoch 083/100 | Loss 0.2562 | Win/lose count 8.5/8.299999999999986 (0.2000000000000135)\n",
            "Epoch 084/100 | Loss 0.2463 | Win/lose count 11.5/6.599999999999993 (4.900000000000007)\n",
            "Epoch 085/100 | Loss 0.1098 | Win/lose count 16.0/5.299999999999997 (10.700000000000003)\n",
            "Epoch 086/100 | Loss 0.1352 | Win/lose count 21.0/2.0000000000000004 (19.0)\n",
            "Epoch 087/100 | Loss 0.1119 | Win/lose count 6.0/8.799999999999992 (-2.799999999999992)\n",
            "Epoch 088/100 | Loss 0.2627 | Win/lose count 15.0/5.699999999999996 (9.300000000000004)\n",
            "Epoch 089/100 | Loss 0.0996 | Win/lose count 20.5/3.3000000000000016 (17.2)\n",
            "Epoch 090/100 | Loss 0.2564 | Win/lose count 25.5/4.6999999999999975 (20.800000000000004)\n",
            "Epoch 091/100 | Loss 0.1175 | Win/lose count 17.5/8.799999999999994 (8.700000000000006)\n",
            "Epoch 092/100 | Loss 0.2066 | Win/lose count 13.0/3.500000000000001 (9.5)\n",
            "Epoch 093/100 | Loss 0.2706 | Win/lose count 23.5/4.9 (18.6)\n",
            "Epoch 094/100 | Loss 0.1544 | Win/lose count 17.0/3.4000000000000012 (13.599999999999998)\n",
            "Epoch 095/100 | Loss 0.1723 | Win/lose count 16.5/3.1000000000000014 (13.399999999999999)\n",
            "Epoch 096/100 | Loss 0.1623 | Win/lose count 17.5/3.8000000000000016 (13.7)\n",
            "Epoch 097/100 | Loss 0.2621 | Win/lose count 22.5/2.900000000000001 (19.599999999999998)\n",
            "Epoch 098/100 | Loss 0.2095 | Win/lose count 13.0/6.2999999999999945 (6.7000000000000055)\n",
            "Epoch 099/100 | Loss 0.1603 | Win/lose count 23.0/2.3000000000000007 (20.7)\n"
          ],
          "name": "stdout"
        },
        {
          "output_type": "execute_result",
          "data": {
            "text/html": [
              "<video alt=\"test\" controls>\n",
              "                <source src=\"data:video/mp4;base64,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\" type=\"video/mp4\" />\n",
              "             </video>"
            ],
            "text/plain": [
              "<IPython.core.display.HTML object>"
            ]
          },
          "metadata": {
            "tags": []
          },
          "execution_count": 44
        }
      ]
    },
    {
      "metadata": {
        "id": "O4XfctwKNAJq",
        "colab_type": "code",
        "colab": {
          "base_uri": "https://localhost:8080/",
          "height": 274
        },
        "outputId": "af090686-90a3-4cdb-8db9-6637d94aa684"
      },
      "cell_type": "code",
      "source": [
        "# Evaluation\n",
        "test(agent,env,epochs_test,prefix='cnn_test_explore')\n",
        "HTML(display_videos('cnn_test_explore4.mp4'))"
      ],
      "execution_count": 45,
      "outputs": [
        {
          "output_type": "stream",
          "text": [
            "Win/lose count 15.5/3.0. Average score (12.5)\n",
            "Win/lose count 19.5/8.0. Average score (12.0)\n",
            "Win/lose count 12.5/3.0. Average score (11.166666666666666)\n",
            "Win/lose count 22.5/4.0. Average score (13.0)\n",
            "Win/lose count 16.0/3.0. Average score (13.0)\n",
            "Final score: 13.0\n"
          ],
          "name": "stdout"
        },
        {
          "output_type": "execute_result",
          "data": {
            "text/html": [
              "<video alt=\"test\" controls>\n",
              "                <source src=\"data:video/mp4;base64,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\" type=\"video/mp4\" />\n",
              "             </video>"
            ],
            "text/plain": [
              "<IPython.core.display.HTML object>"
            ]
          },
          "metadata": {
            "tags": []
          },
          "execution_count": 45
        }
      ]
    },
    {
      "metadata": {
        "id": "Cudzl13DNAJu",
        "colab_type": "text"
      },
      "cell_type": "markdown",
      "source": [
        "***\n",
        "***\n",
        "__BONUS question__ Use the expert DQN from the previous question to generate some winning games. Train a model that mimicks its behavior. Compare the performances."
      ]
    },
    {
      "metadata": {
        "id": "Eist2RfBNAJv",
        "colab_type": "text"
      },
      "cell_type": "markdown",
      "source": [
        ""
      ]
    },
    {
      "metadata": {
        "id": "jHAZ4w_xNAJx",
        "colab_type": "text"
      },
      "cell_type": "markdown",
      "source": [
        "***"
      ]
    }
  ]
}
