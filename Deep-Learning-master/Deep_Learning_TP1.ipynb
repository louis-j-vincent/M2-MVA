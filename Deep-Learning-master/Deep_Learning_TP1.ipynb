{
  "nbformat": 4,
  "nbformat_minor": 0,
  "metadata": {
    "colab": {
      "name": "Deep Learning - TP1.ipynb",
      "version": "0.3.2",
      "provenance": [],
      "collapsed_sections": [
        "cOhytfDhuDuI",
        "xh2LEQNleBWs",
        "l7ZXW75seSsv",
        "J7oEoOWEjx1j",
        "fWOJEYvLZsdA",
        "J9946KxlyN9G",
        "2jISOEIizQrH",
        "dYfGCJSVt3Ry"
      ]
    },
    "kernelspec": {
      "name": "python3",
      "display_name": "Python 3"
    },
    "accelerator": "GPU"
  },
  "cells": [
    {
      "metadata": {
        "id": "HkuMoHLtwfCZ",
        "colab_type": "code",
        "outputId": "a8c68930-d716-49c5-d082-733408e85c37",
        "colab": {
          "base_uri": "https://localhost:8080/",
          "height": 118
        }
      },
      "cell_type": "code",
      "source": [
        "!pip install -q keras\n",
        "!pip install h5py\n",
        "!pip install pillow"
      ],
      "execution_count": 35,
      "outputs": [
        {
          "output_type": "stream",
          "text": [
            "Requirement already satisfied: h5py in /usr/local/lib/python3.6/dist-packages (2.8.0)\n",
            "Requirement already satisfied: numpy>=1.7 in /usr/local/lib/python3.6/dist-packages (from h5py) (1.14.6)\n",
            "Requirement already satisfied: six in /usr/local/lib/python3.6/dist-packages (from h5py) (1.11.0)\n",
            "Requirement already satisfied: pillow in /usr/local/lib/python3.6/dist-packages (4.0.0)\n",
            "Requirement already satisfied: olefile in /usr/local/lib/python3.6/dist-packages (from pillow) (0.46)\n"
          ],
          "name": "stdout"
        }
      ]
    },
    {
      "metadata": {
        "id": "AM5HgiZXPLun",
        "colab_type": "text"
      },
      "cell_type": "markdown",
      "source": [
        "## 2 Getting Started"
      ]
    },
    {
      "metadata": {
        "id": "kfUSHUY96c19",
        "colab_type": "text"
      },
      "cell_type": "markdown",
      "source": [
        "I have slightly modified the code so that we can choose how often we want prints"
      ]
    },
    {
      "metadata": {
        "id": "2mMRE15AAUcl",
        "colab_type": "code",
        "colab": {}
      },
      "cell_type": "code",
      "source": [
        "import matplotlib.pyplot as plt\n",
        "%matplotlib inline\n",
        "import numpy as np\n",
        "\n",
        "# On some implementations of matplotlib, you may need to change this value\n",
        "IMAGE_SIZE = 72\n",
        "\n",
        "def generate_a_drawing(figsize, U, V, noise=0.0):\n",
        "    fig = plt.figure(figsize=(figsize,figsize))\n",
        "    ax = plt.subplot(111)\n",
        "    plt.axis('Off')\n",
        "    ax.set_xlim(0,figsize)\n",
        "    ax.set_ylim(0,figsize)\n",
        "    ax.fill(U, V, \"k\")\n",
        "    fig.canvas.draw()\n",
        "    imdata = np.frombuffer(fig.canvas.tostring_rgb(), dtype=np.uint8)[::3].astype(np.float32)\n",
        "    imdata = imdata + noise * np.random.random(imdata.size)\n",
        "    plt.close(fig)\n",
        "    return imdata\n",
        "\n",
        "def generate_a_rectangle(noise=0.0, free_location=False):\n",
        "    figsize = 1.0    \n",
        "    U = np.zeros(4)\n",
        "    V = np.zeros(4)\n",
        "    if free_location:\n",
        "        corners = np.random.random(4)\n",
        "        top = max(corners[0], corners[1])\n",
        "        bottom = min(corners[0], corners[1])\n",
        "        left = min(corners[2], corners[3])\n",
        "        right = max(corners[2], corners[3])\n",
        "    else:\n",
        "        side = (0.3 + 0.7 * np.random.random()) * figsize\n",
        "        top = figsize/2 + side/2\n",
        "        bottom = figsize/2 - side/2\n",
        "        left = bottom\n",
        "        right = top\n",
        "    U[0] = U[1] = top\n",
        "    U[2] = U[3] = bottom\n",
        "    V[0] = V[3] = left\n",
        "    V[1] = V[2] = right\n",
        "    return generate_a_drawing(figsize, U, V, noise)\n",
        "\n",
        "\n",
        "def generate_a_disk(noise=0.0, free_location=False):\n",
        "    figsize = 1.0\n",
        "    if free_location:\n",
        "        center = np.random.random(2)\n",
        "    else:\n",
        "        center = (figsize/2, figsize/2)\n",
        "    radius = (0.3 + 0.7 * np.random.random()) * figsize/2\n",
        "    N = 50\n",
        "    U = np.zeros(N)\n",
        "    V = np.zeros(N)\n",
        "    i = 0\n",
        "    for t in np.linspace(0, 2*np.pi, N):\n",
        "        U[i] = center[0] + np.cos(t) * radius\n",
        "        V[i] = center[1] + np.sin(t) * radius\n",
        "        i = i + 1\n",
        "    return generate_a_drawing(figsize, U, V, noise)\n",
        "\n",
        "def generate_a_triangle(noise=0.0, free_location=False):\n",
        "    figsize = 1.0\n",
        "    if free_location:\n",
        "        U = np.random.random(3)\n",
        "        V = np.random.random(3)\n",
        "    else:\n",
        "        size = (0.3 + 0.7 * np.random.random())*figsize/2\n",
        "        middle = figsize/2\n",
        "        U = (middle, middle+size, middle-size)\n",
        "        V = (middle+size, middle-size, middle-size)\n",
        "    imdata = generate_a_drawing(figsize, U, V, noise)\n",
        "    return [imdata, [U[0], V[0], U[1], V[1], U[2], V[2]]]\n",
        "\n",
        "\n",
        "def generate_dataset_classification(nb_samples, noise=0.0, print_every=10, free_location=False):\n",
        "    # Getting im_size:\n",
        "    im_size = generate_a_rectangle().shape[0]\n",
        "    X = np.zeros([nb_samples,im_size])\n",
        "    Y = np.zeros(nb_samples)\n",
        "    print('Creating data:')\n",
        "    for i in range(nb_samples):\n",
        "        if i % print_every == 0:\n",
        "            print(i)\n",
        "        category = np.random.randint(3)\n",
        "        if category == 0:\n",
        "            X[i] = generate_a_rectangle(noise, free_location)\n",
        "        elif category == 1: \n",
        "            X[i] = generate_a_disk(noise, free_location)\n",
        "        else:\n",
        "            [X[i], V] = generate_a_triangle(noise, free_location)\n",
        "        Y[i] = category\n",
        "    X = (X + noise) / (255 + 2 * noise)\n",
        "    return [X, Y]\n",
        "\n",
        "def generate_test_set_classification(print_every = 10):\n",
        "    np.random.seed(42)\n",
        "    [X_test, Y_test] = generate_dataset_classification(300, 20, print_every = print_every)\n",
        "    Y_test = np_utils.to_categorical(Y_test, 3) \n",
        "    return [X_test, Y_test]\n",
        "\n",
        "def generate_dataset_regression(nb_samples, noise=0.0, print_every=10):\n",
        "    # Getting im_size:\n",
        "    im_size = generate_a_triangle()[0].shape[0]\n",
        "    X = np.zeros([nb_samples,im_size])\n",
        "    Y = np.zeros([nb_samples, 6])\n",
        "    print('Creating data:')\n",
        "    for i in range(nb_samples):\n",
        "        if i % print_every == 0:\n",
        "            print(i)\n",
        "        [X[i], Y[i]] = generate_a_triangle(noise, True)\n",
        "    X = (X + noise) / (255 + 2 * noise)\n",
        "    return [X, Y]\n",
        "\n",
        "import matplotlib.patches as patches\n",
        "\n",
        "def visualize_prediction(x, y):\n",
        "    fig, ax = plt.subplots(figsize=(5, 5))\n",
        "    I = x.reshape((IMAGE_SIZE,IMAGE_SIZE))\n",
        "    ax.imshow(I, extent=[-0.15,1.15,-0.15,1.15],cmap='gray')\n",
        "    ax.set_xlim([0,1])\n",
        "    ax.set_ylim([0,1])\n",
        "\n",
        "    xy = y.reshape(3,2)\n",
        "    tri = patches.Polygon(xy, closed=True, fill = False, edgecolor = 'r', linewidth = 5, alpha = 0.5)\n",
        "    ax.add_patch(tri)\n",
        "\n",
        "    plt.show()\n",
        "\n",
        "def visualize_multiple_prediction(x, y):\n",
        "    nb_images = x.shape[0]\n",
        "    fig, ax = plt.subplots(figsize=(5*2,int(nb_images/5)*3), nrows = int(nb_images/5), ncols = 5)\n",
        "    I = x.reshape((-1,IMAGE_SIZE,IMAGE_SIZE))\n",
        "    for i in range(nb_images):\n",
        "      ax[int((i - i%5)/5), i%5].imshow(I[i], extent=[-0.15,1.15,-0.15,1.15],cmap='gray')\n",
        "      ax[int((i - i%5)/5), i%5].set_xlim([0,1])\n",
        "      ax[int((i - i%5)/5), i%5].set_ylim([0,1])\n",
        "\n",
        "      xy = y[i,:].reshape(3,2)\n",
        "      tri = patches.Polygon(xy, closed=True, fill = False, edgecolor = 'r', linewidth = 5, alpha = 0.5)\n",
        "      ax[int((i - i%5)/5), i%5].add_patch(tri)\n",
        "\n",
        "    plt.show()    \n",
        "\n",
        "def generate_test_set_regression():\n",
        "    np.random.seed(42)\n",
        "    [X_test, Y_test] = generate_dataset_regression(300, 20)\n",
        "    return [X_test, Y_test]"
      ],
      "execution_count": 0,
      "outputs": []
    },
    {
      "metadata": {
        "id": "cOhytfDhuDuI",
        "colab_type": "text"
      },
      "cell_type": "markdown",
      "source": [
        "## 3 Simple Classification\n"
      ]
    },
    {
      "metadata": {
        "id": "lFLYwQ-y65oW",
        "colab_type": "text"
      },
      "cell_type": "markdown",
      "source": [
        "I convert the Ys taking values in $\\{1,2,3\\}$ to one-hot vectors for classification"
      ]
    },
    {
      "metadata": {
        "id": "onvHc0jpw74E",
        "colab_type": "code",
        "outputId": "a4762a58-e58a-4858-c974-2c4f30a3fcd9",
        "colab": {
          "base_uri": "https://localhost:8080/",
          "height": 158
        }
      },
      "cell_type": "code",
      "source": [
        "from keras.utils import np_utils\n",
        "\n",
        "[X_train, Y_train] = generate_dataset_classification(300, 20, print_every = 50)\n",
        "#reshape y_train\n",
        "y_train = np_utils.to_categorical(Y_train)\n",
        "\n",
        "print('Shape of X: {}, shape of Y: {}, shape of y: {}'.format(X_train.shape,Y_train.shape,y_train.shape))"
      ],
      "execution_count": 85,
      "outputs": [
        {
          "output_type": "stream",
          "text": [
            "Creating data:\n",
            "0\n",
            "50\n",
            "100\n",
            "150\n",
            "200\n",
            "250\n",
            "Shape of X: (300, 5184), shape of Y: (300,), shape of y: (300, 3)\n"
          ],
          "name": "stdout"
        }
      ]
    },
    {
      "metadata": {
        "id": "Cl3bXQl3_1iC",
        "colab_type": "text"
      },
      "cell_type": "markdown",
      "source": [
        "A linear classifier is of the form $\\sigma(w^TX) \\approx Y$, where $w,X \\in \\mathbb{R}^n, Y \\in \\mathbb{R}$. Since we convert $Y$ from a scalar to a $\\bar{Y}$ one-hot vector,  performing linear classification is the same as doing the operation $\\sigma(\\bar{W}^TX) \\approx \\bar{Y}$, where $\\bar{W} \\in \\mathbb{R}^{n \\times 3}$, and $\\sigma$ is applied on each of the 3 outputs."
      ]
    },
    {
      "metadata": {
        "id": "xh2LEQNleBWs",
        "colab_type": "text"
      },
      "cell_type": "markdown",
      "source": [
        "### Linear classifier, Stochastic Gradient Descent"
      ]
    },
    {
      "metadata": {
        "id": "BZb1Hgg47qnJ",
        "colab_type": "text"
      },
      "cell_type": "markdown",
      "source": [
        "I define the linear classifier as follows. The values for the SGD optimizer have been chosen heuristically, but the results were more or less equivalent when changing the hyperparameters."
      ]
    },
    {
      "metadata": {
        "id": "LJL39JYISkdS",
        "colab_type": "code",
        "outputId": "48a9c523-d3fb-463f-eff0-9e5991641a77",
        "colab": {
          "base_uri": "https://localhost:8080/",
          "height": 2328
        }
      },
      "cell_type": "code",
      "source": [
        "from keras.models import Sequential\n",
        "from keras.layers import Dense, Activation\n",
        "\n",
        "##############NETWORK###################\n",
        "#Layer 1\n",
        "nb_neurons_1 = 3\n",
        "model = Sequential([\n",
        "Dense(nb_neurons_1, input_shape=(72*72,)), Activation('softmax')])\n",
        "\n",
        "#Optimization\n",
        "from keras.optimizers import SGD\n",
        "sgd = SGD(lr=0.01,\n",
        "decay=1e-6, momentum=0.9,\n",
        "nesterov=True)\n",
        "model_1layer.compile(loss='mean_squared_error', optimizer=sgd, metrics=['accuracy'])\n",
        "\n",
        "#Train\n",
        "history = model_1layer.fit(X_train, y_train, validation_split=0.33, epochs=70, batch_size=10)"
      ],
      "execution_count": 113,
      "outputs": [
        {
          "output_type": "stream",
          "text": [
            "Train on 200 samples, validate on 100 samples\n",
            "Epoch 1/70\n",
            "200/200 [==============================] - 4s 21ms/step - loss: 0.2216 - acc: 0.3850 - val_loss: 0.2283 - val_acc: 0.2500\n",
            "Epoch 2/70\n",
            "200/200 [==============================] - 0s 669us/step - loss: 0.2214 - acc: 0.3850 - val_loss: 0.2268 - val_acc: 0.2500\n",
            "Epoch 3/70\n",
            "200/200 [==============================] - 0s 571us/step - loss: 0.2216 - acc: 0.3850 - val_loss: 0.2302 - val_acc: 0.2500\n",
            "Epoch 4/70\n",
            "200/200 [==============================] - 0s 587us/step - loss: 0.2214 - acc: 0.3850 - val_loss: 0.2270 - val_acc: 0.2500\n",
            "Epoch 5/70\n",
            "200/200 [==============================] - 0s 585us/step - loss: 0.2214 - acc: 0.3850 - val_loss: 0.2281 - val_acc: 0.2500\n",
            "Epoch 6/70\n",
            "200/200 [==============================] - 0s 594us/step - loss: 0.2212 - acc: 0.3850 - val_loss: 0.2275 - val_acc: 0.2500\n",
            "Epoch 7/70\n",
            "200/200 [==============================] - 0s 592us/step - loss: 0.2212 - acc: 0.3850 - val_loss: 0.2280 - val_acc: 0.2500\n",
            "Epoch 8/70\n",
            "200/200 [==============================] - 0s 564us/step - loss: 0.2214 - acc: 0.3850 - val_loss: 0.2266 - val_acc: 0.2500\n",
            "Epoch 9/70\n",
            "200/200 [==============================] - 0s 579us/step - loss: 0.2214 - acc: 0.3850 - val_loss: 0.2288 - val_acc: 0.2500\n",
            "Epoch 10/70\n",
            "200/200 [==============================] - 0s 576us/step - loss: 0.2222 - acc: 0.3850 - val_loss: 0.2280 - val_acc: 0.2500\n",
            "Epoch 11/70\n",
            "200/200 [==============================] - 0s 657us/step - loss: 0.2220 - acc: 0.3850 - val_loss: 0.2290 - val_acc: 0.2500\n",
            "Epoch 12/70\n",
            "200/200 [==============================] - 0s 602us/step - loss: 0.2210 - acc: 0.3850 - val_loss: 0.2268 - val_acc: 0.2500\n",
            "Epoch 13/70\n",
            "200/200 [==============================] - 0s 589us/step - loss: 0.2215 - acc: 0.3850 - val_loss: 0.2259 - val_acc: 0.2500\n",
            "Epoch 14/70\n",
            "200/200 [==============================] - 0s 610us/step - loss: 0.2214 - acc: 0.3850 - val_loss: 0.2293 - val_acc: 0.2500\n",
            "Epoch 15/70\n",
            "200/200 [==============================] - 0s 576us/step - loss: 0.2221 - acc: 0.3850 - val_loss: 0.2291 - val_acc: 0.2500\n",
            "Epoch 16/70\n",
            "200/200 [==============================] - 0s 586us/step - loss: 0.2211 - acc: 0.3850 - val_loss: 0.2276 - val_acc: 0.2500\n",
            "Epoch 17/70\n",
            "200/200 [==============================] - 0s 581us/step - loss: 0.2210 - acc: 0.3850 - val_loss: 0.2273 - val_acc: 0.2500\n",
            "Epoch 18/70\n",
            "200/200 [==============================] - 0s 586us/step - loss: 0.2217 - acc: 0.3850 - val_loss: 0.2260 - val_acc: 0.2500\n",
            "Epoch 19/70\n",
            "200/200 [==============================] - 0s 624us/step - loss: 0.2211 - acc: 0.3850 - val_loss: 0.2290 - val_acc: 0.2500\n",
            "Epoch 20/70\n",
            "200/200 [==============================] - 0s 603us/step - loss: 0.2213 - acc: 0.3850 - val_loss: 0.2302 - val_acc: 0.2500\n",
            "Epoch 21/70\n",
            "200/200 [==============================] - 0s 596us/step - loss: 0.2214 - acc: 0.3850 - val_loss: 0.2274 - val_acc: 0.2500\n",
            "Epoch 22/70\n",
            "200/200 [==============================] - 0s 592us/step - loss: 0.2211 - acc: 0.3850 - val_loss: 0.2268 - val_acc: 0.2500\n",
            "Epoch 23/70\n",
            "200/200 [==============================] - 0s 592us/step - loss: 0.2216 - acc: 0.3850 - val_loss: 0.2282 - val_acc: 0.2500\n",
            "Epoch 24/70\n",
            "200/200 [==============================] - 0s 609us/step - loss: 0.2217 - acc: 0.3850 - val_loss: 0.2264 - val_acc: 0.2500\n",
            "Epoch 25/70\n",
            "200/200 [==============================] - 0s 572us/step - loss: 0.2217 - acc: 0.3850 - val_loss: 0.2301 - val_acc: 0.2500\n",
            "Epoch 26/70\n",
            "200/200 [==============================] - 0s 581us/step - loss: 0.2216 - acc: 0.3850 - val_loss: 0.2286 - val_acc: 0.2500\n",
            "Epoch 27/70\n",
            "200/200 [==============================] - 0s 624us/step - loss: 0.2215 - acc: 0.3850 - val_loss: 0.2260 - val_acc: 0.2500\n",
            "Epoch 28/70\n",
            "200/200 [==============================] - 0s 723us/step - loss: 0.2211 - acc: 0.3850 - val_loss: 0.2273 - val_acc: 0.2500\n",
            "Epoch 29/70\n",
            "200/200 [==============================] - 0s 588us/step - loss: 0.2213 - acc: 0.3850 - val_loss: 0.2285 - val_acc: 0.2500\n",
            "Epoch 30/70\n",
            "200/200 [==============================] - 0s 616us/step - loss: 0.2211 - acc: 0.3850 - val_loss: 0.2279 - val_acc: 0.2500\n",
            "Epoch 31/70\n",
            "200/200 [==============================] - 0s 593us/step - loss: 0.2215 - acc: 0.3850 - val_loss: 0.2281 - val_acc: 0.2500\n",
            "Epoch 32/70\n",
            "200/200 [==============================] - 0s 589us/step - loss: 0.2222 - acc: 0.3850 - val_loss: 0.2253 - val_acc: 0.2500\n",
            "Epoch 33/70\n",
            "200/200 [==============================] - 0s 590us/step - loss: 0.2228 - acc: 0.3850 - val_loss: 0.2299 - val_acc: 0.2500\n",
            "Epoch 34/70\n",
            "200/200 [==============================] - 0s 601us/step - loss: 0.2210 - acc: 0.3850 - val_loss: 0.2276 - val_acc: 0.2500\n",
            "Epoch 35/70\n",
            "200/200 [==============================] - 0s 593us/step - loss: 0.2214 - acc: 0.3850 - val_loss: 0.2286 - val_acc: 0.2500\n",
            "Epoch 36/70\n",
            "200/200 [==============================] - 0s 638us/step - loss: 0.2221 - acc: 0.3850 - val_loss: 0.2252 - val_acc: 0.2500\n",
            "Epoch 37/70\n",
            "200/200 [==============================] - 0s 604us/step - loss: 0.2218 - acc: 0.3850 - val_loss: 0.2285 - val_acc: 0.2500\n",
            "Epoch 38/70\n",
            "200/200 [==============================] - 0s 582us/step - loss: 0.2212 - acc: 0.3850 - val_loss: 0.2285 - val_acc: 0.2500\n",
            "Epoch 39/70\n",
            "200/200 [==============================] - 0s 588us/step - loss: 0.2216 - acc: 0.3850 - val_loss: 0.2284 - val_acc: 0.2500\n",
            "Epoch 40/70\n",
            "200/200 [==============================] - 0s 588us/step - loss: 0.2214 - acc: 0.3850 - val_loss: 0.2284 - val_acc: 0.2500\n",
            "Epoch 41/70\n",
            "200/200 [==============================] - 0s 585us/step - loss: 0.2211 - acc: 0.3850 - val_loss: 0.2283 - val_acc: 0.2500\n",
            "Epoch 42/70\n",
            "200/200 [==============================] - 0s 606us/step - loss: 0.2215 - acc: 0.3850 - val_loss: 0.2268 - val_acc: 0.2500\n",
            "Epoch 43/70\n",
            "200/200 [==============================] - 0s 589us/step - loss: 0.2218 - acc: 0.3850 - val_loss: 0.2259 - val_acc: 0.2500\n",
            "Epoch 44/70\n",
            "200/200 [==============================] - 0s 597us/step - loss: 0.2217 - acc: 0.3850 - val_loss: 0.2289 - val_acc: 0.2500\n",
            "Epoch 45/70\n",
            "200/200 [==============================] - 0s 660us/step - loss: 0.2212 - acc: 0.3850 - val_loss: 0.2270 - val_acc: 0.2500\n",
            "Epoch 46/70\n",
            "200/200 [==============================] - 0s 585us/step - loss: 0.2214 - acc: 0.3850 - val_loss: 0.2273 - val_acc: 0.2500\n",
            "Epoch 47/70\n",
            "200/200 [==============================] - 0s 564us/step - loss: 0.2214 - acc: 0.3850 - val_loss: 0.2286 - val_acc: 0.2500\n",
            "Epoch 48/70\n",
            "200/200 [==============================] - 0s 584us/step - loss: 0.2212 - acc: 0.3850 - val_loss: 0.2274 - val_acc: 0.2500\n",
            "Epoch 49/70\n",
            "200/200 [==============================] - 0s 590us/step - loss: 0.2217 - acc: 0.3850 - val_loss: 0.2292 - val_acc: 0.2500\n",
            "Epoch 50/70\n",
            "200/200 [==============================] - 0s 589us/step - loss: 0.2218 - acc: 0.3850 - val_loss: 0.2269 - val_acc: 0.2500\n",
            "Epoch 51/70\n",
            "200/200 [==============================] - 0s 572us/step - loss: 0.2212 - acc: 0.3850 - val_loss: 0.2277 - val_acc: 0.2500\n",
            "Epoch 52/70\n",
            "200/200 [==============================] - 0s 583us/step - loss: 0.2231 - acc: 0.3850 - val_loss: 0.2278 - val_acc: 0.2500\n",
            "Epoch 53/70\n",
            "200/200 [==============================] - 0s 642us/step - loss: 0.2212 - acc: 0.3850 - val_loss: 0.2279 - val_acc: 0.2500\n",
            "Epoch 54/70\n",
            "200/200 [==============================] - 0s 602us/step - loss: 0.2212 - acc: 0.3850 - val_loss: 0.2274 - val_acc: 0.2500\n",
            "Epoch 55/70\n",
            "200/200 [==============================] - 0s 578us/step - loss: 0.2221 - acc: 0.3850 - val_loss: 0.2287 - val_acc: 0.2500\n",
            "Epoch 56/70\n",
            "200/200 [==============================] - 0s 590us/step - loss: 0.2213 - acc: 0.3850 - val_loss: 0.2253 - val_acc: 0.2500\n",
            "Epoch 57/70\n",
            "200/200 [==============================] - 0s 580us/step - loss: 0.2214 - acc: 0.3850 - val_loss: 0.2282 - val_acc: 0.2500\n",
            "Epoch 58/70\n",
            "200/200 [==============================] - 0s 565us/step - loss: 0.2215 - acc: 0.3850 - val_loss: 0.2270 - val_acc: 0.2500\n",
            "Epoch 59/70\n",
            "200/200 [==============================] - 0s 584us/step - loss: 0.2214 - acc: 0.3850 - val_loss: 0.2300 - val_acc: 0.2500\n",
            "Epoch 60/70\n",
            "200/200 [==============================] - 0s 582us/step - loss: 0.2213 - acc: 0.3850 - val_loss: 0.2270 - val_acc: 0.2500\n",
            "Epoch 61/70\n",
            "200/200 [==============================] - 0s 585us/step - loss: 0.2215 - acc: 0.3850 - val_loss: 0.2273 - val_acc: 0.2500\n",
            "Epoch 62/70\n",
            "200/200 [==============================] - 0s 652us/step - loss: 0.2219 - acc: 0.3850 - val_loss: 0.2288 - val_acc: 0.2500\n",
            "Epoch 63/70\n",
            "200/200 [==============================] - 0s 583us/step - loss: 0.2210 - acc: 0.3850 - val_loss: 0.2270 - val_acc: 0.2500\n",
            "Epoch 64/70\n",
            "200/200 [==============================] - 0s 559us/step - loss: 0.2213 - acc: 0.3850 - val_loss: 0.2276 - val_acc: 0.2500\n",
            "Epoch 65/70\n",
            "200/200 [==============================] - 0s 570us/step - loss: 0.2212 - acc: 0.3850 - val_loss: 0.2276 - val_acc: 0.2500\n",
            "Epoch 66/70\n",
            "200/200 [==============================] - 0s 576us/step - loss: 0.2219 - acc: 0.3850 - val_loss: 0.2295 - val_acc: 0.2500\n",
            "Epoch 67/70\n",
            "200/200 [==============================] - 0s 580us/step - loss: 0.2211 - acc: 0.3850 - val_loss: 0.2282 - val_acc: 0.2500\n",
            "Epoch 68/70\n",
            "200/200 [==============================] - 0s 567us/step - loss: 0.2227 - acc: 0.3850 - val_loss: 0.2261 - val_acc: 0.2500\n",
            "Epoch 69/70\n",
            "200/200 [==============================] - 0s 570us/step - loss: 0.2213 - acc: 0.3850 - val_loss: 0.2283 - val_acc: 0.2500\n",
            "Epoch 70/70\n",
            "200/200 [==============================] - 0s 589us/step - loss: 0.2213 - acc: 0.3850 - val_loss: 0.2277 - val_acc: 0.2500\n"
          ],
          "name": "stdout"
        }
      ]
    },
    {
      "metadata": {
        "id": "SPkORTPKuu_h",
        "colab_type": "text"
      },
      "cell_type": "markdown",
      "source": [
        "We can visualize the convergence using the following code :"
      ]
    },
    {
      "metadata": {
        "id": "YbK2ijRQut4P",
        "colab_type": "code",
        "outputId": "fc2f9cd5-f6e3-42b6-89c3-5272219b5613",
        "colab": {
          "base_uri": "https://localhost:8080/",
          "height": 295
        }
      },
      "cell_type": "code",
      "source": [
        "#plot error\n",
        "plt.plot(history.history['acc'])\n",
        "plt.plot(history.history['val_acc'])\n",
        "plt.title('model accuracy')\n",
        "plt.ylabel('accuracy')\n",
        "plt.xlabel('epoch')\n",
        "plt.legend(['train', 'test'], loc='upper left')\n",
        "plt.ylim((0,1))\n",
        "plt.show()"
      ],
      "execution_count": 114,
      "outputs": [
        {
          "output_type": "display_data",
          "data": {
            "image/png": "[encoded data removed]",
            "text/plain": [
              "<matplotlib.figure.Figure at 0x7f0f38f18518>"
            ]
          },
          "metadata": {
            "tags": []
          }
        }
      ]
    },
    {
      "metadata": {
        "id": "9HYPzZ6CveFx",
        "colab_type": "text"
      },
      "cell_type": "markdown",
      "source": [
        "We can also print the error rate on unseen data"
      ]
    },
    {
      "metadata": {
        "id": "JroBWMx2Uppz",
        "colab_type": "code",
        "outputId": "bc0a2fb1-8f40-441b-d6d0-3d3165d0e4d2",
        "colab": {
          "base_uri": "https://localhost:8080/",
          "height": 98
        }
      },
      "cell_type": "code",
      "source": [
        "#Test error\n",
        "nb_test = 200\n",
        "[X_test, Y_test] = generate_test_set_classification(print_every = 100)\n",
        "\n",
        "#predict values and convert them to one-hot\n",
        "y_predicted = model_1layer.predict(X_test)\n",
        "Y_predicted = [np.argmax(y_predicted[i,:]) for i in range(nb_test)]\n",
        "y_predicted = np_utils.to_categorical(Y_predicted)\n",
        "\n",
        "Error = Y_test - y_predicted\n",
        "error_rate = np.mean([np.linalg.norm(Error[i,:],1) for i in range(nb_test)])/3.\n",
        "  \n",
        "print('Error rate is {}'.format(np.round(error_rate,3)))"
      ],
      "execution_count": 115,
      "outputs": [
        {
          "output_type": "stream",
          "text": [
            "Creating data:\n",
            "0\n",
            "100\n",
            "200\n",
            "Error rate is 1.003999948501587\n"
          ],
          "name": "stdout"
        }
      ]
    },
    {
      "metadata": {
        "id": "TBMcYGnG9pDq",
        "colab_type": "text"
      },
      "cell_type": "markdown",
      "source": [
        "#### Conclusions: the optimizer seems to get stuck in the local minimum it was in and doesn't manage to move, which explains the constant error throughout the epochs.\n",
        "\n",
        "\n"
      ]
    },
    {
      "metadata": {
        "colab_type": "text",
        "id": "l7ZXW75seSsv"
      },
      "cell_type": "markdown",
      "source": [
        "### Linear classifier, Adam optimizer"
      ]
    },
    {
      "metadata": {
        "id": "rLBmp1FIfKGw",
        "colab_type": "code",
        "outputId": "5b4f66ec-601b-477a-dae9-1b6ce7faf525",
        "colab": {
          "base_uri": "https://localhost:8080/",
          "height": 2543
        }
      },
      "cell_type": "code",
      "source": [
        "from keras.models import Sequential\n",
        "from keras.layers import Dense, Activation\n",
        "\n",
        "#Just 1 layer\n",
        "nb_neurons_1 = 3\n",
        "model = Sequential([\n",
        "Dense(nb_neurons_1, input_shape=(72*72,)), Activation('softmax')])\n",
        "\n",
        "#Optimizer choice\n",
        "#Optimization\n",
        "from keras.optimizers import Adam\n",
        "adam = Adam(lr=0.0001, beta_1=0.9, beta_2=0.999, epsilon=None, decay=0.00001, amsgrad=False)\n",
        "model.compile(loss='mean_squared_error', optimizer=adam, metrics=['accuracy'])\n",
        "\n",
        "#Train\n",
        "history = model.fit(X_train, y_train, validation_split=0.33, epochs=70, batch_size=10)"
      ],
      "execution_count": 117,
      "outputs": [
        {
          "output_type": "stream",
          "text": [
            "Train on 200 samples, validate on 100 samples\n",
            "Epoch 1/70\n",
            "200/200 [==============================] - 4s 21ms/step - loss: 0.2069 - acc: 0.4550 - val_loss: 0.1871 - val_acc: 0.5200\n",
            "Epoch 2/70\n",
            "200/200 [==============================] - 0s 623us/step - loss: 0.1588 - acc: 0.6750 - val_loss: 0.1645 - val_acc: 0.5900\n",
            "Epoch 3/70\n",
            "200/200 [==============================] - 0s 609us/step - loss: 0.1409 - acc: 0.7400 - val_loss: 0.1508 - val_acc: 0.7500\n",
            "Epoch 4/70\n",
            "200/200 [==============================] - 0s 595us/step - loss: 0.1223 - acc: 0.7400 - val_loss: 0.1476 - val_acc: 0.6200\n",
            "Epoch 5/70\n",
            "200/200 [==============================] - 0s 668us/step - loss: 0.1139 - acc: 0.8000 - val_loss: 0.1294 - val_acc: 0.7800\n",
            "Epoch 6/70\n",
            "200/200 [==============================] - 0s 633us/step - loss: 0.1008 - acc: 0.8150 - val_loss: 0.1236 - val_acc: 0.7600\n",
            "Epoch 7/70\n",
            "200/200 [==============================] - 0s 636us/step - loss: 0.0936 - acc: 0.8300 - val_loss: 0.1104 - val_acc: 0.7900\n",
            "Epoch 8/70\n",
            "200/200 [==============================] - 0s 654us/step - loss: 0.0851 - acc: 0.8700 - val_loss: 0.1007 - val_acc: 0.8100\n",
            "Epoch 9/70\n",
            "200/200 [==============================] - 0s 635us/step - loss: 0.0799 - acc: 0.9000 - val_loss: 0.1023 - val_acc: 0.8700\n",
            "Epoch 10/70\n",
            "200/200 [==============================] - 0s 646us/step - loss: 0.0721 - acc: 0.8750 - val_loss: 0.0942 - val_acc: 0.8900\n",
            "Epoch 11/70\n",
            "200/200 [==============================] - 0s 646us/step - loss: 0.0696 - acc: 0.9250 - val_loss: 0.0914 - val_acc: 0.8200\n",
            "Epoch 12/70\n",
            "200/200 [==============================] - 0s 623us/step - loss: 0.0665 - acc: 0.9300 - val_loss: 0.0847 - val_acc: 0.9100\n",
            "Epoch 13/70\n",
            "200/200 [==============================] - 0s 713us/step - loss: 0.0633 - acc: 0.9150 - val_loss: 0.0836 - val_acc: 0.9200\n",
            "Epoch 14/70\n",
            "200/200 [==============================] - 0s 613us/step - loss: 0.0560 - acc: 0.9250 - val_loss: 0.0864 - val_acc: 0.8900\n",
            "Epoch 15/70\n",
            "200/200 [==============================] - 0s 618us/step - loss: 0.0538 - acc: 0.9500 - val_loss: 0.0761 - val_acc: 0.9200\n",
            "Epoch 16/70\n",
            "200/200 [==============================] - 0s 640us/step - loss: 0.0514 - acc: 0.9500 - val_loss: 0.0732 - val_acc: 0.9300\n",
            "Epoch 17/70\n",
            "200/200 [==============================] - 0s 628us/step - loss: 0.0498 - acc: 0.9550 - val_loss: 0.0715 - val_acc: 0.9300\n",
            "Epoch 18/70\n",
            "200/200 [==============================] - 0s 627us/step - loss: 0.0464 - acc: 0.9650 - val_loss: 0.0722 - val_acc: 0.9300\n",
            "Epoch 19/70\n",
            "200/200 [==============================] - 0s 625us/step - loss: 0.0452 - acc: 0.9600 - val_loss: 0.0651 - val_acc: 0.9300\n",
            "Epoch 20/70\n",
            "200/200 [==============================] - 0s 621us/step - loss: 0.0423 - acc: 0.9750 - val_loss: 0.0596 - val_acc: 0.9200\n",
            "Epoch 21/70\n",
            "200/200 [==============================] - 0s 678us/step - loss: 0.0398 - acc: 0.9700 - val_loss: 0.0579 - val_acc: 0.9500\n",
            "Epoch 22/70\n",
            "200/200 [==============================] - 0s 628us/step - loss: 0.0397 - acc: 0.9650 - val_loss: 0.0556 - val_acc: 0.9000\n",
            "Epoch 23/70\n",
            "200/200 [==============================] - 0s 624us/step - loss: 0.0362 - acc: 0.9800 - val_loss: 0.0534 - val_acc: 0.9100\n",
            "Epoch 24/70\n",
            "200/200 [==============================] - 0s 628us/step - loss: 0.0349 - acc: 0.9800 - val_loss: 0.0706 - val_acc: 0.9200\n",
            "Epoch 25/70\n",
            "200/200 [==============================] - 0s 637us/step - loss: 0.0376 - acc: 0.9500 - val_loss: 0.0625 - val_acc: 0.9300\n",
            "Epoch 26/70\n",
            "200/200 [==============================] - 0s 645us/step - loss: 0.0323 - acc: 0.9900 - val_loss: 0.0471 - val_acc: 0.9300\n",
            "Epoch 27/70\n",
            "200/200 [==============================] - 0s 621us/step - loss: 0.0303 - acc: 0.9850 - val_loss: 0.0459 - val_acc: 0.9400\n",
            "Epoch 28/70\n",
            "200/200 [==============================] - 0s 612us/step - loss: 0.0296 - acc: 0.9900 - val_loss: 0.0521 - val_acc: 0.9400\n",
            "Epoch 29/70\n",
            "200/200 [==============================] - 0s 699us/step - loss: 0.0272 - acc: 0.9950 - val_loss: 0.0428 - val_acc: 0.9500\n",
            "Epoch 30/70\n",
            "200/200 [==============================] - 0s 621us/step - loss: 0.0280 - acc: 0.9900 - val_loss: 0.0435 - val_acc: 0.9500\n",
            "Epoch 31/70\n",
            "200/200 [==============================] - 0s 628us/step - loss: 0.0275 - acc: 0.9900 - val_loss: 0.0422 - val_acc: 0.9500\n",
            "Epoch 32/70\n",
            "200/200 [==============================] - 0s 636us/step - loss: 0.0254 - acc: 0.9850 - val_loss: 0.0393 - val_acc: 0.9500\n",
            "Epoch 33/70\n",
            "200/200 [==============================] - 0s 642us/step - loss: 0.0236 - acc: 0.9850 - val_loss: 0.0403 - val_acc: 0.9500\n",
            "Epoch 34/70\n",
            "200/200 [==============================] - 0s 629us/step - loss: 0.0249 - acc: 0.9850 - val_loss: 0.0414 - val_acc: 0.9500\n",
            "Epoch 35/70\n",
            "200/200 [==============================] - 0s 653us/step - loss: 0.0236 - acc: 0.9950 - val_loss: 0.0436 - val_acc: 0.9400\n",
            "Epoch 36/70\n",
            "200/200 [==============================] - 0s 666us/step - loss: 0.0232 - acc: 0.9900 - val_loss: 0.0353 - val_acc: 0.9600\n",
            "Epoch 37/70\n",
            "200/200 [==============================] - 0s 728us/step - loss: 0.0205 - acc: 0.9900 - val_loss: 0.0379 - val_acc: 0.9500\n",
            "Epoch 38/70\n",
            "200/200 [==============================] - 0s 669us/step - loss: 0.0208 - acc: 0.9900 - val_loss: 0.0339 - val_acc: 0.9700\n",
            "Epoch 39/70\n",
            "200/200 [==============================] - 0s 626us/step - loss: 0.0253 - acc: 0.9750 - val_loss: 0.0352 - val_acc: 0.9700\n",
            "Epoch 40/70\n",
            "200/200 [==============================] - 0s 651us/step - loss: 0.0216 - acc: 0.9850 - val_loss: 0.0314 - val_acc: 0.9700\n",
            "Epoch 41/70\n",
            "200/200 [==============================] - 0s 632us/step - loss: 0.0180 - acc: 0.9900 - val_loss: 0.0314 - val_acc: 0.9700\n",
            "Epoch 42/70\n",
            "200/200 [==============================] - 0s 634us/step - loss: 0.0177 - acc: 0.9950 - val_loss: 0.0298 - val_acc: 0.9800\n",
            "Epoch 43/70\n",
            "200/200 [==============================] - 0s 646us/step - loss: 0.0174 - acc: 0.9900 - val_loss: 0.0309 - val_acc: 0.9500\n",
            "Epoch 44/70\n",
            "200/200 [==============================] - 0s 691us/step - loss: 0.0165 - acc: 0.9950 - val_loss: 0.0328 - val_acc: 0.9500\n",
            "Epoch 45/70\n",
            "200/200 [==============================] - 0s 658us/step - loss: 0.0170 - acc: 0.9950 - val_loss: 0.0339 - val_acc: 0.9500\n",
            "Epoch 46/70\n",
            "200/200 [==============================] - 0s 650us/step - loss: 0.0154 - acc: 1.0000 - val_loss: 0.0296 - val_acc: 0.9500\n",
            "Epoch 47/70\n",
            "200/200 [==============================] - 0s 640us/step - loss: 0.0168 - acc: 0.9950 - val_loss: 0.0268 - val_acc: 0.9900\n",
            "Epoch 48/70\n",
            "200/200 [==============================] - 0s 660us/step - loss: 0.0151 - acc: 0.9950 - val_loss: 0.0287 - val_acc: 0.9600\n",
            "Epoch 49/70\n",
            "200/200 [==============================] - 0s 637us/step - loss: 0.0154 - acc: 0.9900 - val_loss: 0.0304 - val_acc: 0.9500\n",
            "Epoch 50/70\n",
            "200/200 [==============================] - 0s 613us/step - loss: 0.0138 - acc: 0.9950 - val_loss: 0.0273 - val_acc: 0.9600\n",
            "Epoch 51/70\n",
            "200/200 [==============================] - 0s 642us/step - loss: 0.0143 - acc: 0.9950 - val_loss: 0.0246 - val_acc: 1.0000\n",
            "Epoch 52/70\n",
            "200/200 [==============================] - 0s 690us/step - loss: 0.0133 - acc: 0.9950 - val_loss: 0.0237 - val_acc: 1.0000\n",
            "Epoch 53/70\n",
            "200/200 [==============================] - 0s 646us/step - loss: 0.0129 - acc: 0.9950 - val_loss: 0.0235 - val_acc: 1.0000\n",
            "Epoch 54/70\n",
            "200/200 [==============================] - 0s 616us/step - loss: 0.0124 - acc: 1.0000 - val_loss: 0.0228 - val_acc: 1.0000\n",
            "Epoch 55/70\n",
            "200/200 [==============================] - 0s 635us/step - loss: 0.0119 - acc: 1.0000 - val_loss: 0.0225 - val_acc: 1.0000\n",
            "Epoch 56/70\n",
            "200/200 [==============================] - 0s 648us/step - loss: 0.0123 - acc: 0.9950 - val_loss: 0.0226 - val_acc: 1.0000\n",
            "Epoch 57/70\n",
            "200/200 [==============================] - 0s 614us/step - loss: 0.0131 - acc: 0.9950 - val_loss: 0.0226 - val_acc: 0.9900\n",
            "Epoch 58/70\n",
            "200/200 [==============================] - 0s 613us/step - loss: 0.0133 - acc: 1.0000 - val_loss: 0.0213 - val_acc: 1.0000\n",
            "Epoch 59/70\n",
            "200/200 [==============================] - 0s 634us/step - loss: 0.0132 - acc: 0.9900 - val_loss: 0.0212 - val_acc: 0.9900\n",
            "Epoch 60/70\n",
            "200/200 [==============================] - 0s 713us/step - loss: 0.0112 - acc: 1.0000 - val_loss: 0.0201 - val_acc: 1.0000\n",
            "Epoch 61/70\n",
            "200/200 [==============================] - 0s 630us/step - loss: 0.0107 - acc: 1.0000 - val_loss: 0.0328 - val_acc: 0.9500\n",
            "Epoch 62/70\n",
            "200/200 [==============================] - 0s 629us/step - loss: 0.0132 - acc: 0.9950 - val_loss: 0.0212 - val_acc: 0.9900\n",
            "Epoch 63/70\n",
            "200/200 [==============================] - 0s 622us/step - loss: 0.0103 - acc: 1.0000 - val_loss: 0.0212 - val_acc: 0.9900\n",
            "Epoch 64/70\n",
            "200/200 [==============================] - 0s 628us/step - loss: 0.0094 - acc: 1.0000 - val_loss: 0.0190 - val_acc: 1.0000\n",
            "Epoch 65/70\n",
            "200/200 [==============================] - 0s 655us/step - loss: 0.0099 - acc: 1.0000 - val_loss: 0.0187 - val_acc: 1.0000\n",
            "Epoch 66/70\n",
            "200/200 [==============================] - 0s 628us/step - loss: 0.0093 - acc: 1.0000 - val_loss: 0.0257 - val_acc: 0.9500\n",
            "Epoch 67/70\n",
            "200/200 [==============================] - 0s 644us/step - loss: 0.0112 - acc: 0.9950 - val_loss: 0.0219 - val_acc: 0.9700\n",
            "Epoch 68/70\n",
            "200/200 [==============================] - 0s 734us/step - loss: 0.0089 - acc: 1.0000 - val_loss: 0.0176 - val_acc: 1.0000\n",
            "Epoch 69/70\n",
            "200/200 [==============================] - 0s 639us/step - loss: 0.0090 - acc: 1.0000 - val_loss: 0.0176 - val_acc: 1.0000\n",
            "Epoch 70/70\n",
            "200/200 [==============================] - 0s 635us/step - loss: 0.0090 - acc: 1.0000 - val_loss: 0.0172 - val_acc: 1.0000\n"
          ],
          "name": "stdout"
        }
      ]
    },
    {
      "metadata": {
        "id": "j2F0_6X3xC1M",
        "colab_type": "code",
        "outputId": "605659cc-ce59-40c1-ca54-2ace59408f39",
        "colab": {
          "base_uri": "https://localhost:8080/",
          "height": 295
        }
      },
      "cell_type": "code",
      "source": [
        "#plot error\n",
        "plt.plot(history.history['acc'])\n",
        "plt.plot(history.history['val_acc'])\n",
        "plt.title('model accuracy')\n",
        "plt.ylabel('accuracy')\n",
        "plt.xlabel('epoch')\n",
        "plt.ylim((0,1))\n",
        "plt.legend(['train', 'test'], loc='upper left')\n",
        "plt.show()"
      ],
      "execution_count": 118,
      "outputs": [
        {
          "output_type": "display_data",
          "data": {
            "image/png": "[encoded data removed]",
            "text/plain": [
              "<matplotlib.figure.Figure at 0x7f0f09863550>"
            ]
          },
          "metadata": {
            "tags": []
          }
        }
      ]
    },
    {
      "metadata": {
        "id": "SsW4FvamgybX",
        "colab_type": "code",
        "outputId": "a13b4fe2-a6f5-4473-d8e6-8285d2b392f1",
        "colab": {
          "base_uri": "https://localhost:8080/",
          "height": 33
        }
      },
      "cell_type": "code",
      "source": [
        "#predict values and convert them to one-hot\n",
        "y_predicted = model.predict(X_test)\n",
        "Y_predicted = [np.argmax(y_predicted[i,:]) for i in range(nb_test)]\n",
        "y_predicted = np_utils.to_categorical(Y_predicted)\n",
        "\n",
        "Error = Y_test - y_predicted\n",
        "error_rate = np.mean([np.linalg.norm(Error[i,:],1) for i in range(nb_test)])/3.\n",
        "  \n",
        "print('Error rate is {}'.format(np.round(error_rate,3)))"
      ],
      "execution_count": 119,
      "outputs": [
        {
          "output_type": "stream",
          "text": [
            "Error rate is 0.0\n"
          ],
          "name": "stdout"
        }
      ]
    },
    {
      "metadata": {
        "id": "rt6M4Qac-joX",
        "colab_type": "text"
      },
      "cell_type": "markdown",
      "source": [
        "#### The difference using state of the art Adam optimizer is huge, the convergence is very quick and the result is as good as we could hope for a linear classifier on this problem."
      ]
    },
    {
      "metadata": {
        "id": "J7oEoOWEjx1j",
        "colab_type": "text"
      },
      "cell_type": "markdown",
      "source": [
        "## 4 - Visualization of the Solution"
      ]
    },
    {
      "metadata": {
        "id": "cuZpNVpVxYJR",
        "colab_type": "text"
      },
      "cell_type": "markdown",
      "source": [
        "model.get_weights() outputs $\\hat{W}$.Each of the 3 columns therefore correspond to the weights of one of the 3 shapes, and can be reshaped as images easily."
      ]
    },
    {
      "metadata": {
        "id": "rbrx607Pj1V3",
        "colab_type": "code",
        "outputId": "7d0cb8e0-9da2-4a4d-c547-53bc51da962c",
        "colab": {
          "base_uri": "https://localhost:8080/",
          "height": 214
        }
      },
      "cell_type": "code",
      "source": [
        "Weights_layer_1 = model.get_weights()[0]\n",
        "\n",
        "plt.figure(figsize = (10,20))\n",
        "\n",
        "plt.subplot(131)\n",
        "im = Weights_layer_1[:,0]\n",
        "plt.imshow(im.reshape(IMAGE_SIZE,IMAGE_SIZE))\n",
        "\n",
        "plt.subplot(132)\n",
        "im = Weights_layer_1[:,1]\n",
        "plt.imshow(im.reshape(IMAGE_SIZE,IMAGE_SIZE))\n",
        "\n",
        "plt.subplot(133)\n",
        "im = Weights_layer_1[:,2]\n",
        "plt.imshow(im.reshape(IMAGE_SIZE,IMAGE_SIZE))\n",
        "\n",
        "plt.show()"
      ],
      "execution_count": 120,
      "outputs": [
        {
          "output_type": "display_data",
          "data": {
            "image/png": "[encoded data removed]",
            "text/plain": [
              "<matplotlib.figure.Figure at 0x7f0f3c701d68>"
            ]
          },
          "metadata": {
            "tags": []
          }
        }
      ]
    },
    {
      "metadata": {
        "id": "DGrgM-kTDZk4",
        "colab_type": "text"
      },
      "cell_type": "markdown",
      "source": [
        "#### We can see that the weights are mostly made of noise, except in the areas that differentiate the 3 shapes. \n",
        "#### Indeed, we can see for example that the second weight vector, corresponding to the circle shape, assigns bigger weights in the center, except for diagonal lines crossing the center where the weights are close to 0 (because circles don't have edges), while the first weight vector corresponding to the square assigns values closer to 1 on those lines (because squares have edges)."
      ]
    },
    {
      "metadata": {
        "id": "fWOJEYvLZsdA",
        "colab_type": "text"
      },
      "cell_type": "markdown",
      "source": [
        "## 5 A more Difficult Classification Problem"
      ]
    },
    {
      "metadata": {
        "id": "J9946KxlyN9G",
        "colab_type": "text"
      },
      "cell_type": "markdown",
      "source": [
        "###Linear classifier"
      ]
    },
    {
      "metadata": {
        "id": "ARUmnQkGFUkd",
        "colab_type": "text"
      },
      "cell_type": "markdown",
      "source": [
        "Let's try training the same classifier as above on a set of shapes that can now move around."
      ]
    },
    {
      "metadata": {
        "id": "wZENv2YqqmVR",
        "colab_type": "code",
        "outputId": "00a74103-cf58-4a3d-92e4-421bbe6df095",
        "colab": {
          "base_uri": "https://localhost:8080/",
          "height": 3734
        }
      },
      "cell_type": "code",
      "source": [
        "from keras.utils import np_utils\n",
        "from keras.models import Sequential\n",
        "from keras.layers import Dense, Activation\n",
        "\n",
        "[X_train, Y_train] = generate_dataset_classification(300, 20, 50, True)\n",
        "#reshape y_train\n",
        "y_train = np_utils.to_categorical(Y_train)\n",
        "\n",
        "#Just 1 layer\n",
        "nb_neurons_1 = 3\n",
        "model = Sequential([\n",
        "Dense(nb_neurons_1, input_shape=(5184,)),\n",
        "Activation('softmax')])\n",
        "\n",
        "#Optimizer choice\n",
        "#Optimization\n",
        "from keras.optimizers import Adam\n",
        "adam = Adam(lr=0.0001, beta_1=0.9, beta_2=0.999, epsilon=None, decay=0.00001, amsgrad=False)\n",
        "model.compile(loss='mean_squared_error', optimizer=adam, metrics=['accuracy'])\n",
        "\n",
        "#Train\n",
        "history = model.fit(X_train, y_train, validation_split=0.33, epochs=100, batch_size=10)"
      ],
      "execution_count": 121,
      "outputs": [
        {
          "output_type": "stream",
          "text": [
            "Creating data:\n",
            "0\n",
            "50\n",
            "100\n",
            "150\n",
            "200\n",
            "250\n",
            "Train on 200 samples, validate on 100 samples\n",
            "Epoch 1/100\n",
            "200/200 [==============================] - 4s 22ms/step - loss: 0.2345 - acc: 0.4050 - val_loss: 0.2580 - val_acc: 0.3700\n",
            "Epoch 2/100\n",
            "200/200 [==============================] - 0s 620us/step - loss: 0.2375 - acc: 0.4050 - val_loss: 0.2194 - val_acc: 0.4400\n",
            "Epoch 3/100\n",
            "200/200 [==============================] - 0s 628us/step - loss: 0.2190 - acc: 0.4000 - val_loss: 0.2120 - val_acc: 0.4500\n",
            "Epoch 4/100\n",
            "200/200 [==============================] - 0s 640us/step - loss: 0.2151 - acc: 0.4150 - val_loss: 0.2148 - val_acc: 0.3900\n",
            "Epoch 5/100\n",
            "200/200 [==============================] - 0s 627us/step - loss: 0.2119 - acc: 0.4050 - val_loss: 0.2122 - val_acc: 0.3900\n",
            "Epoch 6/100\n",
            "200/200 [==============================] - 0s 657us/step - loss: 0.2069 - acc: 0.4500 - val_loss: 0.2121 - val_acc: 0.3700\n",
            "Epoch 7/100\n",
            "200/200 [==============================] - 0s 673us/step - loss: 0.1978 - acc: 0.4800 - val_loss: 0.2108 - val_acc: 0.4000\n",
            "Epoch 8/100\n",
            "200/200 [==============================] - 0s 617us/step - loss: 0.1990 - acc: 0.4800 - val_loss: 0.2088 - val_acc: 0.4900\n",
            "Epoch 9/100\n",
            "200/200 [==============================] - 0s 665us/step - loss: 0.1952 - acc: 0.4900 - val_loss: 0.2068 - val_acc: 0.4000\n",
            "Epoch 10/100\n",
            "200/200 [==============================] - 0s 612us/step - loss: 0.1877 - acc: 0.5700 - val_loss: 0.2168 - val_acc: 0.4200\n",
            "Epoch 11/100\n",
            "200/200 [==============================] - 0s 635us/step - loss: 0.1973 - acc: 0.4950 - val_loss: 0.2251 - val_acc: 0.4200\n",
            "Epoch 12/100\n",
            "200/200 [==============================] - 0s 626us/step - loss: 0.1942 - acc: 0.5350 - val_loss: 0.2177 - val_acc: 0.4200\n",
            "Epoch 13/100\n",
            "200/200 [==============================] - 0s 631us/step - loss: 0.1924 - acc: 0.5350 - val_loss: 0.2398 - val_acc: 0.4300\n",
            "Epoch 14/100\n",
            "200/200 [==============================] - 0s 637us/step - loss: 0.1870 - acc: 0.6000 - val_loss: 0.2129 - val_acc: 0.4400\n",
            "Epoch 15/100\n",
            "200/200 [==============================] - 0s 641us/step - loss: 0.1865 - acc: 0.5400 - val_loss: 0.2226 - val_acc: 0.4100\n",
            "Epoch 16/100\n",
            "200/200 [==============================] - 0s 629us/step - loss: 0.1845 - acc: 0.5400 - val_loss: 0.2253 - val_acc: 0.4700\n",
            "Epoch 17/100\n",
            "200/200 [==============================] - 0s 717us/step - loss: 0.1887 - acc: 0.5450 - val_loss: 0.2124 - val_acc: 0.4600\n",
            "Epoch 18/100\n",
            "200/200 [==============================] - 0s 626us/step - loss: 0.1970 - acc: 0.5200 - val_loss: 0.2212 - val_acc: 0.4500\n",
            "Epoch 19/100\n",
            "200/200 [==============================] - 0s 615us/step - loss: 0.1766 - acc: 0.5850 - val_loss: 0.2143 - val_acc: 0.4500\n",
            "Epoch 20/100\n",
            "200/200 [==============================] - 0s 616us/step - loss: 0.1741 - acc: 0.5300 - val_loss: 0.2033 - val_acc: 0.5000\n",
            "Epoch 21/100\n",
            "200/200 [==============================] - 0s 616us/step - loss: 0.1666 - acc: 0.6150 - val_loss: 0.1994 - val_acc: 0.4500\n",
            "Epoch 22/100\n",
            "200/200 [==============================] - 0s 628us/step - loss: 0.1658 - acc: 0.6100 - val_loss: 0.1999 - val_acc: 0.5100\n",
            "Epoch 23/100\n",
            "200/200 [==============================] - 0s 651us/step - loss: 0.1719 - acc: 0.5800 - val_loss: 0.2012 - val_acc: 0.4100\n",
            "Epoch 24/100\n",
            "200/200 [==============================] - 0s 640us/step - loss: 0.1703 - acc: 0.6300 - val_loss: 0.2139 - val_acc: 0.4500\n",
            "Epoch 25/100\n",
            "200/200 [==============================] - 0s 688us/step - loss: 0.1631 - acc: 0.6350 - val_loss: 0.2069 - val_acc: 0.4400\n",
            "Epoch 26/100\n",
            "200/200 [==============================] - 0s 617us/step - loss: 0.1604 - acc: 0.6400 - val_loss: 0.2034 - val_acc: 0.4800\n",
            "Epoch 27/100\n",
            "200/200 [==============================] - 0s 636us/step - loss: 0.1650 - acc: 0.6150 - val_loss: 0.1963 - val_acc: 0.4800\n",
            "Epoch 28/100\n",
            "200/200 [==============================] - 0s 629us/step - loss: 0.1571 - acc: 0.6900 - val_loss: 0.1952 - val_acc: 0.4500\n",
            "Epoch 29/100\n",
            "200/200 [==============================] - 0s 645us/step - loss: 0.1638 - acc: 0.6000 - val_loss: 0.2041 - val_acc: 0.4400\n",
            "Epoch 30/100\n",
            "200/200 [==============================] - 0s 632us/step - loss: 0.1571 - acc: 0.6750 - val_loss: 0.1995 - val_acc: 0.4600\n",
            "Epoch 31/100\n",
            "200/200 [==============================] - 0s 671us/step - loss: 0.1599 - acc: 0.6300 - val_loss: 0.2058 - val_acc: 0.4500\n",
            "Epoch 32/100\n",
            "200/200 [==============================] - 0s 632us/step - loss: 0.1574 - acc: 0.6300 - val_loss: 0.2054 - val_acc: 0.4300\n",
            "Epoch 33/100\n",
            "200/200 [==============================] - 0s 739us/step - loss: 0.1640 - acc: 0.6000 - val_loss: 0.2077 - val_acc: 0.4800\n",
            "Epoch 34/100\n",
            "200/200 [==============================] - 0s 614us/step - loss: 0.1655 - acc: 0.6050 - val_loss: 0.2264 - val_acc: 0.4800\n",
            "Epoch 35/100\n",
            "200/200 [==============================] - 0s 617us/step - loss: 0.1648 - acc: 0.6350 - val_loss: 0.1972 - val_acc: 0.4900\n",
            "Epoch 36/100\n",
            "200/200 [==============================] - 0s 626us/step - loss: 0.1471 - acc: 0.6950 - val_loss: 0.1978 - val_acc: 0.4800\n",
            "Epoch 37/100\n",
            "200/200 [==============================] - 0s 625us/step - loss: 0.1485 - acc: 0.6800 - val_loss: 0.2001 - val_acc: 0.5200\n",
            "Epoch 38/100\n",
            "200/200 [==============================] - 0s 659us/step - loss: 0.1499 - acc: 0.6700 - val_loss: 0.1967 - val_acc: 0.5300\n",
            "Epoch 39/100\n",
            "200/200 [==============================] - 0s 654us/step - loss: 0.1491 - acc: 0.6650 - val_loss: 0.1981 - val_acc: 0.5300\n",
            "Epoch 40/100\n",
            "200/200 [==============================] - 0s 632us/step - loss: 0.1449 - acc: 0.7200 - val_loss: 0.1960 - val_acc: 0.5000\n",
            "Epoch 41/100\n",
            "200/200 [==============================] - 0s 737us/step - loss: 0.1473 - acc: 0.6600 - val_loss: 0.2050 - val_acc: 0.4500\n",
            "Epoch 42/100\n",
            "200/200 [==============================] - 0s 633us/step - loss: 0.1488 - acc: 0.6500 - val_loss: 0.1977 - val_acc: 0.5100\n",
            "Epoch 43/100\n",
            "200/200 [==============================] - 0s 620us/step - loss: 0.1513 - acc: 0.6700 - val_loss: 0.2021 - val_acc: 0.5200\n",
            "Epoch 44/100\n",
            "200/200 [==============================] - 0s 648us/step - loss: 0.1435 - acc: 0.6950 - val_loss: 0.1924 - val_acc: 0.4200\n",
            "Epoch 45/100\n",
            "200/200 [==============================] - 0s 642us/step - loss: 0.1428 - acc: 0.6800 - val_loss: 0.2065 - val_acc: 0.4900\n",
            "Epoch 46/100\n",
            "200/200 [==============================] - 0s 624us/step - loss: 0.1440 - acc: 0.7250 - val_loss: 0.1930 - val_acc: 0.4300\n",
            "Epoch 47/100\n",
            "200/200 [==============================] - 0s 632us/step - loss: 0.1408 - acc: 0.7050 - val_loss: 0.1954 - val_acc: 0.4500\n",
            "Epoch 48/100\n",
            "200/200 [==============================] - 0s 625us/step - loss: 0.1350 - acc: 0.7550 - val_loss: 0.1974 - val_acc: 0.4400\n",
            "Epoch 49/100\n",
            "200/200 [==============================] - 0s 684us/step - loss: 0.1446 - acc: 0.6550 - val_loss: 0.1925 - val_acc: 0.4400\n",
            "Epoch 50/100\n",
            "200/200 [==============================] - 0s 619us/step - loss: 0.1449 - acc: 0.6900 - val_loss: 0.1922 - val_acc: 0.4400\n",
            "Epoch 51/100\n",
            "200/200 [==============================] - 0s 636us/step - loss: 0.1438 - acc: 0.6550 - val_loss: 0.1937 - val_acc: 0.4400\n",
            "Epoch 52/100\n",
            "200/200 [==============================] - 0s 622us/step - loss: 0.1516 - acc: 0.6300 - val_loss: 0.2163 - val_acc: 0.4700\n",
            "Epoch 53/100\n",
            "200/200 [==============================] - 0s 634us/step - loss: 0.1397 - acc: 0.7100 - val_loss: 0.2045 - val_acc: 0.4500\n",
            "Epoch 54/100\n",
            "200/200 [==============================] - 0s 627us/step - loss: 0.1459 - acc: 0.6400 - val_loss: 0.2008 - val_acc: 0.4600\n",
            "Epoch 55/100\n",
            "200/200 [==============================] - 0s 662us/step - loss: 0.1332 - acc: 0.7200 - val_loss: 0.2121 - val_acc: 0.4600\n",
            "Epoch 56/100\n",
            "200/200 [==============================] - 0s 672us/step - loss: 0.1446 - acc: 0.6750 - val_loss: 0.2010 - val_acc: 0.4200\n",
            "Epoch 57/100\n",
            "200/200 [==============================] - 0s 694us/step - loss: 0.1333 - acc: 0.7550 - val_loss: 0.1909 - val_acc: 0.4400\n",
            "Epoch 58/100\n",
            "200/200 [==============================] - 0s 622us/step - loss: 0.1368 - acc: 0.7150 - val_loss: 0.2029 - val_acc: 0.5100\n",
            "Epoch 59/100\n",
            "200/200 [==============================] - 0s 647us/step - loss: 0.1383 - acc: 0.6900 - val_loss: 0.2015 - val_acc: 0.5200\n",
            "Epoch 60/100\n",
            "200/200 [==============================] - 0s 637us/step - loss: 0.1442 - acc: 0.6800 - val_loss: 0.1993 - val_acc: 0.5300\n",
            "Epoch 61/100\n",
            "200/200 [==============================] - 0s 619us/step - loss: 0.1400 - acc: 0.6900 - val_loss: 0.2016 - val_acc: 0.5400\n",
            "Epoch 62/100\n",
            "200/200 [==============================] - 0s 622us/step - loss: 0.1321 - acc: 0.7150 - val_loss: 0.1953 - val_acc: 0.5300\n",
            "Epoch 63/100\n",
            "200/200 [==============================] - 0s 673us/step - loss: 0.1393 - acc: 0.6800 - val_loss: 0.1947 - val_acc: 0.5600\n",
            "Epoch 64/100\n",
            "200/200 [==============================] - 0s 641us/step - loss: 0.1289 - acc: 0.7400 - val_loss: 0.1931 - val_acc: 0.5200\n",
            "Epoch 65/100\n",
            "200/200 [==============================] - 0s 746us/step - loss: 0.1280 - acc: 0.7550 - val_loss: 0.1932 - val_acc: 0.4300\n",
            "Epoch 66/100\n",
            "200/200 [==============================] - 0s 656us/step - loss: 0.1264 - acc: 0.7450 - val_loss: 0.1905 - val_acc: 0.4900\n",
            "Epoch 67/100\n",
            "200/200 [==============================] - 0s 633us/step - loss: 0.1353 - acc: 0.6950 - val_loss: 0.2051 - val_acc: 0.5200\n",
            "Epoch 68/100\n",
            "200/200 [==============================] - 0s 653us/step - loss: 0.1312 - acc: 0.7250 - val_loss: 0.1917 - val_acc: 0.4900\n",
            "Epoch 69/100\n",
            "200/200 [==============================] - 0s 662us/step - loss: 0.1240 - acc: 0.7850 - val_loss: 0.1967 - val_acc: 0.5400\n",
            "Epoch 70/100\n",
            "200/200 [==============================] - 0s 646us/step - loss: 0.1218 - acc: 0.7650 - val_loss: 0.1952 - val_acc: 0.4600\n",
            "Epoch 71/100\n",
            "200/200 [==============================] - 0s 666us/step - loss: 0.1261 - acc: 0.7400 - val_loss: 0.1913 - val_acc: 0.4300\n",
            "Epoch 72/100\n",
            "200/200 [==============================] - 0s 699us/step - loss: 0.1271 - acc: 0.6950 - val_loss: 0.2006 - val_acc: 0.4800\n",
            "Epoch 73/100\n",
            "200/200 [==============================] - 0s 637us/step - loss: 0.1400 - acc: 0.6600 - val_loss: 0.2023 - val_acc: 0.4400\n",
            "Epoch 74/100\n",
            "200/200 [==============================] - 0s 670us/step - loss: 0.1202 - acc: 0.7850 - val_loss: 0.1927 - val_acc: 0.4200\n",
            "Epoch 75/100\n",
            "200/200 [==============================] - 0s 638us/step - loss: 0.1227 - acc: 0.8050 - val_loss: 0.1988 - val_acc: 0.4500\n",
            "Epoch 76/100\n",
            "200/200 [==============================] - 0s 636us/step - loss: 0.1230 - acc: 0.7900 - val_loss: 0.1913 - val_acc: 0.4200\n",
            "Epoch 77/100\n",
            "200/200 [==============================] - 0s 657us/step - loss: 0.1198 - acc: 0.8000 - val_loss: 0.1914 - val_acc: 0.4300\n",
            "Epoch 78/100\n",
            "200/200 [==============================] - 0s 655us/step - loss: 0.1170 - acc: 0.8050 - val_loss: 0.1912 - val_acc: 0.4100\n",
            "Epoch 79/100\n",
            "200/200 [==============================] - 0s 634us/step - loss: 0.1196 - acc: 0.7700 - val_loss: 0.1961 - val_acc: 0.4400\n",
            "Epoch 80/100\n",
            "200/200 [==============================] - 0s 735us/step - loss: 0.1270 - acc: 0.7350 - val_loss: 0.1949 - val_acc: 0.4300\n",
            "Epoch 81/100\n",
            "200/200 [==============================] - 0s 645us/step - loss: 0.1293 - acc: 0.7000 - val_loss: 0.2060 - val_acc: 0.5100\n",
            "Epoch 82/100\n",
            "200/200 [==============================] - 0s 654us/step - loss: 0.1240 - acc: 0.7500 - val_loss: 0.1997 - val_acc: 0.4600\n",
            "Epoch 83/100\n",
            "200/200 [==============================] - 0s 646us/step - loss: 0.1169 - acc: 0.8000 - val_loss: 0.1933 - val_acc: 0.4800\n",
            "Epoch 84/100\n",
            "200/200 [==============================] - 0s 654us/step - loss: 0.1216 - acc: 0.7650 - val_loss: 0.1995 - val_acc: 0.5300\n",
            "Epoch 85/100\n",
            "200/200 [==============================] - 0s 644us/step - loss: 0.1210 - acc: 0.7550 - val_loss: 0.1924 - val_acc: 0.5500\n",
            "Epoch 86/100\n",
            "200/200 [==============================] - 0s 650us/step - loss: 0.1223 - acc: 0.7900 - val_loss: 0.1924 - val_acc: 0.4700\n",
            "Epoch 87/100\n",
            "200/200 [==============================] - 0s 625us/step - loss: 0.1178 - acc: 0.7850 - val_loss: 0.1917 - val_acc: 0.4900\n",
            "Epoch 88/100\n",
            "200/200 [==============================] - 0s 746us/step - loss: 0.1205 - acc: 0.7300 - val_loss: 0.1929 - val_acc: 0.5100\n",
            "Epoch 89/100\n",
            "200/200 [==============================] - 0s 659us/step - loss: 0.1156 - acc: 0.7550 - val_loss: 0.2021 - val_acc: 0.5300\n",
            "Epoch 90/100\n",
            "200/200 [==============================] - 0s 658us/step - loss: 0.1115 - acc: 0.8100 - val_loss: 0.1918 - val_acc: 0.4600\n",
            "Epoch 91/100\n",
            "200/200 [==============================] - 0s 663us/step - loss: 0.1095 - acc: 0.8350 - val_loss: 0.1969 - val_acc: 0.4800\n",
            "Epoch 92/100\n",
            "200/200 [==============================] - 0s 655us/step - loss: 0.1188 - acc: 0.7500 - val_loss: 0.2057 - val_acc: 0.5000\n",
            "Epoch 93/100\n",
            "200/200 [==============================] - 0s 656us/step - loss: 0.1237 - acc: 0.7450 - val_loss: 0.2031 - val_acc: 0.4600\n",
            "Epoch 94/100\n",
            "200/200 [==============================] - 0s 651us/step - loss: 0.1223 - acc: 0.7400 - val_loss: 0.1972 - val_acc: 0.4600\n",
            "Epoch 95/100\n",
            "200/200 [==============================] - 0s 701us/step - loss: 0.1240 - acc: 0.7350 - val_loss: 0.2312 - val_acc: 0.5000\n",
            "Epoch 96/100\n",
            "200/200 [==============================] - 0s 658us/step - loss: 0.1542 - acc: 0.6550 - val_loss: 0.2263 - val_acc: 0.5000\n",
            "Epoch 97/100\n",
            "200/200 [==============================] - 0s 635us/step - loss: 0.1287 - acc: 0.7000 - val_loss: 0.1960 - val_acc: 0.4400\n",
            "Epoch 98/100\n",
            "200/200 [==============================] - 0s 656us/step - loss: 0.1138 - acc: 0.7700 - val_loss: 0.2027 - val_acc: 0.4500\n",
            "Epoch 99/100\n",
            "200/200 [==============================] - 0s 654us/step - loss: 0.1143 - acc: 0.7700 - val_loss: 0.1944 - val_acc: 0.4500\n",
            "Epoch 100/100\n",
            "200/200 [==============================] - 0s 639us/step - loss: 0.1123 - acc: 0.8100 - val_loss: 0.1957 - val_acc: 0.4200\n"
          ],
          "name": "stdout"
        }
      ]
    },
    {
      "metadata": {
        "id": "wOo66F90yTZv",
        "colab_type": "code",
        "outputId": "d4ac707c-69de-4e98-f8dd-9846d504837e",
        "colab": {
          "base_uri": "https://localhost:8080/",
          "height": 311
        }
      },
      "cell_type": "code",
      "source": [
        "#plot error\n",
        "plt.plot(history.history['acc'])\n",
        "plt.plot(history.history['val_acc'])\n",
        "plt.title('model accuracy')\n",
        "plt.ylabel('accuracy')\n",
        "plt.xlabel('epoch')\n",
        "plt.ylim((0,1))\n",
        "plt.legend(['train', 'test'], loc='upper left')\n",
        "plt.show()\n",
        "\n",
        "\n",
        "#predict values and convert them to one-hot\n",
        "y_predicted = model.predict(X_test)\n",
        "Y_predicted = [np.argmax(y_predicted[i,:]) for i in range(nb_test)]\n",
        "y_predicted = np_utils.to_categorical(Y_predicted)\n",
        "\n",
        "Error = Y_test - y_predicted\n",
        "error_rate = np.mean([np.linalg.norm(Error[i,:],1) for i in range(nb_test)])/3.\n",
        "  \n",
        "print('Error rate is {}'.format(np.round(error_rate,3)))"
      ],
      "execution_count": 125,
      "outputs": [
        {
          "output_type": "display_data",
          "data": {
            "image/png": "[encoded data removed]",
            "text/plain": [
              "<matplotlib.figure.Figure at 0x7f0f37361c88>"
            ]
          },
          "metadata": {
            "tags": []
          }
        },
        {
          "output_type": "stream",
          "text": [
            "Error rate is 0.449\n"
          ],
          "name": "stdout"
        }
      ]
    },
    {
      "metadata": {
        "id": "j3MKczahy7em",
        "colab_type": "text"
      },
      "cell_type": "markdown",
      "source": [
        "#### We can see that the results are a lot loss impressive than earlier, and in fact in this case the network has overlearned the input data.\n",
        "\n",
        "#### This is because the structure of the network isn't adapted for this problem: linear classifiers don't take into account the spacial coherence of the input, which is why the network performed well on the previous problem. Indeed, it simply learned the areas where certain shapes were more likely to be in, without looking at the structure of the image.\n",
        "\n",
        "#### To correctly classify this data, we could use a deeper neural network and hope that the network would manage to \"learn\" the relationship between different parts of the image, but this network would probably be very slow to train and have a lot of bad local minima.\n",
        "\n",
        "#### A better approach is to visualise the input as an image and use convolutions between each layer."
      ]
    },
    {
      "metadata": {
        "id": "2jISOEIizQrH",
        "colab_type": "text"
      },
      "cell_type": "markdown",
      "source": [
        "###Convolutional Network"
      ]
    },
    {
      "metadata": {
        "id": "ejMfAchK-T1y",
        "colab_type": "code",
        "colab": {}
      },
      "cell_type": "code",
      "source": [
        "#Reshape Xs as images\n",
        "X_train = X_train.reshape(-1,72,72,1)\n",
        "X_test = X_test.reshape(-1,72,72,1)"
      ],
      "execution_count": 0,
      "outputs": []
    },
    {
      "metadata": {
        "id": "SYhJaUIqKI3y",
        "colab_type": "text"
      },
      "cell_type": "markdown",
      "source": [
        "#### This structure has been chosen through trial and error and doesn't rely on a lot of theory. I used some batch normalization for better convergence, dropout to avoid overfitting and I used reLu and tried not to make the network too dense to avoid vanishing gradients.\n",
        "\n",
        "#### I also kept the same number of training samples to emphasize the performance of the ConvNet."
      ]
    },
    {
      "metadata": {
        "id": "g1W89rOD5_7Q",
        "colab_type": "code",
        "outputId": "28d5c51b-012d-44aa-ed45-53a5e221c98b",
        "colab": {
          "base_uri": "https://localhost:8080/",
          "height": 8260
        }
      },
      "cell_type": "code",
      "source": [
        "from keras.models import Sequential\n",
        "from keras.layers import Conv2D, MaxPooling2D, Dropout, Flatten, Dense, BatchNormalization\n",
        "\n",
        "model = Sequential()\n",
        "model.add(Conv2D(32, (3, 3), activation='relu',\n",
        "                 input_shape=(72, 72, 1)) )\n",
        "model.add(MaxPooling2D(pool_size=(2, 2)))\n",
        "model.add(BatchNormalization())          \n",
        "model.add(Dropout(0.15))\n",
        "          \n",
        "model.add(Conv2D(32, (3, 3), activation='relu',\n",
        "                 input_shape=(72, 72, 1)) )\n",
        "model.add(MaxPooling2D(pool_size=(2, 2)))\n",
        "model.add(Dropout(0.15))\n",
        "          \n",
        "model.add(Conv2D(32, (3, 3), activation='relu',\n",
        "                 input_shape=(72, 72, 1)) )\n",
        "model.add(MaxPooling2D(pool_size=(2, 2)))\n",
        "model.add(Dropout(0.15))\n",
        "\n",
        "model.add(Conv2D(32, (3, 3), activation='relu',\n",
        "                 input_shape=(72, 72, 1)) )\n",
        "model.add(MaxPooling2D(pool_size=(2, 2)))\n",
        "model.add(Dropout(0.15))\n",
        "\n",
        "model.add(Flatten())\n",
        "model.add(Dropout(0.5))\n",
        "\n",
        "\n",
        "model.add(Dense(128, activation='relu'))\n",
        "model.add(Dropout(0.5))\n",
        "          \n",
        "model.add(Dense(3, activation='softmax'))\n",
        "\n",
        "#Optimizer choice\n",
        "from keras.optimizers import Adam\n",
        "adam = Adam(lr=0.0001, beta_1=0.9, beta_2=0.999, epsilon=None, decay=0.0001, amsgrad=False)\n",
        "model.compile(loss='categorical_crossentropy', optimizer=adam, metrics=['accuracy'])\n",
        "\n",
        "#Train\n",
        "history = model.fit(X_train, y_train, validation_split=0.33, epochs=250, batch_size=10)"
      ],
      "execution_count": 127,
      "outputs": [
        {
          "output_type": "stream",
          "text": [
            "(None, 35, 35, 32)\n",
            "(None, 16, 16, 32)\n",
            "(None, 7, 7, 32)\n",
            "(None, 2, 2, 32)\n",
            "(None, 128)\n",
            "Train on 200 samples, validate on 100 samples\n",
            "Epoch 1/250\n",
            "200/200 [==============================] - 5s 27ms/step - loss: 2.0137 - acc: 0.2700 - val_loss: 1.1425 - val_acc: 0.3100\n",
            "Epoch 2/250\n",
            "200/200 [==============================] - 0s 2ms/step - loss: 1.4803 - acc: 0.3400 - val_loss: 1.1244 - val_acc: 0.2700\n",
            "Epoch 3/250\n",
            "200/200 [==============================] - 0s 2ms/step - loss: 1.3576 - acc: 0.3000 - val_loss: 1.1153 - val_acc: 0.2200\n",
            "Epoch 4/250\n",
            "200/200 [==============================] - 0s 2ms/step - loss: 1.2882 - acc: 0.3100 - val_loss: 1.1115 - val_acc: 0.3600\n",
            "Epoch 5/250\n",
            "200/200 [==============================] - 0s 2ms/step - loss: 1.2379 - acc: 0.3450 - val_loss: 1.1096 - val_acc: 0.3600\n",
            "Epoch 6/250\n",
            "200/200 [==============================] - 0s 2ms/step - loss: 1.2141 - acc: 0.3100 - val_loss: 1.1078 - val_acc: 0.4000\n",
            "Epoch 7/250\n",
            "200/200 [==============================] - 0s 2ms/step - loss: 1.2247 - acc: 0.3350 - val_loss: 1.1003 - val_acc: 0.3900\n",
            "Epoch 8/250\n",
            "200/200 [==============================] - 0s 2ms/step - loss: 1.1324 - acc: 0.3850 - val_loss: 1.1006 - val_acc: 0.4000\n",
            "Epoch 9/250\n",
            "200/200 [==============================] - 0s 2ms/step - loss: 1.1140 - acc: 0.3800 - val_loss: 1.1000 - val_acc: 0.3800\n",
            "Epoch 10/250\n",
            "200/200 [==============================] - 0s 2ms/step - loss: 1.1620 - acc: 0.3750 - val_loss: 1.0952 - val_acc: 0.3900\n",
            "Epoch 11/250\n",
            "200/200 [==============================] - 0s 2ms/step - loss: 1.1459 - acc: 0.3450 - val_loss: 1.0921 - val_acc: 0.4200\n",
            "Epoch 12/250\n",
            "200/200 [==============================] - 0s 2ms/step - loss: 1.1408 - acc: 0.3950 - val_loss: 1.0913 - val_acc: 0.4200\n",
            "Epoch 13/250\n",
            "200/200 [==============================] - 0s 2ms/step - loss: 1.1089 - acc: 0.3600 - val_loss: 1.0891 - val_acc: 0.3900\n",
            "Epoch 14/250\n",
            "200/200 [==============================] - 0s 2ms/step - loss: 1.1438 - acc: 0.3650 - val_loss: 1.0912 - val_acc: 0.4000\n",
            "Epoch 15/250\n",
            "200/200 [==============================] - 0s 2ms/step - loss: 1.1282 - acc: 0.3750 - val_loss: 1.0909 - val_acc: 0.4100\n",
            "Epoch 16/250\n",
            "200/200 [==============================] - 0s 2ms/step - loss: 1.0986 - acc: 0.4050 - val_loss: 1.0896 - val_acc: 0.4200\n",
            "Epoch 17/250\n",
            "200/200 [==============================] - 0s 2ms/step - loss: 1.1187 - acc: 0.3850 - val_loss: 1.0879 - val_acc: 0.4500\n",
            "Epoch 18/250\n",
            "200/200 [==============================] - 0s 2ms/step - loss: 1.1119 - acc: 0.3800 - val_loss: 1.0879 - val_acc: 0.4200\n",
            "Epoch 19/250\n",
            "200/200 [==============================] - 0s 2ms/step - loss: 1.1284 - acc: 0.4050 - val_loss: 1.0885 - val_acc: 0.4400\n",
            "Epoch 20/250\n",
            "200/200 [==============================] - 0s 2ms/step - loss: 1.0970 - acc: 0.3900 - val_loss: 1.0855 - val_acc: 0.4500\n",
            "Epoch 21/250\n",
            "200/200 [==============================] - 0s 2ms/step - loss: 1.1366 - acc: 0.3500 - val_loss: 1.0820 - val_acc: 0.4900\n",
            "Epoch 22/250\n",
            "200/200 [==============================] - 0s 2ms/step - loss: 1.0757 - acc: 0.3700 - val_loss: 1.0825 - val_acc: 0.4500\n",
            "Epoch 23/250\n",
            "200/200 [==============================] - 0s 2ms/step - loss: 1.0896 - acc: 0.3950 - val_loss: 1.0816 - val_acc: 0.4500\n",
            "Epoch 24/250\n",
            "200/200 [==============================] - 0s 2ms/step - loss: 1.0899 - acc: 0.3900 - val_loss: 1.0791 - val_acc: 0.4700\n",
            "Epoch 25/250\n",
            "200/200 [==============================] - 0s 2ms/step - loss: 1.0586 - acc: 0.4700 - val_loss: 1.0773 - val_acc: 0.4700\n",
            "Epoch 26/250\n",
            "200/200 [==============================] - 0s 2ms/step - loss: 1.1039 - acc: 0.3900 - val_loss: 1.0748 - val_acc: 0.4900\n",
            "Epoch 27/250\n",
            "200/200 [==============================] - 0s 2ms/step - loss: 1.0574 - acc: 0.4100 - val_loss: 1.0712 - val_acc: 0.5100\n",
            "Epoch 28/250\n",
            "200/200 [==============================] - 0s 2ms/step - loss: 1.0867 - acc: 0.3800 - val_loss: 1.0696 - val_acc: 0.5300\n",
            "Epoch 29/250\n",
            "200/200 [==============================] - 0s 2ms/step - loss: 1.0677 - acc: 0.4050 - val_loss: 1.0683 - val_acc: 0.5200\n",
            "Epoch 30/250\n",
            "200/200 [==============================] - 0s 2ms/step - loss: 1.0260 - acc: 0.4850 - val_loss: 1.0662 - val_acc: 0.5500\n",
            "Epoch 31/250\n",
            "200/200 [==============================] - 0s 2ms/step - loss: 1.0636 - acc: 0.3700 - val_loss: 1.0661 - val_acc: 0.5100\n",
            "Epoch 32/250\n",
            "200/200 [==============================] - 0s 2ms/step - loss: 1.0532 - acc: 0.4650 - val_loss: 1.0640 - val_acc: 0.5100\n",
            "Epoch 33/250\n",
            "200/200 [==============================] - 0s 2ms/step - loss: 1.0527 - acc: 0.4350 - val_loss: 1.0598 - val_acc: 0.5500\n",
            "Epoch 34/250\n",
            "200/200 [==============================] - 0s 2ms/step - loss: 1.0629 - acc: 0.4200 - val_loss: 1.0592 - val_acc: 0.5200\n",
            "Epoch 35/250\n",
            "200/200 [==============================] - 0s 2ms/step - loss: 1.0077 - acc: 0.4850 - val_loss: 1.0577 - val_acc: 0.5100\n",
            "Epoch 36/250\n",
            "200/200 [==============================] - 0s 2ms/step - loss: 1.0463 - acc: 0.4450 - val_loss: 1.0556 - val_acc: 0.5200\n",
            "Epoch 37/250\n",
            "200/200 [==============================] - 0s 2ms/step - loss: 1.0125 - acc: 0.4900 - val_loss: 1.0510 - val_acc: 0.5200\n",
            "Epoch 38/250\n",
            "200/200 [==============================] - 0s 2ms/step - loss: 1.0279 - acc: 0.4550 - val_loss: 1.0457 - val_acc: 0.5200\n",
            "Epoch 39/250\n",
            "200/200 [==============================] - 0s 2ms/step - loss: 1.0438 - acc: 0.4300 - val_loss: 1.0436 - val_acc: 0.5500\n",
            "Epoch 40/250\n",
            "200/200 [==============================] - 0s 2ms/step - loss: 1.0194 - acc: 0.5100 - val_loss: 1.0444 - val_acc: 0.5300\n",
            "Epoch 41/250\n",
            "200/200 [==============================] - 0s 2ms/step - loss: 1.0109 - acc: 0.4350 - val_loss: 1.0378 - val_acc: 0.5400\n",
            "Epoch 42/250\n",
            "200/200 [==============================] - 0s 2ms/step - loss: 1.0144 - acc: 0.4300 - val_loss: 1.0319 - val_acc: 0.5300\n",
            "Epoch 43/250\n",
            "200/200 [==============================] - 0s 2ms/step - loss: 1.0003 - acc: 0.4950 - val_loss: 1.0240 - val_acc: 0.5500\n",
            "Epoch 44/250\n",
            "200/200 [==============================] - 0s 2ms/step - loss: 1.0182 - acc: 0.4650 - val_loss: 1.0180 - val_acc: 0.5500\n",
            "Epoch 45/250\n",
            "200/200 [==============================] - 0s 2ms/step - loss: 0.9805 - acc: 0.5450 - val_loss: 1.0142 - val_acc: 0.5300\n",
            "Epoch 46/250\n",
            "200/200 [==============================] - 0s 2ms/step - loss: 1.0382 - acc: 0.4600 - val_loss: 1.0127 - val_acc: 0.5400\n",
            "Epoch 47/250\n",
            "200/200 [==============================] - 0s 2ms/step - loss: 0.9986 - acc: 0.4950 - val_loss: 1.0096 - val_acc: 0.5500\n",
            "Epoch 48/250\n",
            "200/200 [==============================] - 0s 2ms/step - loss: 0.9507 - acc: 0.5250 - val_loss: 1.0047 - val_acc: 0.5400\n",
            "Epoch 49/250\n",
            "200/200 [==============================] - 0s 2ms/step - loss: 0.9181 - acc: 0.5300 - val_loss: 0.9989 - val_acc: 0.5300\n",
            "Epoch 50/250\n",
            "200/200 [==============================] - 0s 2ms/step - loss: 0.9832 - acc: 0.4950 - val_loss: 0.9965 - val_acc: 0.5400\n",
            "Epoch 51/250\n",
            "200/200 [==============================] - 0s 2ms/step - loss: 0.9607 - acc: 0.5050 - val_loss: 0.9920 - val_acc: 0.5700\n",
            "Epoch 52/250\n",
            "200/200 [==============================] - 0s 2ms/step - loss: 0.9380 - acc: 0.5300 - val_loss: 0.9844 - val_acc: 0.5800\n",
            "Epoch 53/250\n",
            "200/200 [==============================] - 0s 2ms/step - loss: 0.9944 - acc: 0.4850 - val_loss: 0.9740 - val_acc: 0.5700\n",
            "Epoch 54/250\n",
            "200/200 [==============================] - 0s 2ms/step - loss: 0.9388 - acc: 0.5450 - val_loss: 0.9695 - val_acc: 0.5800\n",
            "Epoch 55/250\n",
            "200/200 [==============================] - 0s 2ms/step - loss: 0.9687 - acc: 0.5050 - val_loss: 0.9681 - val_acc: 0.5500\n",
            "Epoch 56/250\n",
            "200/200 [==============================] - 0s 2ms/step - loss: 0.9353 - acc: 0.5750 - val_loss: 0.9626 - val_acc: 0.5600\n",
            "Epoch 57/250\n",
            "200/200 [==============================] - 0s 2ms/step - loss: 0.9075 - acc: 0.5350 - val_loss: 0.9534 - val_acc: 0.5500\n",
            "Epoch 58/250\n",
            "200/200 [==============================] - 0s 2ms/step - loss: 0.9421 - acc: 0.5200 - val_loss: 0.9431 - val_acc: 0.6000\n",
            "Epoch 59/250\n",
            "200/200 [==============================] - 0s 2ms/step - loss: 0.9164 - acc: 0.6050 - val_loss: 0.9321 - val_acc: 0.6100\n",
            "Epoch 60/250\n",
            "200/200 [==============================] - 0s 2ms/step - loss: 0.9029 - acc: 0.6150 - val_loss: 0.9147 - val_acc: 0.6400\n",
            "Epoch 61/250\n",
            "200/200 [==============================] - 0s 2ms/step - loss: 0.9363 - acc: 0.5350 - val_loss: 0.9117 - val_acc: 0.6400\n",
            "Epoch 62/250\n",
            "200/200 [==============================] - 0s 2ms/step - loss: 0.8328 - acc: 0.6550 - val_loss: 0.8963 - val_acc: 0.6300\n",
            "Epoch 63/250\n",
            "200/200 [==============================] - 0s 2ms/step - loss: 0.8706 - acc: 0.5950 - val_loss: 0.8881 - val_acc: 0.6300\n",
            "Epoch 64/250\n",
            "200/200 [==============================] - 0s 2ms/step - loss: 0.8474 - acc: 0.6100 - val_loss: 0.8778 - val_acc: 0.6200\n",
            "Epoch 65/250\n",
            "200/200 [==============================] - 0s 2ms/step - loss: 0.8913 - acc: 0.5650 - val_loss: 0.8660 - val_acc: 0.6600\n",
            "Epoch 66/250\n",
            "200/200 [==============================] - 0s 2ms/step - loss: 0.8545 - acc: 0.5950 - val_loss: 0.8512 - val_acc: 0.6600\n",
            "Epoch 67/250\n",
            "200/200 [==============================] - 0s 2ms/step - loss: 0.8046 - acc: 0.6200 - val_loss: 0.8412 - val_acc: 0.6400\n",
            "Epoch 68/250\n",
            "200/200 [==============================] - 0s 2ms/step - loss: 0.8105 - acc: 0.6000 - val_loss: 0.8272 - val_acc: 0.6400\n",
            "Epoch 69/250\n",
            "200/200 [==============================] - 0s 2ms/step - loss: 0.7944 - acc: 0.6100 - val_loss: 0.8186 - val_acc: 0.6500\n",
            "Epoch 70/250\n",
            "200/200 [==============================] - 0s 2ms/step - loss: 0.7575 - acc: 0.6650 - val_loss: 0.8061 - val_acc: 0.6600\n",
            "Epoch 71/250\n",
            "200/200 [==============================] - 0s 2ms/step - loss: 0.8154 - acc: 0.6350 - val_loss: 0.7930 - val_acc: 0.6900\n",
            "Epoch 72/250\n",
            "200/200 [==============================] - 0s 2ms/step - loss: 0.7757 - acc: 0.6800 - val_loss: 0.7867 - val_acc: 0.7200\n",
            "Epoch 73/250\n",
            "200/200 [==============================] - 0s 2ms/step - loss: 0.7064 - acc: 0.6750 - val_loss: 0.7737 - val_acc: 0.7200\n",
            "Epoch 74/250\n",
            "200/200 [==============================] - 0s 2ms/step - loss: 0.8064 - acc: 0.6450 - val_loss: 0.7675 - val_acc: 0.7100\n",
            "Epoch 75/250\n",
            "200/200 [==============================] - 0s 2ms/step - loss: 0.7529 - acc: 0.6400 - val_loss: 0.7766 - val_acc: 0.6700\n",
            "Epoch 76/250\n",
            "200/200 [==============================] - 0s 2ms/step - loss: 0.7498 - acc: 0.6500 - val_loss: 0.7704 - val_acc: 0.6600\n",
            "Epoch 77/250\n",
            "200/200 [==============================] - 0s 2ms/step - loss: 0.7843 - acc: 0.6550 - val_loss: 0.7622 - val_acc: 0.6800\n",
            "Epoch 78/250\n",
            "200/200 [==============================] - 0s 2ms/step - loss: 0.7476 - acc: 0.6450 - val_loss: 0.7439 - val_acc: 0.6900\n",
            "Epoch 79/250\n",
            "200/200 [==============================] - 0s 2ms/step - loss: 0.7236 - acc: 0.6750 - val_loss: 0.7174 - val_acc: 0.7400\n",
            "Epoch 80/250\n",
            "200/200 [==============================] - 0s 2ms/step - loss: 0.7181 - acc: 0.6650 - val_loss: 0.7065 - val_acc: 0.7700\n",
            "Epoch 81/250\n",
            "200/200 [==============================] - 0s 2ms/step - loss: 0.6686 - acc: 0.6900 - val_loss: 0.6969 - val_acc: 0.7500\n",
            "Epoch 82/250\n",
            "200/200 [==============================] - 0s 2ms/step - loss: 0.6787 - acc: 0.6700 - val_loss: 0.6787 - val_acc: 0.7600\n",
            "Epoch 83/250\n",
            "200/200 [==============================] - 0s 2ms/step - loss: 0.6915 - acc: 0.6800 - val_loss: 0.6747 - val_acc: 0.7200\n",
            "Epoch 84/250\n",
            "200/200 [==============================] - 0s 2ms/step - loss: 0.6376 - acc: 0.7350 - val_loss: 0.6576 - val_acc: 0.7400\n",
            "Epoch 85/250\n",
            "200/200 [==============================] - 0s 2ms/step - loss: 0.6404 - acc: 0.7050 - val_loss: 0.6491 - val_acc: 0.7500\n",
            "Epoch 86/250\n",
            "200/200 [==============================] - 0s 2ms/step - loss: 0.5803 - acc: 0.7650 - val_loss: 0.6303 - val_acc: 0.7800\n",
            "Epoch 87/250\n",
            "200/200 [==============================] - 0s 2ms/step - loss: 0.5414 - acc: 0.7550 - val_loss: 0.6198 - val_acc: 0.7800\n",
            "Epoch 88/250\n",
            "200/200 [==============================] - 0s 2ms/step - loss: 0.6415 - acc: 0.7200 - val_loss: 0.6135 - val_acc: 0.7600\n",
            "Epoch 89/250\n",
            "200/200 [==============================] - 0s 2ms/step - loss: 0.5831 - acc: 0.7300 - val_loss: 0.6012 - val_acc: 0.8100\n",
            "Epoch 90/250\n",
            "200/200 [==============================] - 0s 2ms/step - loss: 0.5856 - acc: 0.7250 - val_loss: 0.6033 - val_acc: 0.8100\n",
            "Epoch 91/250\n",
            "200/200 [==============================] - 0s 2ms/step - loss: 0.5524 - acc: 0.7850 - val_loss: 0.5918 - val_acc: 0.8000\n",
            "Epoch 92/250\n",
            "200/200 [==============================] - 0s 2ms/step - loss: 0.5483 - acc: 0.7450 - val_loss: 0.5932 - val_acc: 0.7800\n",
            "Epoch 93/250\n",
            "200/200 [==============================] - 0s 2ms/step - loss: 0.5810 - acc: 0.7550 - val_loss: 0.6118 - val_acc: 0.7600\n",
            "Epoch 94/250\n",
            "200/200 [==============================] - 0s 2ms/step - loss: 0.5534 - acc: 0.7700 - val_loss: 0.6015 - val_acc: 0.7400\n",
            "Epoch 95/250\n",
            "200/200 [==============================] - 0s 2ms/step - loss: 0.5415 - acc: 0.7900 - val_loss: 0.5909 - val_acc: 0.7600\n",
            "Epoch 96/250\n",
            "200/200 [==============================] - 0s 2ms/step - loss: 0.5877 - acc: 0.7600 - val_loss: 0.5836 - val_acc: 0.7800\n",
            "Epoch 97/250\n",
            "200/200 [==============================] - 0s 2ms/step - loss: 0.4651 - acc: 0.8100 - val_loss: 0.5787 - val_acc: 0.7900\n",
            "Epoch 98/250\n",
            "200/200 [==============================] - 0s 2ms/step - loss: 0.4725 - acc: 0.8100 - val_loss: 0.5602 - val_acc: 0.7900\n",
            "Epoch 99/250\n",
            "200/200 [==============================] - 0s 2ms/step - loss: 0.4999 - acc: 0.8100 - val_loss: 0.5318 - val_acc: 0.7900\n",
            "Epoch 100/250\n",
            "200/200 [==============================] - 0s 2ms/step - loss: 0.4350 - acc: 0.8250 - val_loss: 0.5168 - val_acc: 0.8000\n",
            "Epoch 101/250\n",
            "200/200 [==============================] - 0s 2ms/step - loss: 0.5169 - acc: 0.7950 - val_loss: 0.5199 - val_acc: 0.7900\n",
            "Epoch 102/250\n",
            "200/200 [==============================] - 0s 2ms/step - loss: 0.4213 - acc: 0.8150 - val_loss: 0.5272 - val_acc: 0.8200\n",
            "Epoch 103/250\n",
            "200/200 [==============================] - 0s 2ms/step - loss: 0.4952 - acc: 0.7950 - val_loss: 0.5090 - val_acc: 0.8000\n",
            "Epoch 104/250\n",
            "200/200 [==============================] - 0s 2ms/step - loss: 0.4429 - acc: 0.8300 - val_loss: 0.5031 - val_acc: 0.7800\n",
            "Epoch 105/250\n",
            "200/200 [==============================] - 0s 2ms/step - loss: 0.4260 - acc: 0.8200 - val_loss: 0.4975 - val_acc: 0.8100\n",
            "Epoch 106/250\n",
            "200/200 [==============================] - 0s 2ms/step - loss: 0.4420 - acc: 0.8150 - val_loss: 0.4918 - val_acc: 0.8100\n",
            "Epoch 107/250\n",
            "200/200 [==============================] - 0s 2ms/step - loss: 0.3905 - acc: 0.8750 - val_loss: 0.4809 - val_acc: 0.8000\n",
            "Epoch 108/250\n",
            "200/200 [==============================] - 0s 2ms/step - loss: 0.3999 - acc: 0.8600 - val_loss: 0.4712 - val_acc: 0.8100\n",
            "Epoch 109/250\n",
            "200/200 [==============================] - 0s 2ms/step - loss: 0.4396 - acc: 0.8050 - val_loss: 0.4499 - val_acc: 0.8300\n",
            "Epoch 110/250\n",
            "200/200 [==============================] - 0s 2ms/step - loss: 0.4425 - acc: 0.8300 - val_loss: 0.4617 - val_acc: 0.8100\n",
            "Epoch 111/250\n",
            "200/200 [==============================] - 0s 2ms/step - loss: 0.4065 - acc: 0.8350 - val_loss: 0.4544 - val_acc: 0.8100\n",
            "Epoch 112/250\n",
            "200/200 [==============================] - 0s 2ms/step - loss: 0.4294 - acc: 0.8400 - val_loss: 0.4464 - val_acc: 0.8100\n",
            "Epoch 113/250\n",
            "200/200 [==============================] - 0s 2ms/step - loss: 0.3604 - acc: 0.8600 - val_loss: 0.4473 - val_acc: 0.8100\n",
            "Epoch 114/250\n",
            "200/200 [==============================] - 0s 2ms/step - loss: 0.3707 - acc: 0.8400 - val_loss: 0.4854 - val_acc: 0.8200\n",
            "Epoch 115/250\n",
            "200/200 [==============================] - 0s 2ms/step - loss: 0.3253 - acc: 0.8750 - val_loss: 0.4662 - val_acc: 0.8200\n",
            "Epoch 116/250\n",
            "200/200 [==============================] - 0s 2ms/step - loss: 0.3530 - acc: 0.8550 - val_loss: 0.4296 - val_acc: 0.8200\n",
            "Epoch 117/250\n",
            "200/200 [==============================] - 0s 2ms/step - loss: 0.3529 - acc: 0.8450 - val_loss: 0.4185 - val_acc: 0.8300\n",
            "Epoch 118/250\n",
            "200/200 [==============================] - 0s 2ms/step - loss: 0.3451 - acc: 0.8800 - val_loss: 0.4180 - val_acc: 0.8400\n",
            "Epoch 119/250\n",
            "200/200 [==============================] - 0s 2ms/step - loss: 0.3345 - acc: 0.8650 - val_loss: 0.4238 - val_acc: 0.8300\n",
            "Epoch 120/250\n",
            "200/200 [==============================] - 0s 2ms/step - loss: 0.3363 - acc: 0.8650 - val_loss: 0.4399 - val_acc: 0.8300\n",
            "Epoch 121/250\n",
            "200/200 [==============================] - 0s 2ms/step - loss: 0.3556 - acc: 0.8450 - val_loss: 0.4492 - val_acc: 0.8300\n",
            "Epoch 122/250\n",
            "200/200 [==============================] - 0s 2ms/step - loss: 0.3270 - acc: 0.8650 - val_loss: 0.4248 - val_acc: 0.8300\n",
            "Epoch 123/250\n",
            "200/200 [==============================] - 0s 2ms/step - loss: 0.3293 - acc: 0.8650 - val_loss: 0.4312 - val_acc: 0.8300\n",
            "Epoch 124/250\n",
            "200/200 [==============================] - 0s 2ms/step - loss: 0.3157 - acc: 0.8750 - val_loss: 0.4422 - val_acc: 0.8200\n",
            "Epoch 125/250\n",
            "200/200 [==============================] - 0s 2ms/step - loss: 0.3254 - acc: 0.8950 - val_loss: 0.4426 - val_acc: 0.8200\n",
            "Epoch 126/250\n",
            "200/200 [==============================] - 0s 2ms/step - loss: 0.2983 - acc: 0.8900 - val_loss: 0.4017 - val_acc: 0.8500\n",
            "Epoch 127/250\n",
            "200/200 [==============================] - 0s 2ms/step - loss: 0.2833 - acc: 0.8600 - val_loss: 0.3920 - val_acc: 0.8600\n",
            "Epoch 128/250\n",
            "200/200 [==============================] - 0s 2ms/step - loss: 0.2756 - acc: 0.8950 - val_loss: 0.3812 - val_acc: 0.8500\n",
            "Epoch 129/250\n",
            "200/200 [==============================] - 0s 2ms/step - loss: 0.3204 - acc: 0.8650 - val_loss: 0.3615 - val_acc: 0.8600\n",
            "Epoch 130/250\n",
            "200/200 [==============================] - 0s 2ms/step - loss: 0.3275 - acc: 0.8700 - val_loss: 0.3682 - val_acc: 0.8600\n",
            "Epoch 131/250\n",
            "200/200 [==============================] - 0s 2ms/step - loss: 0.3367 - acc: 0.8700 - val_loss: 0.3730 - val_acc: 0.8500\n",
            "Epoch 132/250\n",
            "200/200 [==============================] - 0s 2ms/step - loss: 0.2977 - acc: 0.8900 - val_loss: 0.3601 - val_acc: 0.8500\n",
            "Epoch 133/250\n",
            "200/200 [==============================] - 0s 2ms/step - loss: 0.3382 - acc: 0.8800 - val_loss: 0.3642 - val_acc: 0.8400\n",
            "Epoch 134/250\n",
            "200/200 [==============================] - 0s 2ms/step - loss: 0.2504 - acc: 0.9100 - val_loss: 0.3573 - val_acc: 0.8700\n",
            "Epoch 135/250\n",
            "200/200 [==============================] - 0s 2ms/step - loss: 0.3334 - acc: 0.8800 - val_loss: 0.3495 - val_acc: 0.8900\n",
            "Epoch 136/250\n",
            "200/200 [==============================] - 0s 2ms/step - loss: 0.2714 - acc: 0.8900 - val_loss: 0.3502 - val_acc: 0.8800\n",
            "Epoch 137/250\n",
            "200/200 [==============================] - 0s 2ms/step - loss: 0.2898 - acc: 0.8950 - val_loss: 0.3513 - val_acc: 0.8700\n",
            "Epoch 138/250\n",
            "200/200 [==============================] - 0s 2ms/step - loss: 0.3220 - acc: 0.8850 - val_loss: 0.3714 - val_acc: 0.8500\n",
            "Epoch 139/250\n",
            "200/200 [==============================] - 0s 2ms/step - loss: 0.3018 - acc: 0.8900 - val_loss: 0.3549 - val_acc: 0.8600\n",
            "Epoch 140/250\n",
            "200/200 [==============================] - 0s 2ms/step - loss: 0.2790 - acc: 0.8850 - val_loss: 0.3341 - val_acc: 0.8800\n",
            "Epoch 141/250\n",
            "200/200 [==============================] - 0s 2ms/step - loss: 0.1956 - acc: 0.9350 - val_loss: 0.3098 - val_acc: 0.9100\n",
            "Epoch 142/250\n",
            "200/200 [==============================] - 0s 2ms/step - loss: 0.2762 - acc: 0.8750 - val_loss: 0.3211 - val_acc: 0.8900\n",
            "Epoch 143/250\n",
            "200/200 [==============================] - 0s 2ms/step - loss: 0.2182 - acc: 0.9200 - val_loss: 0.3436 - val_acc: 0.8800\n",
            "Epoch 144/250\n",
            "200/200 [==============================] - 0s 2ms/step - loss: 0.1851 - acc: 0.9250 - val_loss: 0.3322 - val_acc: 0.8800\n",
            "Epoch 145/250\n",
            "200/200 [==============================] - 0s 2ms/step - loss: 0.2239 - acc: 0.9250 - val_loss: 0.3105 - val_acc: 0.9000\n",
            "Epoch 146/250\n",
            "200/200 [==============================] - 0s 2ms/step - loss: 0.2618 - acc: 0.9050 - val_loss: 0.3258 - val_acc: 0.8900\n",
            "Epoch 147/250\n",
            "200/200 [==============================] - 0s 2ms/step - loss: 0.2810 - acc: 0.8700 - val_loss: 0.3265 - val_acc: 0.8800\n",
            "Epoch 148/250\n",
            "200/200 [==============================] - 0s 2ms/step - loss: 0.2780 - acc: 0.8950 - val_loss: 0.3502 - val_acc: 0.8800\n",
            "Epoch 149/250\n",
            "200/200 [==============================] - 0s 2ms/step - loss: 0.2020 - acc: 0.9200 - val_loss: 0.3504 - val_acc: 0.8500\n",
            "Epoch 150/250\n",
            "200/200 [==============================] - 0s 2ms/step - loss: 0.2710 - acc: 0.9050 - val_loss: 0.3444 - val_acc: 0.8700\n",
            "Epoch 151/250\n",
            "200/200 [==============================] - 0s 2ms/step - loss: 0.2172 - acc: 0.9100 - val_loss: 0.3292 - val_acc: 0.8700\n",
            "Epoch 152/250\n",
            "200/200 [==============================] - 0s 2ms/step - loss: 0.1752 - acc: 0.9300 - val_loss: 0.3105 - val_acc: 0.8900\n",
            "Epoch 153/250\n",
            "200/200 [==============================] - 0s 2ms/step - loss: 0.2694 - acc: 0.9300 - val_loss: 0.3060 - val_acc: 0.9100\n",
            "Epoch 154/250\n",
            "200/200 [==============================] - 0s 2ms/step - loss: 0.2090 - acc: 0.9300 - val_loss: 0.2872 - val_acc: 0.9100\n",
            "Epoch 155/250\n",
            "200/200 [==============================] - 0s 2ms/step - loss: 0.2380 - acc: 0.9150 - val_loss: 0.3063 - val_acc: 0.9000\n",
            "Epoch 156/250\n",
            "200/200 [==============================] - 0s 2ms/step - loss: 0.1828 - acc: 0.9350 - val_loss: 0.3268 - val_acc: 0.8900\n",
            "Epoch 157/250\n",
            "200/200 [==============================] - 0s 2ms/step - loss: 0.2309 - acc: 0.9250 - val_loss: 0.3178 - val_acc: 0.9000\n",
            "Epoch 158/250\n",
            "200/200 [==============================] - 0s 2ms/step - loss: 0.2446 - acc: 0.9300 - val_loss: 0.3100 - val_acc: 0.9100\n",
            "Epoch 159/250\n",
            "200/200 [==============================] - 0s 2ms/step - loss: 0.1798 - acc: 0.9300 - val_loss: 0.3159 - val_acc: 0.9000\n",
            "Epoch 160/250\n",
            "200/200 [==============================] - 0s 2ms/step - loss: 0.1607 - acc: 0.9400 - val_loss: 0.3203 - val_acc: 0.9000\n",
            "Epoch 161/250\n",
            "200/200 [==============================] - 0s 2ms/step - loss: 0.1747 - acc: 0.9450 - val_loss: 0.3313 - val_acc: 0.8900\n",
            "Epoch 162/250\n",
            "200/200 [==============================] - 0s 2ms/step - loss: 0.1769 - acc: 0.9250 - val_loss: 0.3265 - val_acc: 0.8800\n",
            "Epoch 163/250\n",
            "200/200 [==============================] - 0s 2ms/step - loss: 0.1534 - acc: 0.9400 - val_loss: 0.3178 - val_acc: 0.8900\n",
            "Epoch 164/250\n",
            "200/200 [==============================] - 0s 2ms/step - loss: 0.2194 - acc: 0.9150 - val_loss: 0.3459 - val_acc: 0.8500\n",
            "Epoch 165/250\n",
            "200/200 [==============================] - 0s 2ms/step - loss: 0.1992 - acc: 0.9300 - val_loss: 0.3360 - val_acc: 0.9000\n",
            "Epoch 166/250\n",
            "200/200 [==============================] - 0s 2ms/step - loss: 0.1527 - acc: 0.9550 - val_loss: 0.3127 - val_acc: 0.9000\n",
            "Epoch 167/250\n",
            "200/200 [==============================] - 0s 2ms/step - loss: 0.1700 - acc: 0.9400 - val_loss: 0.3194 - val_acc: 0.9000\n",
            "Epoch 168/250\n",
            "200/200 [==============================] - 0s 2ms/step - loss: 0.1611 - acc: 0.9450 - val_loss: 0.3105 - val_acc: 0.9100\n",
            "Epoch 169/250\n",
            "200/200 [==============================] - 0s 2ms/step - loss: 0.1628 - acc: 0.9500 - val_loss: 0.2981 - val_acc: 0.9200\n",
            "Epoch 170/250\n",
            "200/200 [==============================] - 0s 2ms/step - loss: 0.2727 - acc: 0.9100 - val_loss: 0.3106 - val_acc: 0.9000\n",
            "Epoch 171/250\n",
            "200/200 [==============================] - 0s 2ms/step - loss: 0.1509 - acc: 0.9550 - val_loss: 0.2980 - val_acc: 0.8900\n",
            "Epoch 172/250\n",
            "200/200 [==============================] - 0s 2ms/step - loss: 0.1815 - acc: 0.9400 - val_loss: 0.3051 - val_acc: 0.9000\n",
            "Epoch 173/250\n",
            "200/200 [==============================] - 0s 2ms/step - loss: 0.2371 - acc: 0.9050 - val_loss: 0.2939 - val_acc: 0.9100\n",
            "Epoch 174/250\n",
            "200/200 [==============================] - 0s 2ms/step - loss: 0.1961 - acc: 0.9250 - val_loss: 0.3060 - val_acc: 0.9000\n",
            "Epoch 175/250\n",
            "200/200 [==============================] - 0s 2ms/step - loss: 0.1509 - acc: 0.9300 - val_loss: 0.2861 - val_acc: 0.9000\n",
            "Epoch 176/250\n",
            "200/200 [==============================] - 0s 2ms/step - loss: 0.1877 - acc: 0.9500 - val_loss: 0.2580 - val_acc: 0.9200\n",
            "Epoch 177/250\n",
            "200/200 [==============================] - 0s 2ms/step - loss: 0.1817 - acc: 0.9200 - val_loss: 0.2808 - val_acc: 0.9200\n",
            "Epoch 178/250\n",
            "200/200 [==============================] - 0s 2ms/step - loss: 0.1551 - acc: 0.9300 - val_loss: 0.2798 - val_acc: 0.9100\n",
            "Epoch 179/250\n",
            "200/200 [==============================] - 0s 2ms/step - loss: 0.1587 - acc: 0.9550 - val_loss: 0.2777 - val_acc: 0.9000\n",
            "Epoch 180/250\n",
            "200/200 [==============================] - 0s 2ms/step - loss: 0.1346 - acc: 0.9650 - val_loss: 0.2736 - val_acc: 0.9100\n",
            "Epoch 181/250\n",
            "200/200 [==============================] - 0s 2ms/step - loss: 0.1758 - acc: 0.9500 - val_loss: 0.2908 - val_acc: 0.9000\n",
            "Epoch 182/250\n",
            "200/200 [==============================] - 0s 2ms/step - loss: 0.1384 - acc: 0.9250 - val_loss: 0.3025 - val_acc: 0.9000\n",
            "Epoch 183/250\n",
            "200/200 [==============================] - 0s 2ms/step - loss: 0.1589 - acc: 0.9350 - val_loss: 0.3421 - val_acc: 0.8700\n",
            "Epoch 184/250\n",
            "200/200 [==============================] - 0s 2ms/step - loss: 0.1660 - acc: 0.9350 - val_loss: 0.2892 - val_acc: 0.9100\n",
            "Epoch 185/250\n",
            "200/200 [==============================] - 0s 2ms/step - loss: 0.1998 - acc: 0.9300 - val_loss: 0.2800 - val_acc: 0.9200\n",
            "Epoch 186/250\n",
            "200/200 [==============================] - 0s 2ms/step - loss: 0.1828 - acc: 0.9250 - val_loss: 0.2605 - val_acc: 0.9200\n",
            "Epoch 187/250\n",
            "200/200 [==============================] - 0s 2ms/step - loss: 0.1955 - acc: 0.9200 - val_loss: 0.2983 - val_acc: 0.9100\n",
            "Epoch 188/250\n",
            "200/200 [==============================] - 0s 2ms/step - loss: 0.1173 - acc: 0.9750 - val_loss: 0.2622 - val_acc: 0.9300\n",
            "Epoch 189/250\n",
            "200/200 [==============================] - 0s 2ms/step - loss: 0.1788 - acc: 0.9350 - val_loss: 0.2605 - val_acc: 0.9200\n",
            "Epoch 190/250\n",
            "200/200 [==============================] - 0s 2ms/step - loss: 0.1433 - acc: 0.9400 - val_loss: 0.2618 - val_acc: 0.9100\n",
            "Epoch 191/250\n",
            "200/200 [==============================] - 0s 2ms/step - loss: 0.1331 - acc: 0.9600 - val_loss: 0.2532 - val_acc: 0.9200\n",
            "Epoch 192/250\n",
            "200/200 [==============================] - 0s 2ms/step - loss: 0.1725 - acc: 0.9300 - val_loss: 0.2670 - val_acc: 0.9100\n",
            "Epoch 193/250\n",
            "200/200 [==============================] - 0s 2ms/step - loss: 0.1641 - acc: 0.9200 - val_loss: 0.2614 - val_acc: 0.9200\n",
            "Epoch 194/250\n",
            "200/200 [==============================] - 0s 2ms/step - loss: 0.1847 - acc: 0.9350 - val_loss: 0.2668 - val_acc: 0.9200\n",
            "Epoch 195/250\n",
            "200/200 [==============================] - 0s 2ms/step - loss: 0.1485 - acc: 0.9550 - val_loss: 0.2620 - val_acc: 0.9300\n",
            "Epoch 196/250\n",
            "200/200 [==============================] - 0s 2ms/step - loss: 0.1534 - acc: 0.9300 - val_loss: 0.2757 - val_acc: 0.9200\n",
            "Epoch 197/250\n",
            "200/200 [==============================] - 0s 2ms/step - loss: 0.1325 - acc: 0.9500 - val_loss: 0.2681 - val_acc: 0.9100\n",
            "Epoch 198/250\n",
            "200/200 [==============================] - 0s 2ms/step - loss: 0.1516 - acc: 0.9450 - val_loss: 0.2720 - val_acc: 0.9000\n",
            "Epoch 199/250\n",
            "200/200 [==============================] - 0s 2ms/step - loss: 0.1078 - acc: 0.9700 - val_loss: 0.2815 - val_acc: 0.8900\n",
            "Epoch 200/250\n",
            "200/200 [==============================] - 0s 2ms/step - loss: 0.1449 - acc: 0.9450 - val_loss: 0.2764 - val_acc: 0.8900\n",
            "Epoch 201/250\n",
            "200/200 [==============================] - 0s 2ms/step - loss: 0.0962 - acc: 0.9800 - val_loss: 0.2408 - val_acc: 0.9300\n",
            "Epoch 202/250\n",
            "200/200 [==============================] - 0s 2ms/step - loss: 0.1422 - acc: 0.9600 - val_loss: 0.2307 - val_acc: 0.9300\n",
            "Epoch 203/250\n",
            "200/200 [==============================] - 0s 2ms/step - loss: 0.0827 - acc: 0.9700 - val_loss: 0.2481 - val_acc: 0.9200\n",
            "Epoch 204/250\n",
            "200/200 [==============================] - 0s 2ms/step - loss: 0.1725 - acc: 0.9350 - val_loss: 0.2440 - val_acc: 0.9100\n",
            "Epoch 205/250\n",
            "200/200 [==============================] - 0s 2ms/step - loss: 0.1479 - acc: 0.9400 - val_loss: 0.2355 - val_acc: 0.9300\n",
            "Epoch 206/250\n",
            "200/200 [==============================] - 0s 2ms/step - loss: 0.1082 - acc: 0.9600 - val_loss: 0.2193 - val_acc: 0.9200\n",
            "Epoch 207/250\n",
            "200/200 [==============================] - 0s 2ms/step - loss: 0.1433 - acc: 0.9450 - val_loss: 0.2317 - val_acc: 0.9300\n",
            "Epoch 208/250\n",
            "200/200 [==============================] - 0s 2ms/step - loss: 0.1593 - acc: 0.9350 - val_loss: 0.2487 - val_acc: 0.9200\n",
            "Epoch 209/250\n",
            "200/200 [==============================] - 0s 2ms/step - loss: 0.1386 - acc: 0.9350 - val_loss: 0.2551 - val_acc: 0.9000\n",
            "Epoch 210/250\n",
            "200/200 [==============================] - 0s 2ms/step - loss: 0.1342 - acc: 0.9400 - val_loss: 0.2510 - val_acc: 0.8900\n",
            "Epoch 211/250\n",
            "200/200 [==============================] - 0s 2ms/step - loss: 0.1597 - acc: 0.9250 - val_loss: 0.2624 - val_acc: 0.9000\n",
            "Epoch 212/250\n",
            "200/200 [==============================] - 0s 2ms/step - loss: 0.1126 - acc: 0.9650 - val_loss: 0.2733 - val_acc: 0.9000\n",
            "Epoch 213/250\n",
            "200/200 [==============================] - 0s 2ms/step - loss: 0.1064 - acc: 0.9650 - val_loss: 0.2731 - val_acc: 0.8900\n",
            "Epoch 214/250\n",
            "200/200 [==============================] - 0s 2ms/step - loss: 0.1327 - acc: 0.9450 - val_loss: 0.2578 - val_acc: 0.9200\n",
            "Epoch 215/250\n",
            "200/200 [==============================] - 0s 2ms/step - loss: 0.1354 - acc: 0.9500 - val_loss: 0.2890 - val_acc: 0.8900\n",
            "Epoch 216/250\n",
            "200/200 [==============================] - 0s 2ms/step - loss: 0.1583 - acc: 0.9550 - val_loss: 0.3080 - val_acc: 0.8800\n",
            "Epoch 217/250\n",
            "200/200 [==============================] - 0s 2ms/step - loss: 0.0989 - acc: 0.9650 - val_loss: 0.2764 - val_acc: 0.8900\n",
            "Epoch 218/250\n",
            "200/200 [==============================] - 0s 2ms/step - loss: 0.1016 - acc: 0.9550 - val_loss: 0.2675 - val_acc: 0.8800\n",
            "Epoch 219/250\n",
            "200/200 [==============================] - 0s 2ms/step - loss: 0.1084 - acc: 0.9850 - val_loss: 0.2725 - val_acc: 0.8900\n",
            "Epoch 220/250\n",
            "200/200 [==============================] - 0s 2ms/step - loss: 0.0890 - acc: 0.9850 - val_loss: 0.2828 - val_acc: 0.8900\n",
            "Epoch 221/250\n",
            "200/200 [==============================] - 0s 2ms/step - loss: 0.0903 - acc: 0.9650 - val_loss: 0.2813 - val_acc: 0.8900\n",
            "Epoch 222/250\n",
            "200/200 [==============================] - 0s 2ms/step - loss: 0.1042 - acc: 0.9750 - val_loss: 0.2584 - val_acc: 0.9000\n",
            "Epoch 223/250\n",
            "200/200 [==============================] - 0s 2ms/step - loss: 0.1161 - acc: 0.9600 - val_loss: 0.2514 - val_acc: 0.9000\n",
            "Epoch 224/250\n",
            "200/200 [==============================] - 0s 2ms/step - loss: 0.0765 - acc: 0.9700 - val_loss: 0.2630 - val_acc: 0.8900\n",
            "Epoch 225/250\n",
            "200/200 [==============================] - 0s 2ms/step - loss: 0.1125 - acc: 0.9700 - val_loss: 0.2784 - val_acc: 0.8900\n",
            "Epoch 226/250\n",
            "200/200 [==============================] - 0s 2ms/step - loss: 0.1024 - acc: 0.9550 - val_loss: 0.2825 - val_acc: 0.9100\n",
            "Epoch 227/250\n",
            "200/200 [==============================] - 0s 2ms/step - loss: 0.1110 - acc: 0.9550 - val_loss: 0.2846 - val_acc: 0.8900\n",
            "Epoch 228/250\n",
            "200/200 [==============================] - 0s 2ms/step - loss: 0.0998 - acc: 0.9700 - val_loss: 0.2749 - val_acc: 0.8900\n",
            "Epoch 229/250\n",
            "200/200 [==============================] - 0s 2ms/step - loss: 0.1005 - acc: 0.9600 - val_loss: 0.2481 - val_acc: 0.9100\n",
            "Epoch 230/250\n",
            "200/200 [==============================] - 0s 2ms/step - loss: 0.1794 - acc: 0.9500 - val_loss: 0.2517 - val_acc: 0.8900\n",
            "Epoch 231/250\n",
            "200/200 [==============================] - 0s 2ms/step - loss: 0.1373 - acc: 0.9500 - val_loss: 0.2710 - val_acc: 0.8900\n",
            "Epoch 232/250\n",
            "200/200 [==============================] - 0s 2ms/step - loss: 0.0750 - acc: 0.9850 - val_loss: 0.2761 - val_acc: 0.8900\n",
            "Epoch 233/250\n",
            "200/200 [==============================] - 0s 2ms/step - loss: 0.0930 - acc: 0.9700 - val_loss: 0.2861 - val_acc: 0.8900\n",
            "Epoch 234/250\n",
            "200/200 [==============================] - 0s 2ms/step - loss: 0.1230 - acc: 0.9450 - val_loss: 0.2909 - val_acc: 0.8900\n",
            "Epoch 235/250\n",
            "200/200 [==============================] - 0s 2ms/step - loss: 0.1379 - acc: 0.9450 - val_loss: 0.2929 - val_acc: 0.8800\n",
            "Epoch 236/250\n",
            "200/200 [==============================] - 0s 2ms/step - loss: 0.1419 - acc: 0.9450 - val_loss: 0.2884 - val_acc: 0.8800\n",
            "Epoch 237/250\n",
            "200/200 [==============================] - 0s 2ms/step - loss: 0.0878 - acc: 0.9600 - val_loss: 0.2716 - val_acc: 0.8800\n",
            "Epoch 238/250\n",
            "200/200 [==============================] - 0s 2ms/step - loss: 0.1107 - acc: 0.9500 - val_loss: 0.2438 - val_acc: 0.9000\n",
            "Epoch 239/250\n",
            "200/200 [==============================] - 0s 2ms/step - loss: 0.1199 - acc: 0.9550 - val_loss: 0.2526 - val_acc: 0.9000\n",
            "Epoch 240/250\n",
            "200/200 [==============================] - 0s 2ms/step - loss: 0.0701 - acc: 0.9800 - val_loss: 0.2602 - val_acc: 0.9000\n",
            "Epoch 241/250\n",
            "200/200 [==============================] - 0s 2ms/step - loss: 0.1328 - acc: 0.9350 - val_loss: 0.2348 - val_acc: 0.9000\n",
            "Epoch 242/250\n",
            "200/200 [==============================] - 0s 2ms/step - loss: 0.1275 - acc: 0.9600 - val_loss: 0.2386 - val_acc: 0.8900\n",
            "Epoch 243/250\n",
            "200/200 [==============================] - 0s 2ms/step - loss: 0.0844 - acc: 0.9800 - val_loss: 0.2557 - val_acc: 0.8900\n",
            "Epoch 244/250\n",
            "200/200 [==============================] - 0s 2ms/step - loss: 0.1184 - acc: 0.9650 - val_loss: 0.2340 - val_acc: 0.8900\n",
            "Epoch 245/250\n",
            "200/200 [==============================] - 0s 2ms/step - loss: 0.1396 - acc: 0.9350 - val_loss: 0.2495 - val_acc: 0.9000\n",
            "Epoch 246/250\n",
            "200/200 [==============================] - 0s 2ms/step - loss: 0.1237 - acc: 0.9600 - val_loss: 0.2678 - val_acc: 0.8900\n",
            "Epoch 247/250\n",
            "200/200 [==============================] - 0s 2ms/step - loss: 0.1207 - acc: 0.9500 - val_loss: 0.2614 - val_acc: 0.9000\n",
            "Epoch 248/250\n",
            "200/200 [==============================] - 0s 2ms/step - loss: 0.1366 - acc: 0.9500 - val_loss: 0.2683 - val_acc: 0.8900\n",
            "Epoch 249/250\n",
            "200/200 [==============================] - 0s 2ms/step - loss: 0.0937 - acc: 0.9650 - val_loss: 0.2550 - val_acc: 0.9000\n",
            "Epoch 250/250\n",
            "200/200 [==============================] - 0s 2ms/step - loss: 0.0765 - acc: 0.9900 - val_loss: 0.2652 - val_acc: 0.8900\n"
          ],
          "name": "stdout"
        }
      ]
    },
    {
      "metadata": {
        "colab_type": "code",
        "outputId": "30dae8b7-aacf-45b0-e4b7-8b1482056143",
        "id": "ovI8rILW6w6j",
        "colab": {
          "base_uri": "https://localhost:8080/",
          "height": 311
        }
      },
      "cell_type": "code",
      "source": [
        "#plot error\n",
        "plt.plot(history.history['acc'])\n",
        "plt.plot(history.history['val_acc'])\n",
        "plt.title('model accuracy')\n",
        "plt.ylabel('accuracy')\n",
        "plt.xlabel('epoch')\n",
        "plt.ylim((0,1))\n",
        "plt.legend(['train', 'test'], loc='upper left')\n",
        "plt.show()\n",
        "\n",
        "#predict values and convert them to one-hot\n",
        "y_predicted = model.predict(X_test)\n",
        "Y_predicted = [np.argmax(y_predicted[i,:]) for i in range(nb_test)]\n",
        "y_predicted = np_utils.to_categorical(Y_predicted)\n",
        "\n",
        "Error = Y_test - y_predicted\n",
        "error_rate = np.mean([np.linalg.norm(Error[i,:],1) for i in range(nb_test)])/3.\n",
        "  \n",
        "print('Error rate is {}'.format(np.round(error_rate,3)))"
      ],
      "execution_count": 129,
      "outputs": [
        {
          "output_type": "display_data",
          "data": {
            "image/png": "[encoded data removed]",
            "text/plain": [
              "<matplotlib.figure.Figure at 0x7f0f33f16390>"
            ]
          },
          "metadata": {
            "tags": []
          }
        },
        {
          "output_type": "stream",
          "text": [
            "Error rate is 0.093\n"
          ],
          "name": "stdout"
        }
      ]
    },
    {
      "metadata": {
        "id": "o-uFJxxeJ1MD",
        "colab_type": "text"
      },
      "cell_type": "markdown",
      "source": [
        "#### The result is quite good, even though there is a little overlearning at the end."
      ]
    },
    {
      "metadata": {
        "id": "a4I7f1XBIv9D",
        "colab_type": "text"
      },
      "cell_type": "markdown",
      "source": [
        "## 6  A Regression Problem"
      ]
    },
    {
      "metadata": {
        "id": "JlXuvE2yTQXw",
        "colab_type": "code",
        "colab": {
          "base_uri": "https://localhost:8080/",
          "height": 602
        },
        "outputId": "c4a5b506-00dc-47be-b1a1-50ede06b12c5"
      },
      "cell_type": "code",
      "source": [
        "[X_train, Y_train] = generate_dataset_regression(2000, 20, 500)\n",
        "[X_test, Y_test] = generate_test_set_regression()\n",
        "X_train = X_train.reshape(-1,72,72,1)\n",
        "X_test = X_test.reshape(-1,72,72,1)"
      ],
      "execution_count": 4,
      "outputs": [
        {
          "output_type": "stream",
          "text": [
            "Creating data:\n",
            "0\n",
            "500\n",
            "1000\n",
            "1500\n",
            "Creating data:\n",
            "0\n",
            "10\n",
            "20\n",
            "30\n",
            "40\n",
            "50\n",
            "60\n",
            "70\n",
            "80\n",
            "90\n",
            "100\n",
            "110\n",
            "120\n",
            "130\n",
            "140\n",
            "150\n",
            "160\n",
            "170\n",
            "180\n",
            "190\n",
            "200\n",
            "210\n",
            "220\n",
            "230\n",
            "240\n",
            "250\n",
            "260\n",
            "270\n",
            "280\n",
            "290\n"
          ],
          "name": "stdout"
        }
      ]
    },
    {
      "metadata": {
        "id": "KWi5y3X-LS2Q",
        "colab_type": "text"
      },
      "cell_type": "markdown",
      "source": [
        "#### Since the coordinates of the edges aren't given in any particular order, it would be wise to reorder them in some was that the network could learn so that the loss makes sense.\n",
        "\n",
        "#### I have tried 2 different approaches which have yielded equivalent results:"
      ]
    },
    {
      "metadata": {
        "id": "ozdkhC-aGutD",
        "colab_type": "code",
        "colab": {}
      },
      "cell_type": "code",
      "source": [
        "def normalize(Y_train):  #Orders the edges following their y-axis coordinate\n",
        "  \n",
        "  x,y = Y_train.shape\n",
        "  Y = np.zeros((x,y-2))\n",
        "  for i in range(len(Y_train)):\n",
        "    \n",
        "    \n",
        "    Y_i = Y_train[i].copy()\n",
        "    sort_even = np.argsort(Y_i[::2])*2 #extrait les valeurs paires\n",
        "    Y_train[i][::2] = Y_i[sort_even]\n",
        "    Y_train[i][1::2] = Y_i[sort_even + 1]\n",
        "    Y[i] = Y_train[i][2:]\n",
        "    \n",
        "  return Y_train"
      ],
      "execution_count": 0,
      "outputs": []
    },
    {
      "metadata": {
        "id": "XE-s49SeDHGH",
        "colab_type": "code",
        "colab": {}
      },
      "cell_type": "code",
      "source": [
        "def normal_angle(Y_train):   #Orders the edges following the angles they make with the x-axis\n",
        "  \n",
        "  length,_ = Y_train.shape\n",
        "  Y_normalised = Y_train.copy()\n",
        "  theta = np.zeros(3)\n",
        "  for i in range(length):\n",
        "    \n",
        "    theta[0] = np.arctan(Y_train[i][0]/Y_train[i][1])\n",
        "    theta[1] = np.arctan(Y_train[i][2]/Y_train[i][3])\n",
        "    theta[2] = np.arctan(Y_train[i][4]/Y_train[i][5])\n",
        "    sort = np.argsort(theta)*2\n",
        "    Y_normalised[i] = np.array([Y_train[i][s:s+2] for s in sort]).flatten()\n",
        "    \n",
        "  return Y_normalised"
      ],
      "execution_count": 0,
      "outputs": []
    },
    {
      "metadata": {
        "id": "1F69YWzfMoDv",
        "colab_type": "code",
        "colab": {}
      },
      "cell_type": "code",
      "source": [
        "y_train = normalize(Y_train)"
      ],
      "execution_count": 0,
      "outputs": []
    },
    {
      "metadata": {
        "id": "sfvI0ulhGjx-",
        "colab_type": "code",
        "outputId": "d3e2afb0-a640-4a4f-8802-9c679e8ab3fd",
        "colab": {
          "base_uri": "https://localhost:8080/",
          "height": 5664
        }
      },
      "cell_type": "code",
      "source": [
        "from keras.models import Sequential\n",
        "from keras.layers import Conv2D, MaxPooling2D, Dropout, Flatten, Dense, BatchNormalization, Concatenate\n",
        "\n",
        "model = Sequential()\n",
        "model.add(Conv2D(64, (5, 5), activation='relu',\n",
        "                 input_shape=(72, 72, 1)) )\n",
        "model.add(MaxPooling2D(pool_size=(2, 2)))\n",
        "#model.add(BatchNormalization())          \n",
        "model.add(Dropout(0.15))\n",
        "          \n",
        "model.add(Conv2D(64, (8, 8), activation='relu') )\n",
        "model.add(MaxPooling2D(pool_size=(2, 2)))\n",
        "#model.add(BatchNormalization()) \n",
        "model.add(Dropout(0.15))\n",
        "\n",
        "model.add(Conv2D(64, (5, 5), activation='relu') )\n",
        "model.add(MaxPooling2D(pool_size=(2, 2)))\n",
        "#model.add(BatchNormalization()) \n",
        "model.add(Dropout(0.15))\n",
        "\n",
        "#flatten\n",
        "model.add(Flatten())\n",
        "model.add(Dropout(0.4))\n",
        "\n",
        "#layer1\n",
        "model.add(Dense(512, activation='relu'))\n",
        "model.add(Dropout(0.4))\n",
        "\n",
        "model.add(Dense(6, activation='relu'))\n",
        "\n",
        "#Optimizer choice\n",
        "from keras.optimizers import Adam\n",
        "adam = Adam(lr=0.001, beta_1=0.9, beta_2=0.999, epsilon=None, decay=0.0000001, amsgrad=False)\n",
        "model.compile(loss='mean_squared_error', optimizer=adam, metrics=['accuracy'])\n",
        "\n",
        "#Train\n",
        "history = model.fit(X_train, y_train, validation_split=0.15, epochs=150, batch_size=16)\n",
        "model.save_weights('my_model_weights.h5')\n",
        "\n",
        "#plot error\n",
        "plt.plot(history.history['acc'])\n",
        "plt.plot(history.history['val_acc'])\n",
        "plt.title('model accuracy')\n",
        "plt.ylabel('accuracy')\n",
        "plt.xlabel('epoch')\n",
        "plt.ylim((0,1))\n",
        "plt.legend(['train', 'test'], loc='upper left')\n",
        "plt.show()"
      ],
      "execution_count": 22,
      "outputs": [
        {
          "output_type": "stream",
          "text": [
            "Train on 1700 samples, validate on 300 samples\n",
            "Epoch 1/150\n",
            "1700/1700 [==============================] - 4s 2ms/step - loss: 0.0740 - acc: 0.4812 - val_loss: 0.0501 - val_acc: 0.6167\n",
            "Epoch 2/150\n",
            "1700/1700 [==============================] - 2s 1ms/step - loss: 0.0344 - acc: 0.6241 - val_loss: 0.0297 - val_acc: 0.6967\n",
            "Epoch 3/150\n",
            "1700/1700 [==============================] - 2s 1ms/step - loss: 0.0244 - acc: 0.6965 - val_loss: 0.0194 - val_acc: 0.7867\n",
            "Epoch 4/150\n",
            "1700/1700 [==============================] - 2s 1ms/step - loss: 0.0211 - acc: 0.7082 - val_loss: 0.0177 - val_acc: 0.7967\n",
            "Epoch 5/150\n",
            "1700/1700 [==============================] - 2s 1ms/step - loss: 0.0184 - acc: 0.7359 - val_loss: 0.0132 - val_acc: 0.8300\n",
            "Epoch 6/150\n",
            "1700/1700 [==============================] - 2s 1ms/step - loss: 0.0165 - acc: 0.7388 - val_loss: 0.0119 - val_acc: 0.8233\n",
            "Epoch 7/150\n",
            "1700/1700 [==============================] - 2s 1ms/step - loss: 0.0154 - acc: 0.7494 - val_loss: 0.0137 - val_acc: 0.8167\n",
            "Epoch 8/150\n",
            "1700/1700 [==============================] - 2s 1ms/step - loss: 0.0146 - acc: 0.7565 - val_loss: 0.0112 - val_acc: 0.8333\n",
            "Epoch 9/150\n",
            "1700/1700 [==============================] - 2s 1ms/step - loss: 0.0131 - acc: 0.7724 - val_loss: 0.0112 - val_acc: 0.8367\n",
            "Epoch 10/150\n",
            "1700/1700 [==============================] - 2s 1ms/step - loss: 0.0125 - acc: 0.7706 - val_loss: 0.0092 - val_acc: 0.8433\n",
            "Epoch 11/150\n",
            "1700/1700 [==============================] - 2s 1ms/step - loss: 0.0121 - acc: 0.7729 - val_loss: 0.0089 - val_acc: 0.8300\n",
            "Epoch 12/150\n",
            "1700/1700 [==============================] - 2s 1ms/step - loss: 0.0120 - acc: 0.7724 - val_loss: 0.0086 - val_acc: 0.8467\n",
            "Epoch 13/150\n",
            "1700/1700 [==============================] - 2s 1ms/step - loss: 0.0110 - acc: 0.7676 - val_loss: 0.0082 - val_acc: 0.8567\n",
            "Epoch 14/150\n",
            "1700/1700 [==============================] - 2s 1ms/step - loss: 0.0105 - acc: 0.7853 - val_loss: 0.0070 - val_acc: 0.8600\n",
            "Epoch 15/150\n",
            "1700/1700 [==============================] - 2s 1ms/step - loss: 0.0099 - acc: 0.7918 - val_loss: 0.0066 - val_acc: 0.8533\n",
            "Epoch 16/150\n",
            "1700/1700 [==============================] - 2s 1ms/step - loss: 0.0098 - acc: 0.7841 - val_loss: 0.0080 - val_acc: 0.8367\n",
            "Epoch 17/150\n",
            "1700/1700 [==============================] - 2s 1ms/step - loss: 0.0094 - acc: 0.7929 - val_loss: 0.0074 - val_acc: 0.8700\n",
            "Epoch 18/150\n",
            "1700/1700 [==============================] - 2s 1ms/step - loss: 0.0091 - acc: 0.8012 - val_loss: 0.0084 - val_acc: 0.8267\n",
            "Epoch 19/150\n",
            "1700/1700 [==============================] - 2s 1ms/step - loss: 0.0088 - acc: 0.8006 - val_loss: 0.0069 - val_acc: 0.8367\n",
            "Epoch 20/150\n",
            "1700/1700 [==============================] - 2s 1ms/step - loss: 0.0080 - acc: 0.8012 - val_loss: 0.0068 - val_acc: 0.8600\n",
            "Epoch 21/150\n",
            "1700/1700 [==============================] - 2s 1ms/step - loss: 0.0083 - acc: 0.8012 - val_loss: 0.0075 - val_acc: 0.8667\n",
            "Epoch 22/150\n",
            "1700/1700 [==============================] - 2s 1ms/step - loss: 0.0083 - acc: 0.7994 - val_loss: 0.0057 - val_acc: 0.8433\n",
            "Epoch 23/150\n",
            "1700/1700 [==============================] - 2s 1ms/step - loss: 0.0079 - acc: 0.7971 - val_loss: 0.0075 - val_acc: 0.8500\n",
            "Epoch 24/150\n",
            "1700/1700 [==============================] - 2s 1ms/step - loss: 0.0075 - acc: 0.8088 - val_loss: 0.0062 - val_acc: 0.8700\n",
            "Epoch 25/150\n",
            "1700/1700 [==============================] - 2s 1ms/step - loss: 0.0072 - acc: 0.8065 - val_loss: 0.0077 - val_acc: 0.8233\n",
            "Epoch 26/150\n",
            "1700/1700 [==============================] - 2s 1ms/step - loss: 0.0074 - acc: 0.7912 - val_loss: 0.0052 - val_acc: 0.8767\n",
            "Epoch 27/150\n",
            "1700/1700 [==============================] - 2s 1ms/step - loss: 0.0068 - acc: 0.8194 - val_loss: 0.0058 - val_acc: 0.8600\n",
            "Epoch 28/150\n",
            "1700/1700 [==============================] - 2s 1ms/step - loss: 0.0067 - acc: 0.8241 - val_loss: 0.0063 - val_acc: 0.8567\n",
            "Epoch 29/150\n",
            "1700/1700 [==============================] - 2s 1ms/step - loss: 0.0065 - acc: 0.8094 - val_loss: 0.0054 - val_acc: 0.8667\n",
            "Epoch 30/150\n",
            "1700/1700 [==============================] - 2s 1ms/step - loss: 0.0066 - acc: 0.8012 - val_loss: 0.0053 - val_acc: 0.8400\n",
            "Epoch 31/150\n",
            "1700/1700 [==============================] - 2s 1ms/step - loss: 0.0062 - acc: 0.8282 - val_loss: 0.0058 - val_acc: 0.8500\n",
            "Epoch 32/150\n",
            "1700/1700 [==============================] - 2s 1ms/step - loss: 0.0063 - acc: 0.8265 - val_loss: 0.0055 - val_acc: 0.8600\n",
            "Epoch 33/150\n",
            "1700/1700 [==============================] - 2s 1ms/step - loss: 0.0063 - acc: 0.8247 - val_loss: 0.0048 - val_acc: 0.8600\n",
            "Epoch 34/150\n",
            "1700/1700 [==============================] - 2s 1ms/step - loss: 0.0060 - acc: 0.8165 - val_loss: 0.0052 - val_acc: 0.8867\n",
            "Epoch 35/150\n",
            "1700/1700 [==============================] - 2s 1ms/step - loss: 0.0058 - acc: 0.8212 - val_loss: 0.0055 - val_acc: 0.8400\n",
            "Epoch 36/150\n",
            "1700/1700 [==============================] - 2s 1ms/step - loss: 0.0059 - acc: 0.8259 - val_loss: 0.0056 - val_acc: 0.8500\n",
            "Epoch 37/150\n",
            "1700/1700 [==============================] - 2s 1ms/step - loss: 0.0058 - acc: 0.8265 - val_loss: 0.0059 - val_acc: 0.8267\n",
            "Epoch 38/150\n",
            "1700/1700 [==============================] - 2s 1ms/step - loss: 0.0056 - acc: 0.8276 - val_loss: 0.0061 - val_acc: 0.8267\n",
            "Epoch 39/150\n",
            "1700/1700 [==============================] - 2s 1ms/step - loss: 0.0059 - acc: 0.8241 - val_loss: 0.0051 - val_acc: 0.8800\n",
            "Epoch 40/150\n",
            "1700/1700 [==============================] - 2s 1ms/step - loss: 0.0058 - acc: 0.8135 - val_loss: 0.0056 - val_acc: 0.8767\n",
            "Epoch 41/150\n",
            "1700/1700 [==============================] - 2s 1ms/step - loss: 0.0055 - acc: 0.8341 - val_loss: 0.0050 - val_acc: 0.8300\n",
            "Epoch 42/150\n",
            "1700/1700 [==============================] - 2s 1ms/step - loss: 0.0054 - acc: 0.8200 - val_loss: 0.0054 - val_acc: 0.8600\n",
            "Epoch 43/150\n",
            "1700/1700 [==============================] - 2s 1ms/step - loss: 0.0052 - acc: 0.8147 - val_loss: 0.0044 - val_acc: 0.8633\n",
            "Epoch 44/150\n",
            "1700/1700 [==============================] - 2s 1ms/step - loss: 0.0054 - acc: 0.8212 - val_loss: 0.0048 - val_acc: 0.8633\n",
            "Epoch 45/150\n",
            "1700/1700 [==============================] - 2s 1ms/step - loss: 0.0052 - acc: 0.8324 - val_loss: 0.0047 - val_acc: 0.8633\n",
            "Epoch 46/150\n",
            "1700/1700 [==============================] - 2s 1ms/step - loss: 0.0054 - acc: 0.8200 - val_loss: 0.0051 - val_acc: 0.8533\n",
            "Epoch 47/150\n",
            "1700/1700 [==============================] - 2s 1ms/step - loss: 0.0050 - acc: 0.8371 - val_loss: 0.0049 - val_acc: 0.8533\n",
            "Epoch 48/150\n",
            "1700/1700 [==============================] - 2s 1ms/step - loss: 0.0048 - acc: 0.8400 - val_loss: 0.0042 - val_acc: 0.8967\n",
            "Epoch 49/150\n",
            "1700/1700 [==============================] - 2s 1ms/step - loss: 0.0049 - acc: 0.8271 - val_loss: 0.0049 - val_acc: 0.8867\n",
            "Epoch 50/150\n",
            "1700/1700 [==============================] - 2s 1ms/step - loss: 0.0049 - acc: 0.8224 - val_loss: 0.0045 - val_acc: 0.8867\n",
            "Epoch 51/150\n",
            "1700/1700 [==============================] - 2s 1ms/step - loss: 0.0050 - acc: 0.8288 - val_loss: 0.0047 - val_acc: 0.9000\n",
            "Epoch 52/150\n",
            "1700/1700 [==============================] - 2s 1ms/step - loss: 0.0051 - acc: 0.8371 - val_loss: 0.0041 - val_acc: 0.9000\n",
            "Epoch 53/150\n",
            "1700/1700 [==============================] - 2s 1ms/step - loss: 0.0049 - acc: 0.8335 - val_loss: 0.0041 - val_acc: 0.8600\n",
            "Epoch 54/150\n",
            "1700/1700 [==============================] - 2s 1ms/step - loss: 0.0045 - acc: 0.8347 - val_loss: 0.0046 - val_acc: 0.8933\n",
            "Epoch 55/150\n",
            "1700/1700 [==============================] - 2s 1ms/step - loss: 0.0049 - acc: 0.8218 - val_loss: 0.0050 - val_acc: 0.8833\n",
            "Epoch 56/150\n",
            "1700/1700 [==============================] - 2s 1ms/step - loss: 0.0051 - acc: 0.8329 - val_loss: 0.0048 - val_acc: 0.8800\n",
            "Epoch 57/150\n",
            "1700/1700 [==============================] - 2s 1ms/step - loss: 0.0048 - acc: 0.8265 - val_loss: 0.0042 - val_acc: 0.8700\n",
            "Epoch 58/150\n",
            "1700/1700 [==============================] - 2s 1ms/step - loss: 0.0046 - acc: 0.8359 - val_loss: 0.0036 - val_acc: 0.8900\n",
            "Epoch 59/150\n",
            "1700/1700 [==============================] - 2s 1ms/step - loss: 0.0048 - acc: 0.8300 - val_loss: 0.0043 - val_acc: 0.9167\n",
            "Epoch 60/150\n",
            "1700/1700 [==============================] - 2s 1ms/step - loss: 0.0046 - acc: 0.8106 - val_loss: 0.0038 - val_acc: 0.8733\n",
            "Epoch 61/150\n",
            "1700/1700 [==============================] - 2s 1ms/step - loss: 0.0044 - acc: 0.8306 - val_loss: 0.0043 - val_acc: 0.8567\n",
            "Epoch 62/150\n",
            "1700/1700 [==============================] - 2s 1ms/step - loss: 0.0045 - acc: 0.8235 - val_loss: 0.0045 - val_acc: 0.8467\n",
            "Epoch 63/150\n",
            "1700/1700 [==============================] - 2s 1ms/step - loss: 0.0045 - acc: 0.8294 - val_loss: 0.0040 - val_acc: 0.8567\n",
            "Epoch 64/150\n",
            "1700/1700 [==============================] - 2s 1ms/step - loss: 0.0046 - acc: 0.8412 - val_loss: 0.0043 - val_acc: 0.8700\n",
            "Epoch 65/150\n",
            "1700/1700 [==============================] - 2s 1ms/step - loss: 0.0044 - acc: 0.8335 - val_loss: 0.0043 - val_acc: 0.8900\n",
            "Epoch 66/150\n",
            "1700/1700 [==============================] - 2s 1ms/step - loss: 0.0045 - acc: 0.8276 - val_loss: 0.0042 - val_acc: 0.8833\n",
            "Epoch 67/150\n",
            "1700/1700 [==============================] - 2s 1ms/step - loss: 0.0043 - acc: 0.8347 - val_loss: 0.0041 - val_acc: 0.8400\n",
            "Epoch 68/150\n",
            "1700/1700 [==============================] - 2s 1ms/step - loss: 0.0043 - acc: 0.8265 - val_loss: 0.0036 - val_acc: 0.8867\n",
            "Epoch 69/150\n",
            "1700/1700 [==============================] - 2s 1ms/step - loss: 0.0044 - acc: 0.8306 - val_loss: 0.0040 - val_acc: 0.8967\n",
            "Epoch 70/150\n",
            "1700/1700 [==============================] - 2s 1ms/step - loss: 0.0043 - acc: 0.8459 - val_loss: 0.0043 - val_acc: 0.8700\n",
            "Epoch 71/150\n",
            "1700/1700 [==============================] - 2s 1ms/step - loss: 0.0045 - acc: 0.8406 - val_loss: 0.0047 - val_acc: 0.8700\n",
            "Epoch 72/150\n",
            "1700/1700 [==============================] - 2s 1ms/step - loss: 0.0045 - acc: 0.8194 - val_loss: 0.0043 - val_acc: 0.8667\n",
            "Epoch 73/150\n",
            "1700/1700 [==============================] - 2s 1ms/step - loss: 0.0046 - acc: 0.8182 - val_loss: 0.0043 - val_acc: 0.8800\n",
            "Epoch 74/150\n",
            "1700/1700 [==============================] - 2s 1ms/step - loss: 0.0042 - acc: 0.8312 - val_loss: 0.0039 - val_acc: 0.8833\n",
            "Epoch 75/150\n",
            "1700/1700 [==============================] - 2s 1ms/step - loss: 0.0043 - acc: 0.8288 - val_loss: 0.0043 - val_acc: 0.8567\n",
            "Epoch 76/150\n",
            "1700/1700 [==============================] - 2s 1ms/step - loss: 0.0040 - acc: 0.8606 - val_loss: 0.0046 - val_acc: 0.8533\n",
            "Epoch 77/150\n",
            "1700/1700 [==============================] - 2s 1ms/step - loss: 0.0045 - acc: 0.8271 - val_loss: 0.0039 - val_acc: 0.8933\n",
            "Epoch 78/150\n",
            "1700/1700 [==============================] - 2s 1ms/step - loss: 0.0046 - acc: 0.8329 - val_loss: 0.0040 - val_acc: 0.8833\n",
            "Epoch 79/150\n",
            "1700/1700 [==============================] - 2s 1ms/step - loss: 0.0043 - acc: 0.8335 - val_loss: 0.0043 - val_acc: 0.9100\n",
            "Epoch 80/150\n",
            "1700/1700 [==============================] - 2s 1ms/step - loss: 0.0042 - acc: 0.8365 - val_loss: 0.0043 - val_acc: 0.8800\n",
            "Epoch 81/150\n",
            "1700/1700 [==============================] - 2s 1ms/step - loss: 0.0041 - acc: 0.8265 - val_loss: 0.0045 - val_acc: 0.8933\n",
            "Epoch 82/150\n",
            "1700/1700 [==============================] - 2s 1ms/step - loss: 0.0041 - acc: 0.8329 - val_loss: 0.0039 - val_acc: 0.8933\n",
            "Epoch 83/150\n",
            "1700/1700 [==============================] - 2s 1ms/step - loss: 0.0042 - acc: 0.8465 - val_loss: 0.0045 - val_acc: 0.8467\n",
            "Epoch 84/150\n",
            "1700/1700 [==============================] - 2s 1ms/step - loss: 0.0041 - acc: 0.8471 - val_loss: 0.0038 - val_acc: 0.8933\n",
            "Epoch 85/150\n",
            "1700/1700 [==============================] - 2s 1ms/step - loss: 0.0042 - acc: 0.8371 - val_loss: 0.0037 - val_acc: 0.8967\n",
            "Epoch 86/150\n",
            "1700/1700 [==============================] - 2s 1ms/step - loss: 0.0040 - acc: 0.8465 - val_loss: 0.0039 - val_acc: 0.8833\n",
            "Epoch 87/150\n",
            "1700/1700 [==============================] - 2s 1ms/step - loss: 0.0040 - acc: 0.8288 - val_loss: 0.0039 - val_acc: 0.8633\n",
            "Epoch 88/150\n",
            "1700/1700 [==============================] - 2s 1ms/step - loss: 0.0042 - acc: 0.8341 - val_loss: 0.0043 - val_acc: 0.8500\n",
            "Epoch 89/150\n",
            "1700/1700 [==============================] - 2s 1ms/step - loss: 0.0042 - acc: 0.8276 - val_loss: 0.0037 - val_acc: 0.8967\n",
            "Epoch 90/150\n",
            "1700/1700 [==============================] - 2s 1ms/step - loss: 0.0039 - acc: 0.8518 - val_loss: 0.0040 - val_acc: 0.8933\n",
            "Epoch 91/150\n",
            "1700/1700 [==============================] - 2s 1ms/step - loss: 0.0041 - acc: 0.8488 - val_loss: 0.0039 - val_acc: 0.9033\n",
            "Epoch 92/150\n",
            "1700/1700 [==============================] - 2s 1ms/step - loss: 0.0040 - acc: 0.8459 - val_loss: 0.0038 - val_acc: 0.9033\n",
            "Epoch 93/150\n",
            "1700/1700 [==============================] - 2s 1ms/step - loss: 0.0040 - acc: 0.8488 - val_loss: 0.0042 - val_acc: 0.9033\n",
            "Epoch 94/150\n",
            "1700/1700 [==============================] - 2s 1ms/step - loss: 0.0041 - acc: 0.8359 - val_loss: 0.0042 - val_acc: 0.8667\n",
            "Epoch 95/150\n",
            "1700/1700 [==============================] - 2s 1ms/step - loss: 0.0039 - acc: 0.8394 - val_loss: 0.0045 - val_acc: 0.8700\n",
            "Epoch 96/150\n",
            "1700/1700 [==============================] - 2s 1ms/step - loss: 0.0038 - acc: 0.8482 - val_loss: 0.0036 - val_acc: 0.8767\n",
            "Epoch 97/150\n",
            "1700/1700 [==============================] - 2s 1ms/step - loss: 0.0038 - acc: 0.8335 - val_loss: 0.0042 - val_acc: 0.8933\n",
            "Epoch 98/150\n",
            "1700/1700 [==============================] - 2s 1ms/step - loss: 0.0039 - acc: 0.8535 - val_loss: 0.0041 - val_acc: 0.8933\n",
            "Epoch 99/150\n",
            "1700/1700 [==============================] - 2s 1ms/step - loss: 0.0039 - acc: 0.8300 - val_loss: 0.0046 - val_acc: 0.9033\n",
            "Epoch 100/150\n",
            "1700/1700 [==============================] - 2s 1ms/step - loss: 0.0039 - acc: 0.8376 - val_loss: 0.0041 - val_acc: 0.8833\n",
            "Epoch 101/150\n",
            "1700/1700 [==============================] - 2s 1ms/step - loss: 0.0040 - acc: 0.8365 - val_loss: 0.0043 - val_acc: 0.8967\n",
            "Epoch 102/150\n",
            "1700/1700 [==============================] - 2s 1ms/step - loss: 0.0040 - acc: 0.8318 - val_loss: 0.0042 - val_acc: 0.8733\n",
            "Epoch 103/150\n",
            "1700/1700 [==============================] - 2s 1ms/step - loss: 0.0038 - acc: 0.8459 - val_loss: 0.0038 - val_acc: 0.8800\n",
            "Epoch 104/150\n",
            "1700/1700 [==============================] - 2s 1ms/step - loss: 0.0039 - acc: 0.8382 - val_loss: 0.0038 - val_acc: 0.8933\n",
            "Epoch 105/150\n",
            "1700/1700 [==============================] - 2s 1ms/step - loss: 0.0037 - acc: 0.8447 - val_loss: 0.0041 - val_acc: 0.8800\n",
            "Epoch 106/150\n",
            "1700/1700 [==============================] - 2s 1ms/step - loss: 0.0038 - acc: 0.8471 - val_loss: 0.0037 - val_acc: 0.8900\n",
            "Epoch 107/150\n",
            "1700/1700 [==============================] - 2s 1ms/step - loss: 0.0037 - acc: 0.8347 - val_loss: 0.0042 - val_acc: 0.8633\n",
            "Epoch 108/150\n",
            "1700/1700 [==============================] - 2s 1ms/step - loss: 0.0038 - acc: 0.8382 - val_loss: 0.0041 - val_acc: 0.8733\n",
            "Epoch 109/150\n",
            "1700/1700 [==============================] - 2s 1ms/step - loss: 0.0038 - acc: 0.8429 - val_loss: 0.0037 - val_acc: 0.8967\n",
            "Epoch 110/150\n",
            "1700/1700 [==============================] - 2s 1ms/step - loss: 0.0038 - acc: 0.8424 - val_loss: 0.0036 - val_acc: 0.8800\n",
            "Epoch 111/150\n",
            "1700/1700 [==============================] - 2s 1ms/step - loss: 0.0039 - acc: 0.8259 - val_loss: 0.0038 - val_acc: 0.8933\n",
            "Epoch 112/150\n",
            "1700/1700 [==============================] - 2s 1ms/step - loss: 0.0037 - acc: 0.8535 - val_loss: 0.0042 - val_acc: 0.9000\n",
            "Epoch 113/150\n",
            "1700/1700 [==============================] - 2s 1ms/step - loss: 0.0037 - acc: 0.8424 - val_loss: 0.0038 - val_acc: 0.8933\n",
            "Epoch 114/150\n",
            "1700/1700 [==============================] - 2s 1ms/step - loss: 0.0036 - acc: 0.8353 - val_loss: 0.0036 - val_acc: 0.8900\n",
            "Epoch 115/150\n",
            "1700/1700 [==============================] - 2s 1ms/step - loss: 0.0037 - acc: 0.8271 - val_loss: 0.0040 - val_acc: 0.8800\n",
            "Epoch 116/150\n",
            "1700/1700 [==============================] - 2s 1ms/step - loss: 0.0037 - acc: 0.8471 - val_loss: 0.0036 - val_acc: 0.8867\n",
            "Epoch 117/150\n",
            "1700/1700 [==============================] - 2s 1ms/step - loss: 0.0038 - acc: 0.8453 - val_loss: 0.0034 - val_acc: 0.8733\n",
            "Epoch 118/150\n",
            "1700/1700 [==============================] - 2s 1ms/step - loss: 0.0038 - acc: 0.8465 - val_loss: 0.0041 - val_acc: 0.8533\n",
            "Epoch 119/150\n",
            "1700/1700 [==============================] - 2s 1ms/step - loss: 0.0037 - acc: 0.8376 - val_loss: 0.0037 - val_acc: 0.8900\n",
            "Epoch 120/150\n",
            "1700/1700 [==============================] - 2s 1ms/step - loss: 0.0038 - acc: 0.8371 - val_loss: 0.0038 - val_acc: 0.8967\n",
            "Epoch 121/150\n",
            "1700/1700 [==============================] - 2s 1ms/step - loss: 0.0037 - acc: 0.8441 - val_loss: 0.0042 - val_acc: 0.8833\n",
            "Epoch 122/150\n",
            "1700/1700 [==============================] - 2s 1ms/step - loss: 0.0037 - acc: 0.8641 - val_loss: 0.0035 - val_acc: 0.8800\n",
            "Epoch 123/150\n",
            "1700/1700 [==============================] - 2s 1ms/step - loss: 0.0038 - acc: 0.8335 - val_loss: 0.0036 - val_acc: 0.8733\n",
            "Epoch 124/150\n",
            "1700/1700 [==============================] - 2s 1ms/step - loss: 0.0037 - acc: 0.8329 - val_loss: 0.0040 - val_acc: 0.8967\n",
            "Epoch 125/150\n",
            "1700/1700 [==============================] - 2s 1ms/step - loss: 0.0037 - acc: 0.8447 - val_loss: 0.0039 - val_acc: 0.8733\n",
            "Epoch 126/150\n",
            "1700/1700 [==============================] - 2s 1ms/step - loss: 0.0037 - acc: 0.8547 - val_loss: 0.0038 - val_acc: 0.8933\n",
            "Epoch 127/150\n",
            "1700/1700 [==============================] - 2s 1ms/step - loss: 0.0037 - acc: 0.8429 - val_loss: 0.0035 - val_acc: 0.8967\n",
            "Epoch 128/150\n",
            "1700/1700 [==============================] - 2s 1ms/step - loss: 0.0036 - acc: 0.8429 - val_loss: 0.0043 - val_acc: 0.8600\n",
            "Epoch 129/150\n",
            "1700/1700 [==============================] - 2s 1ms/step - loss: 0.0036 - acc: 0.8535 - val_loss: 0.0039 - val_acc: 0.8800\n",
            "Epoch 130/150\n",
            "1700/1700 [==============================] - 2s 1ms/step - loss: 0.0035 - acc: 0.8335 - val_loss: 0.0036 - val_acc: 0.8933\n",
            "Epoch 131/150\n",
            "1700/1700 [==============================] - 2s 1ms/step - loss: 0.0038 - acc: 0.8359 - val_loss: 0.0041 - val_acc: 0.8300\n",
            "Epoch 132/150\n",
            "1700/1700 [==============================] - 2s 1ms/step - loss: 0.0036 - acc: 0.8459 - val_loss: 0.0039 - val_acc: 0.8900\n",
            "Epoch 133/150\n",
            "1700/1700 [==============================] - 2s 1ms/step - loss: 0.0037 - acc: 0.8447 - val_loss: 0.0042 - val_acc: 0.8867\n",
            "Epoch 134/150\n",
            "1700/1700 [==============================] - 2s 1ms/step - loss: 0.0034 - acc: 0.8512 - val_loss: 0.0041 - val_acc: 0.8900\n",
            "Epoch 135/150\n",
            "1700/1700 [==============================] - 2s 1ms/step - loss: 0.0037 - acc: 0.8365 - val_loss: 0.0040 - val_acc: 0.9067\n",
            "Epoch 136/150\n",
            "1700/1700 [==============================] - 2s 1ms/step - loss: 0.0035 - acc: 0.8329 - val_loss: 0.0034 - val_acc: 0.9033\n",
            "Epoch 137/150\n",
            "1700/1700 [==============================] - 2s 1ms/step - loss: 0.0037 - acc: 0.8312 - val_loss: 0.0040 - val_acc: 0.8933\n",
            "Epoch 138/150\n",
            "1700/1700 [==============================] - 2s 1ms/step - loss: 0.0036 - acc: 0.8335 - val_loss: 0.0038 - val_acc: 0.8800\n",
            "Epoch 139/150\n",
            "1700/1700 [==============================] - 2s 1ms/step - loss: 0.0035 - acc: 0.8488 - val_loss: 0.0037 - val_acc: 0.9067\n",
            "Epoch 140/150\n",
            "1700/1700 [==============================] - 2s 1ms/step - loss: 0.0035 - acc: 0.8500 - val_loss: 0.0040 - val_acc: 0.8767\n",
            "Epoch 141/150\n",
            "1700/1700 [==============================] - 2s 1ms/step - loss: 0.0035 - acc: 0.8459 - val_loss: 0.0041 - val_acc: 0.8967\n",
            "Epoch 142/150\n",
            "1700/1700 [==============================] - 2s 1ms/step - loss: 0.0036 - acc: 0.8406 - val_loss: 0.0034 - val_acc: 0.8900\n",
            "Epoch 143/150\n",
            "1700/1700 [==============================] - 2s 1ms/step - loss: 0.0037 - acc: 0.8441 - val_loss: 0.0034 - val_acc: 0.8933\n",
            "Epoch 144/150\n",
            "1700/1700 [==============================] - 2s 1ms/step - loss: 0.0035 - acc: 0.8541 - val_loss: 0.0035 - val_acc: 0.8867\n",
            "Epoch 145/150\n",
            "1700/1700 [==============================] - 2s 1ms/step - loss: 0.0035 - acc: 0.8324 - val_loss: 0.0038 - val_acc: 0.9267\n",
            "Epoch 146/150\n",
            "1700/1700 [==============================] - 2s 1ms/step - loss: 0.0037 - acc: 0.8394 - val_loss: 0.0036 - val_acc: 0.8967\n",
            "Epoch 147/150\n",
            "1700/1700 [==============================] - 2s 1ms/step - loss: 0.0036 - acc: 0.8465 - val_loss: 0.0034 - val_acc: 0.8933\n",
            "Epoch 148/150\n",
            "1700/1700 [==============================] - 2s 1ms/step - loss: 0.0035 - acc: 0.8447 - val_loss: 0.0036 - val_acc: 0.9067\n",
            "Epoch 149/150\n",
            "1700/1700 [==============================] - 2s 1ms/step - loss: 0.0035 - acc: 0.8365 - val_loss: 0.0032 - val_acc: 0.8900\n",
            "Epoch 150/150\n",
            "1700/1700 [==============================] - 2s 1ms/step - loss: 0.0041 - acc: 0.8488 - val_loss: 0.0038 - val_acc: 0.8733\n"
          ],
          "name": "stdout"
        },
        {
          "output_type": "display_data",
          "data": {
            "image/png": "[encoded data removed]",
            "text/plain": [
              "<matplotlib.figure.Figure at 0x7fe58c764898>"
            ]
          },
          "metadata": {
            "tags": []
          }
        }
      ]
    },
    {
      "metadata": {
        "id": "h4iyzpdnBx7Z",
        "colab_type": "code",
        "outputId": "49e22770-ce59-4105-ef90-a6aff9a4114d",
        "colab": {
          "base_uri": "https://localhost:8080/",
          "height": 325
        }
      },
      "cell_type": "code",
      "source": [
        "y_pred = model.predict(X_test[:10])\n",
        "visualize_multiple_prediction(X_test[:10], y_pred[:10])\n",
        "plt.show()"
      ],
      "execution_count": 23,
      "outputs": [
        {
          "output_type": "display_data",
          "data": {
            "image/png": "[encoded data removed]",
            "text/plain": [
              "<matplotlib.figure.Figure at 0x7fe58c8f5550>"
            ]
          },
          "metadata": {
            "tags": []
          }
        }
      ]
    },
    {
      "metadata": {
        "id": "4aE_NVC4poIi",
        "colab_type": "text"
      },
      "cell_type": "markdown",
      "source": [
        "#### As we can see, even if the accuracy is around 0.9, the visual result is still very good."
      ]
    },
    {
      "metadata": {
        "id": "dYfGCJSVt3Ry",
        "colab_type": "text"
      },
      "cell_type": "markdown",
      "source": [
        "## 7 "
      ]
    },
    {
      "metadata": {
        "id": "bLWdMcSn-PEi",
        "colab_type": "text"
      },
      "cell_type": "markdown",
      "source": [
        "#### Modification of the generate_a_* function"
      ]
    },
    {
      "metadata": {
        "id": "qfKU0IAst5O9",
        "colab_type": "code",
        "colab": {}
      },
      "cell_type": "code",
      "source": [
        "def generate_a_rectangle(noise=0.0, free_location=False):\n",
        "    figsize = 1.0    \n",
        "    U = np.zeros(4)\n",
        "    V = np.zeros(4)\n",
        "    if free_location:\n",
        "        corners = np.random.random(4)\n",
        "        top = max(corners[0], corners[1])\n",
        "        bottom = min(corners[0], corners[1])\n",
        "        left = min(corners[2], corners[3])\n",
        "        right = max(corners[2], corners[3])\n",
        "    else:\n",
        "        side = (0.3 + 0.7 * np.random.random()) * figsize\n",
        "        top = figsize/2 + side/2\n",
        "        bottom = figsize/2 - side/2\n",
        "        left = bottom\n",
        "        right = top\n",
        "    U[0] = U[1] = top\n",
        "    U[2] = U[3] = bottom\n",
        "    V[0] = V[3] = left\n",
        "    V[1] = V[2] = right\n",
        "    return generate_a_drawing(figsize, U, V, noise), generate_a_drawing(figsize, U, V, 0)\n",
        "\n",
        "\n",
        "def generate_a_disk(noise=0.0, free_location=False):\n",
        "    figsize = 1.0\n",
        "    if free_location:\n",
        "        center = np.random.random(2)\n",
        "    else:\n",
        "        center = (figsize/2, figsize/2)\n",
        "    radius = (0.3 + 0.7 * np.random.random()) * figsize/2\n",
        "    N = 50\n",
        "    U = np.zeros(N)\n",
        "    V = np.zeros(N)\n",
        "    i = 0\n",
        "    for t in np.linspace(0, 2*np.pi, N):\n",
        "        U[i] = center[0] + np.cos(t) * radius\n",
        "        V[i] = center[1] + np.sin(t) * radius\n",
        "        i = i + 1\n",
        "    return generate_a_drawing(figsize, U, V, noise), generate_a_drawing(figsize, U, V, 0)\n",
        "\n",
        "def generate_a_triangle(noise=0.0, free_location=False):\n",
        "    figsize = 1.0\n",
        "    if free_location:\n",
        "        U = np.random.random(3)\n",
        "        V = np.random.random(3)\n",
        "    else:\n",
        "        size = (0.3 + 0.7 * np.random.random())*figsize/2\n",
        "        middle = figsize/2\n",
        "        U = (middle, middle+size, middle-size)\n",
        "        V = (middle+size, middle-size, middle-size)\n",
        "    return generate_a_drawing(figsize, U, V, noise), generate_a_drawing(figsize, U, V, 0)\n",
        "  \n",
        "def generate_dataset_classification_noisy(nb_samples, noise=0.0, print_every=10, free_location=False):\n",
        "  # Getting im_size:\n",
        "    im_size = generate_a_rectangle()[0].shape[0]\n",
        "    X = np.zeros([nb_samples,im_size])\n",
        "    Y = np.zeros([nb_samples,im_size])\n",
        "    print('Creating data:')\n",
        "    for i in range(nb_samples):\n",
        "        if i % print_every == 0:\n",
        "            print(i)\n",
        "        category = np.random.randint(3)\n",
        "        if category == 0:\n",
        "            X[i], Y[i] = generate_a_rectangle(noise, free_location)\n",
        "        elif category == 1: \n",
        "            X[i], Y[i] = generate_a_disk(noise, free_location)\n",
        "        else:\n",
        "            X[i], Y[i] = generate_a_triangle(noise, free_location)\n",
        "    X = (X + noise) / (255 + 2 * noise)\n",
        "    Y = Y / 255.\n",
        "    return [X.reshape(-1,72,72,1), Y.reshape(-1,72,72,1)]"
      ],
      "execution_count": 0,
      "outputs": []
    },
    {
      "metadata": {
        "id": "ilJjyw6r-a_6",
        "colab_type": "text"
      },
      "cell_type": "markdown",
      "source": [
        "### Denoizing"
      ]
    },
    {
      "metadata": {
        "id": "-GsG-ERHJBLx",
        "colab_type": "code",
        "colab": {
          "base_uri": "https://localhost:8080/",
          "height": 283
        },
        "outputId": "23be09eb-abfd-4bef-c58f-712e84f150d0"
      },
      "cell_type": "code",
      "source": [
        "import matplotlib.pyplot as plt\n",
        "import numpy as np\n",
        "[X_train, Y_train] = generate_dataset_classification_noisy(1000, noise=50.0, print_every=100, free_location=False)\n",
        "[X_test, Y_test] = generate_dataset_classification_noisy(300, noise=50.0, print_every=100, free_location=False)"
      ],
      "execution_count": 200,
      "outputs": [
        {
          "output_type": "stream",
          "text": [
            "Creating data:\n",
            "0\n",
            "100\n",
            "200\n",
            "300\n",
            "400\n",
            "500\n",
            "600\n",
            "700\n",
            "800\n",
            "900\n",
            "Creating data:\n",
            "0\n",
            "100\n",
            "200\n"
          ],
          "name": "stdout"
        }
      ]
    },
    {
      "metadata": {
        "id": "25ofcuH-arT9",
        "colab_type": "text"
      },
      "cell_type": "markdown",
      "source": [
        "#### We now wish to denoise images such as the one below:"
      ]
    },
    {
      "metadata": {
        "id": "AmAlf9WgJ5Bg",
        "colab_type": "code",
        "colab": {
          "base_uri": "https://localhost:8080/",
          "height": 285
        },
        "outputId": "80511c2a-9ecb-4dab-cddb-7fbc16200a99"
      },
      "cell_type": "code",
      "source": [
        "plt.imshow(X_test[0].reshape(72,72))"
      ],
      "execution_count": 201,
      "outputs": [
        {
          "output_type": "execute_result",
          "data": {
            "text/plain": [
              "<matplotlib.image.AxesImage at 0x7f0f16b36ac8>"
            ]
          },
          "metadata": {
            "tags": []
          },
          "execution_count": 201
        },
        {
          "output_type": "display_data",
          "data": {
            "image/png": "[encoded data removed]",
            "text/plain": [
              "<matplotlib.figure.Figure at 0x7f0f0c606940>"
            ]
          },
          "metadata": {
            "tags": []
          }
        }
      ]
    },
    {
      "metadata": {
        "id": "NEPT068YazA0",
        "colab_type": "text"
      },
      "cell_type": "markdown",
      "source": [
        "#### I have decided to use 1 hourglass with residuals for my network, as inspired by the U-Net architecture. In order to achieve a quicker convergence, and to avoid bad local minima (such as an all-white image that can be induced with l1 or l2 loss).\n",
        "\n",
        "#### I will start by using binary crossentropy loss to make the loss function more convex, and therefore garantee to get close to the desired global minimum. I will also use activity_regularizer to regularize the output."
      ]
    },
    {
      "metadata": {
        "id": "W9FebTX1Trw_",
        "colab_type": "code",
        "colab": {
          "base_uri": "https://localhost:8080/",
          "height": 1485
        },
        "outputId": "e148d890-9553-4ba6-dbcc-df2071620893"
      },
      "cell_type": "code",
      "source": [
        "from keras.models import Model\n",
        "from keras.layers import merge, Conv2D, MaxPooling2D, Dropout, Flatten, Dense, Input, UpSampling2D, Conv2DTranspose\n",
        "from keras.layers import Add\n",
        "from keras import regularizers\n",
        "\n",
        "inputs = Input((72, 72, 1))\n",
        "\n",
        "##########HOURGLASS################\n",
        "conv_size = 4\n",
        "\n",
        "#downsampling\n",
        "conv_down1 = Conv2D(64, conv_size, activation = 'relu', padding='same')(inputs)\n",
        "pool_down1 = MaxPooling2D(pool_size=(2, 2))(conv_down1)\n",
        "\n",
        "conv_down2 = Conv2D(128, conv_size*2, activation = 'relu', padding='same')(pool_down1)\n",
        "pool_down2 = MaxPooling2D(pool_size=(2, 2))(conv_down2)\n",
        "\n",
        "conv_down3 = Conv2D(256, conv_size*4, activation = 'relu', padding='same')(pool_down2)\n",
        "pool_down3 = MaxPooling2D(pool_size=(2, 2))(conv_down3)\n",
        "conv_middle = Conv2D(256, conv_size, activation = 'relu', padding='same',activity_regularizer=regularizers.l1(0.00001))(pool_down3)\n",
        "\n",
        "#upsampling\n",
        "up_sample1 = UpSampling2D(size = (2,2))(conv_middle)\n",
        "up_sample1 = Add()([up_sample1,conv_down3])\n",
        "conv_up1 = Conv2D(128, conv_size, activation = 'relu', padding='same',activity_regularizer=regularizers.l1(0.00001))(up_sample1)\n",
        "\n",
        "up_sample2 = UpSampling2D(size = (2,2))(conv_up1)\n",
        "up_sample2 = Add()([up_sample2,conv_down2])\n",
        "conv_up2 = Conv2D(64, conv_size, activation = 'relu', padding='same',activity_regularizer=regularizers.l1(0.00001))(up_sample2)\n",
        "\n",
        "up_sample3 = UpSampling2D(size = (2,2))(conv_up2)\n",
        "up_sample3 = Add()([up_sample3,conv_down1])\n",
        "conv_up3 = Conv2D(64, conv_size, activation = 'relu', padding='same',activity_regularizer=regularizers.l1(0.00001))(up_sample3)\n",
        "\n",
        "#Output\n",
        "out = Conv2D(1, 2, activation = 'tanh', padding='same')(conv_up3)\n",
        "model = Model(input = [inputs], output = [out])\n",
        "\n",
        "#Optimizer\n",
        "from keras.optimizers import Adam\n",
        "adam = Adam(lr=0.001, beta_1=0.9, beta_2=0.999, epsilon=None, amsgrad=False)\n",
        "model.compile(optimizer = adam,\n",
        "loss = 'binary_crossentropy', metrics=['accuracy'])\n",
        "\n",
        "#Train\n",
        "history = model.fit(X_train.reshape(-1,72,72,1), Y_train.reshape(-1,72,72,1), validation_split=0.15, epochs=35, batch_size=40)\n",
        "\n",
        "#plot error\n",
        "plt.plot(history.history['acc'])\n",
        "plt.plot(history.history['val_acc'])\n",
        "plt.title('model accuracy')\n",
        "plt.ylabel('accuracy')\n",
        "plt.xlabel('epoch')\n",
        "plt.ylim((0,1))\n",
        "plt.legend(['train', 'test'], loc='upper left')\n",
        "plt.show()"
      ],
      "execution_count": 208,
      "outputs": [
        {
          "output_type": "stream",
          "text": [
            "/usr/local/lib/python3.6/dist-packages/ipykernel_launcher.py:37: UserWarning: Update your `Model` call to the Keras 2 API: `Model(inputs=[<tf.Tenso..., outputs=[<tf.Tenso...)`\n"
          ],
          "name": "stderr"
        },
        {
          "output_type": "stream",
          "text": [
            "Train on 850 samples, validate on 150 samples\n",
            "Epoch 1/35\n",
            "850/850 [==============================] - 16s 19ms/step - loss: 12.1823 - acc: 0.2650 - val_loss: 2.0585 - val_acc: 0.2210\n",
            "Epoch 2/35\n",
            "850/850 [==============================] - 7s 8ms/step - loss: 2.0043 - acc: 0.2219 - val_loss: 1.8908 - val_acc: 0.2210\n",
            "Epoch 3/35\n",
            "850/850 [==============================] - 7s 8ms/step - loss: 1.8529 - acc: 0.2219 - val_loss: 1.7505 - val_acc: 0.2210\n",
            "Epoch 4/35\n",
            "850/850 [==============================] - 7s 8ms/step - loss: 1.7188 - acc: 0.2219 - val_loss: 1.6269 - val_acc: 0.2210\n",
            "Epoch 5/35\n",
            "850/850 [==============================] - 7s 8ms/step - loss: 1.6034 - acc: 0.2219 - val_loss: 1.5307 - val_acc: 0.2210\n",
            "Epoch 6/35\n",
            "850/850 [==============================] - 7s 8ms/step - loss: 1.5138 - acc: 0.2219 - val_loss: 1.4485 - val_acc: 0.2210\n",
            "Epoch 7/35\n",
            "850/850 [==============================] - 7s 8ms/step - loss: 1.4341 - acc: 0.2219 - val_loss: 1.3633 - val_acc: 0.2210\n",
            "Epoch 8/35\n",
            "850/850 [==============================] - 7s 8ms/step - loss: 1.3518 - acc: 0.2219 - val_loss: 1.2930 - val_acc: 0.2210\n",
            "Epoch 9/35\n",
            "850/850 [==============================] - 7s 8ms/step - loss: 1.2919 - acc: 0.2219 - val_loss: 1.2402 - val_acc: 0.2210\n",
            "Epoch 10/35\n",
            "850/850 [==============================] - 7s 8ms/step - loss: 1.2425 - acc: 0.2598 - val_loss: 1.1908 - val_acc: 0.2211\n",
            "Epoch 11/35\n",
            "850/850 [==============================] - 6s 8ms/step - loss: 1.1963 - acc: 0.2358 - val_loss: 1.1525 - val_acc: 0.2214\n",
            "Epoch 12/35\n",
            "850/850 [==============================] - 6s 8ms/step - loss: 1.1534 - acc: 0.2575 - val_loss: 1.1139 - val_acc: 0.2569\n",
            "Epoch 13/35\n",
            "850/850 [==============================] - 6s 8ms/step - loss: 1.1187 - acc: 0.3977 - val_loss: 1.0817 - val_acc: 0.3226\n",
            "Epoch 14/35\n",
            "850/850 [==============================] - 6s 8ms/step - loss: 1.0887 - acc: 0.6504 - val_loss: 1.0541 - val_acc: 0.3583\n",
            "Epoch 15/35\n",
            "850/850 [==============================] - 6s 8ms/step - loss: 1.0606 - acc: 0.8235 - val_loss: 1.0276 - val_acc: 0.8551\n",
            "Epoch 16/35\n",
            "850/850 [==============================] - 6s 8ms/step - loss: 1.0349 - acc: 0.8861 - val_loss: 1.0037 - val_acc: 0.8775\n",
            "Epoch 17/35\n",
            "850/850 [==============================] - 6s 8ms/step - loss: 1.0118 - acc: 0.9019 - val_loss: 0.9819 - val_acc: 0.8899\n",
            "Epoch 18/35\n",
            "850/850 [==============================] - 6s 8ms/step - loss: 0.9903 - acc: 0.9274 - val_loss: 0.9617 - val_acc: 0.9232\n",
            "Epoch 19/35\n",
            "850/850 [==============================] - 6s 8ms/step - loss: 0.9713 - acc: 0.9406 - val_loss: 0.9430 - val_acc: 0.9386\n",
            "Epoch 20/35\n",
            "850/850 [==============================] - 6s 8ms/step - loss: 0.9521 - acc: 0.9454 - val_loss: 0.9252 - val_acc: 0.9448\n",
            "Epoch 21/35\n",
            "850/850 [==============================] - 6s 8ms/step - loss: 0.9349 - acc: 0.9480 - val_loss: 0.9088 - val_acc: 0.9464\n",
            "Epoch 22/35\n",
            "850/850 [==============================] - 6s 8ms/step - loss: 0.9187 - acc: 0.9498 - val_loss: 0.8933 - val_acc: 0.9484\n",
            "Epoch 23/35\n",
            "850/850 [==============================] - 6s 8ms/step - loss: 0.9038 - acc: 0.9514 - val_loss: 0.8788 - val_acc: 0.9497\n",
            "Epoch 24/35\n",
            "850/850 [==============================] - 6s 8ms/step - loss: 0.8891 - acc: 0.9525 - val_loss: 0.8649 - val_acc: 0.9509\n",
            "Epoch 25/35\n",
            "850/850 [==============================] - 6s 8ms/step - loss: 0.8755 - acc: 0.9537 - val_loss: 0.8519 - val_acc: 0.9516\n",
            "Epoch 26/35\n",
            "850/850 [==============================] - 6s 8ms/step - loss: 0.8624 - acc: 0.9549 - val_loss: 0.8394 - val_acc: 0.9530\n",
            "Epoch 27/35\n",
            "850/850 [==============================] - 6s 8ms/step - loss: 0.8502 - acc: 0.9564 - val_loss: 0.8276 - val_acc: 0.9544\n",
            "Epoch 28/35\n",
            "850/850 [==============================] - 6s 8ms/step - loss: 0.8384 - acc: 0.9577 - val_loss: 0.8161 - val_acc: 0.9567\n",
            "Epoch 29/35\n",
            "850/850 [==============================] - 6s 8ms/step - loss: 0.8278 - acc: 0.9596 - val_loss: 0.8061 - val_acc: 0.9571\n",
            "Epoch 30/35\n",
            "850/850 [==============================] - 6s 8ms/step - loss: 0.8165 - acc: 0.9608 - val_loss: 0.7957 - val_acc: 0.9586\n",
            "Epoch 31/35\n",
            "850/850 [==============================] - 6s 8ms/step - loss: 0.8069 - acc: 0.9625 - val_loss: 0.7859 - val_acc: 0.9591\n",
            "Epoch 32/35\n",
            "850/850 [==============================] - 6s 8ms/step - loss: 0.7969 - acc: 0.9666 - val_loss: 0.7766 - val_acc: 0.9600\n",
            "Epoch 33/35\n",
            "850/850 [==============================] - 6s 8ms/step - loss: 0.7874 - acc: 0.9699 - val_loss: 0.7675 - val_acc: 0.9637\n",
            "Epoch 34/35\n",
            "850/850 [==============================] - 6s 8ms/step - loss: 0.7791 - acc: 0.9743 - val_loss: 0.7592 - val_acc: 0.9699\n",
            "Epoch 35/35\n",
            "850/850 [==============================] - 6s 8ms/step - loss: 0.7698 - acc: 0.9770 - val_loss: 0.7506 - val_acc: 0.9740\n"
          ],
          "name": "stdout"
        },
        {
          "output_type": "display_data",
          "data": {
            "image/png": "[encoded data removed]",
            "text/plain": [
              "<matplotlib.figure.Figure at 0x7f0f14a007b8>"
            ]
          },
          "metadata": {
            "tags": []
          }
        }
      ]
    },
    {
      "metadata": {
        "id": "Qihx2OlDQEsE",
        "colab_type": "code",
        "colab": {
          "base_uri": "https://localhost:8080/",
          "height": 285
        },
        "outputId": "03aec0a0-a03a-4546-d1a6-63d6261d3603"
      },
      "cell_type": "code",
      "source": [
        "plt.imshow(model.predict(X_test)[2].reshape(72,72))"
      ],
      "execution_count": 209,
      "outputs": [
        {
          "output_type": "execute_result",
          "data": {
            "text/plain": [
              "<matplotlib.image.AxesImage at 0x7f0f128864e0>"
            ]
          },
          "metadata": {
            "tags": []
          },
          "execution_count": 209
        },
        {
          "output_type": "display_data",
          "data": {
            "image/png": "[encoded data removed]",
            "text/plain": [
              "<matplotlib.figure.Figure at 0x7f0f15c60dd8>"
            ]
          },
          "metadata": {
            "tags": []
          }
        }
      ]
    },
    {
      "metadata": {
        "id": "blGNOvrFbjjT",
        "colab_type": "text"
      },
      "cell_type": "markdown",
      "source": [
        "#### As we can see, the result is good but the ouput has dark gray patches where we would like it to be black, because the loss function didn't impose this.\n",
        "\n",
        "#### To achieve the desired result, we can fine-tune the network by freezing all layers, adding another convolutional layer and imposing a L1 or L2 loss"
      ]
    },
    {
      "metadata": {
        "id": "F0oC_wygeJd7",
        "colab_type": "code",
        "colab": {
          "base_uri": "https://localhost:8080/",
          "height": 248
        },
        "outputId": "f572ca6f-4a86-4926-889b-8b40482c913e"
      },
      "cell_type": "code",
      "source": [
        "for layer in model.layers:\n",
        "    layer.trainable = False\n",
        "    \n",
        "out = Conv2D(1, 2, activation = 'tanh', padding='same')(out)\n",
        "\n",
        "model = Model(input = [inputs], output = [out])\n",
        "from keras.optimizers import Adam\n",
        "adam = Adam(lr=0.001, beta_1=0.9, beta_2=0.999, epsilon=None, amsgrad=False)\n",
        "model.compile(optimizer = 'adam',\n",
        "loss = 'mean_squared_error', metrics=['accuracy'])\n",
        "\n",
        "#Train\n",
        "history = model.fit(X_train.reshape(-1,72,72,1), Y_train.reshape(-1,72,72,1), validation_split=0.15, epochs=5, batch_size=10)"
      ],
      "execution_count": 210,
      "outputs": [
        {
          "output_type": "stream",
          "text": [
            "/usr/local/lib/python3.6/dist-packages/ipykernel_launcher.py:6: UserWarning: Update your `Model` call to the Keras 2 API: `Model(inputs=[<tf.Tenso..., outputs=[<tf.Tenso...)`\n",
            "  \n"
          ],
          "name": "stderr"
        },
        {
          "output_type": "stream",
          "text": [
            "Train on 850 samples, validate on 150 samples\n",
            "Epoch 1/5\n",
            "850/850 [==============================] - 14s 17ms/step - loss: 0.4919 - acc: 0.2219 - val_loss: 0.3775 - val_acc: 0.2212\n",
            "Epoch 2/5\n",
            "850/850 [==============================] - 5s 6ms/step - loss: 0.3173 - acc: 0.6361 - val_loss: 0.2723 - val_acc: 0.9605\n",
            "Epoch 3/5\n",
            "850/850 [==============================] - 5s 6ms/step - loss: 0.2481 - acc: 0.9662 - val_loss: 0.2293 - val_acc: 0.9684\n",
            "Epoch 4/5\n",
            "850/850 [==============================] - 5s 6ms/step - loss: 0.2185 - acc: 0.9688 - val_loss: 0.2098 - val_acc: 0.9679\n",
            "Epoch 5/5\n",
            "850/850 [==============================] - 5s 6ms/step - loss: 0.2044 - acc: 0.9682 - val_loss: 0.1999 - val_acc: 0.9678\n"
          ],
          "name": "stdout"
        }
      ]
    },
    {
      "metadata": {
        "id": "rg5x-3fsceF9",
        "colab_type": "text"
      },
      "cell_type": "markdown",
      "source": [
        "####As we can see, the result is near-perfect, modulo some normalization"
      ]
    },
    {
      "metadata": {
        "id": "3vW-Zs5MfVP5",
        "colab_type": "code",
        "colab": {
          "base_uri": "https://localhost:8080/",
          "height": 486
        },
        "outputId": "27c03885-be64-47aa-c061-0aa970c283b6"
      },
      "cell_type": "code",
      "source": [
        "f, ax = plt.subplots(3, 5, sharey=True, figsize = (12,8))\n",
        "\n",
        "for i in range(5):\n",
        "  ax[0,i].imshow(X_test[i].reshape(72,72))\n",
        "  ax[1,i].imshow(model.predict(X_test)[i].reshape(72,72))\n",
        "  ax[2,i].imshow(Y_test[i].reshape(72,72))\n",
        "plt.show()"
      ],
      "execution_count": 211,
      "outputs": [
        {
          "output_type": "display_data",
          "data": {
            "image/png": "[encoded data removed]",
            "text/plain": [
              "<matplotlib.figure.Figure at 0x7f0f128868d0>"
            ]
          },
          "metadata": {
            "tags": []
          }
        }
      ]
    }
  ]
}